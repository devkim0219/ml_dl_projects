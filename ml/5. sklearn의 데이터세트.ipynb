{
 "cells": [
  {
   "cell_type": "markdown",
   "metadata": {},
   "source": [
    "### sklearn.datasets\n",
    "\n",
    "- 모형 실습을 위해서 예제 데이터 세트를 제공\n",
    "- 3가지 분류\n",
    "    - load 계열 : 저장되어 있다. -> 용량이 작다.\n",
    "    - fetch 계열 : 인터넷에서 캐시되어 다운로드 된다. -> 용량이 크다.\n",
    "    - make 계열 : 가상의 데이터 셋을 생성 -> 더미 데이터 생성"
   ]
  },
  {
   "cell_type": "code",
   "execution_count": null,
   "metadata": {},
   "outputs": [],
   "source": [
    "import sklearn.datasets as mls"
   ]
  },
  {
   "cell_type": "markdown",
   "metadata": {},
   "source": [
    "#### load() 계열\n",
    "\n",
    "- 작은 데이터부터 큰 것 까지 다양\n",
    "- 작은 것들은 패키지에 이미 배포, 큰 것은 요청시 다운로드해서 제공\n",
    "- 종류\n",
    "    - load_boston : 보스턴 집 값 -> 회귀 분석\n",
    "    - load_breast_cancer : 유방암 진단 자료 -> 분류 분석\n",
    "    - load_diabetes : 당뇨병 자료 -> 회귀 분석\n",
    "    - load_digits : 숫자 필기 이미지, MNIST 계열 -> 분류 분석\n",
    "    - load_files\n",
    "    - load_iris : 붓꽃 -> 분류 분석\n",
    "    - load_linnerud\n",
    "    - load_sample_image\n",
    "    - load_sample_images\n",
    "    - load_svmlight_file\n",
    "    - load_svmlight_files\n",
    "    - load_wine : 와인 등급 -> 분류 분석"
   ]
  },
  {
   "cell_type": "markdown",
   "metadata": {},
   "source": [
    "#### fetch() 계열\n",
    "\n",
    "- 데이터가 커서 처음에 설치가 안된다.\n",
    "- 요청을 하면 인터넷을 통해서 다운받아 제공\n",
    "- scikit_learn_data 밑으로 저장\n",
    "- 종류\n",
    "    - fetch_20newsgroups : 뉴스 그룹 텍스트 자료\n",
    "    - fetch_20newsgroups_vectorized\n",
    "    - fetch_california_housing\n",
    "    - fetch_covtype : 토지 조사 자료 -> 회귀 분석\n",
    "    - fetch_kddcup99\n",
    "    - fetch_lfw_pairs : 얼굴 이미지 자료\n",
    "    - fetch_lfw_people : 얼굴 이미지 자료\n",
    "    - fetch_mldata : ML 웹사이트 데이터\n",
    "    - fetch_olivetti_faces : 얼굴 이미지 자료\n",
    "    - fetch_openml\n",
    "    - fetch_rcv1 : 로이터 뉴스\n",
    "    - fetch_species_distributions"
   ]
  },
  {
   "cell_type": "markdown",
   "metadata": {},
   "source": [
    "#### make() 계열\n",
    "\n",
    "- 모형 실험을 위해서 가상으로 만드는 데이터 세트\n",
    "- 종류\n",
    "    - make_regression : 회귀 분석용 데이터 세트\n",
    "    - make_classification : 분류용 데이터 세트\n",
    "    - make_blobs : 클러스터링용 가상 데이터 세트\n",
    "    - make_biclusters\n",
    "    - make_checkerboard\n",
    "    - make_circles\n",
    "    - make_friedman1\n",
    "    - make_friedman2\n",
    "    - make_friedman3\n",
    "    - make_gaussian_quantiles\n",
    "    - make_hastie_10_2\n",
    "    - make_low_rank_matrix\n",
    "    - make_moons\n",
    "    - make_multilabel_classification\n",
    "    - make_s_curve\n",
    "    - make_sparse_coded_signal\n",
    "    - make_sparse_spd_matrix\n",
    "    - make_sparse_uncorrelated\n",
    "    - make_spd_matrix\n",
    "    - make_swiss_roll"
   ]
  },
  {
   "cell_type": "code",
   "execution_count": 3,
   "metadata": {},
   "outputs": [
    {
     "data": {
      "text/plain": [
       "sklearn.utils.Bunch"
      ]
     },
     "execution_count": 3,
     "metadata": {},
     "output_type": "execute_result"
    }
   ],
   "source": [
    "iris = mls.load_iris()\n",
    "type(iris)"
   ]
  },
  {
   "cell_type": "markdown",
   "metadata": {},
   "source": [
    "#### sklearn.utils.Bunch\n",
    "\n",
    "- sklearn 에서 제공되는 데이터는 이 형식을 대부분 따른다.\n",
    "- 변수\n",
    "    - DESCR : 데이터에 대한 총괄적 설명\n",
    "    - data : (필수)독립 변수의 ndarray(배열)\n",
    "    - target : (필수/단, 종류에 따라서 생략 가능)종속 변수의 ndarray(배열)    \n",
    "    - feature_names : (옵션)독립 변수의 이름(컬럼)\n",
    "    - target_names : (옵션)독립 변수의 이름 리스트(값에 해당되는 항목) setosa, ...\n",
    "    - filename : (데이터의)파일명"
   ]
  }
 ],
 "metadata": {
  "kernelspec": {
   "display_name": "Python 3",
   "language": "python",
   "name": "python3"
  },
  "language_info": {
   "codemirror_mode": {
    "name": "ipython",
    "version": 3
   },
   "file_extension": ".py",
   "mimetype": "text/x-python",
   "name": "python",
   "nbconvert_exporter": "python",
   "pygments_lexer": "ipython3",
   "version": "3.7.4"
  }
 },
 "nbformat": 4,
 "nbformat_minor": 4
}
