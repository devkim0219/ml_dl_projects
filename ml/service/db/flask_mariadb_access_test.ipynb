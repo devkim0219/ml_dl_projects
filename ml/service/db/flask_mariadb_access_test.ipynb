{
 "cells": [
  {
   "cell_type": "markdown",
   "metadata": {},
   "source": [
    "### 파이썬에서 mysql 계열 DB 엑세스\n",
    "\n",
    "- 모듈 : pymysql 사용\n",
    "    - $ conda install pymysql -y"
   ]
  },
  {
   "cell_type": "code",
   "execution_count": 1,
   "metadata": {},
   "outputs": [],
   "source": [
    "import pymysql"
   ]
  },
  {
   "cell_type": "code",
   "execution_count": 2,
   "metadata": {},
   "outputs": [],
   "source": [
    "# 1. 접속, 해제\n",
    "# 1-1. 접속 객체 생성 및 접속\n",
    "connection = pymysql.connect(host='localhost',\n",
    "                             user='root',\n",
    "                             password='1234',\n",
    "                             db='py_db',\n",
    "                             charset='utf8mb4',\n",
    "                             cursorclass=pymysql.cursors.DictCursor)"
   ]
  },
  {
   "cell_type": "code",
   "execution_count": 3,
   "metadata": {},
   "outputs": [],
   "source": [
    "if connection:\n",
    "    connection.close()"
   ]
  },
  {
   "cell_type": "code",
   "execution_count": 4,
   "metadata": {},
   "outputs": [],
   "source": [
    "# 2. 접속, 쿼리, 해제\n",
    "connection = pymysql.connect(host='localhost',\n",
    "                             user='root',\n",
    "                             password='1234',\n",
    "                             db='py_db',\n",
    "                             charset='utf8mb4',\n",
    "                             cursorclass=pymysql.cursors.DictCursor)\n",
    "\n",
    "try:\n",
    "    # 쿼리\n",
    "    with connection.cursor() as cursor:\n",
    "    \n",
    "        # 쿼리문\n",
    "        sql = '''\n",
    "        INSERT INTO `py_db`.`tbl_trans_lang_log` \n",
    "            (`oCode`, `tCode`, `oStr`, `tStc`) \n",
    "        VALUES \n",
    "            (%s, %s, %s, %s);\n",
    "        '''\n",
    "\n",
    "        # 쿼리수행\n",
    "        cursor.execute(sql, ('en', 'ko', 'hello2', '안녕2'))\n",
    "\n",
    "    # 커밋 수행(DB에 실제 반영)\n",
    "    connection.commit()\n",
    "    \n",
    "except Exception as e:\n",
    "    print(e)\n",
    "\n",
    "finally:\n",
    "    if connection:\n",
    "        connection.close()"
   ]
  },
  {
   "cell_type": "code",
   "execution_count": 5,
   "metadata": {},
   "outputs": [
    {
     "name": "stdout",
     "output_type": "stream",
     "text": [
      "1\n",
      "3 division by zero\n",
      "5\n"
     ]
    }
   ],
   "source": [
    "# 예외 처리 -> s/w는 죽으면 안된다.(-> 오류가 발생할만한 잠재적인 요인을 가진 부분에는\n",
    "# 모두다 예외 처리를 수행해야 한다.)\n",
    "try:\n",
    "    print(1)\n",
    "    1/0\n",
    "    print(2)\n",
    "except Exception as e:\n",
    "    print(3, e)\n",
    "else:\n",
    "    print(4)\n",
    "finally:\n",
    "    print(5)"
   ]
  },
  {
   "cell_type": "code",
   "execution_count": 6,
   "metadata": {},
   "outputs": [
    {
     "name": "stdout",
     "output_type": "stream",
     "text": [
      "1\n",
      "2\n",
      "4\n",
      "5\n"
     ]
    }
   ],
   "source": [
    "try:\n",
    "    print(1)\n",
    "    print(2)\n",
    "except Exception as e:\n",
    "    print(3, e)\n",
    "else:\n",
    "    print(4)\n",
    "finally:\n",
    "    print(5)"
   ]
  },
  {
   "cell_type": "code",
   "execution_count": 7,
   "metadata": {},
   "outputs": [
    {
     "name": "stdout",
     "output_type": "stream",
     "text": [
      "0\n",
      "1\n",
      "2\n",
      "3\n",
      "4\n",
      "정상적으로 모두다 반복 수행했다.\n"
     ]
    }
   ],
   "source": [
    "for n in range(5):\n",
    "    print(n)\n",
    "    \n",
    "else:\n",
    "    print('정상적으로 모두다 반복 수행했다.')"
   ]
  },
  {
   "cell_type": "code",
   "execution_count": 8,
   "metadata": {},
   "outputs": [
    {
     "name": "stdout",
     "output_type": "stream",
     "text": [
      "0\n",
      "1\n",
      "2\n"
     ]
    }
   ],
   "source": [
    "for n in range(5):\n",
    "    print(n)\n",
    "    \n",
    "    if n == 2:\n",
    "        break\n",
    "\n",
    "else:\n",
    "    print('정상적으로 모두다 반복 수행했다.')"
   ]
  },
  {
   "cell_type": "code",
   "execution_count": 12,
   "metadata": {},
   "outputs": [
    {
     "name": "stdout",
     "output_type": "stream",
     "text": [
      "((4, 'fr', 'ko', \"En 2000, Bong Joon-ho sort son premier long métrage Barking Dog. En 2003, il réalise Memories of Murder, un film tiré de l'histoire réelle d'un tueur en série. Le film est un grand succès et attire plus de 5 000 000 de spectateurs en Corée du Sud.\", '2000년에 봉준호는 첫 번째 오랜 간곡배에서 출발한다. 2003년에 그는 연쇄살인범에서 실렸던 실제 무더의 기억력을 실감한다. 영화는 대성공이며 한국에서 5000명 이상의 관객들을 끌어들이고 있다.', datetime.datetime(2020, 1, 17, 16, 5, 39)),)\n",
      "번열결과 샘플 2000년에 봉준호는 첫 번째 오랜 간곡배에서 출발한다. 2003년에 그는 연쇄살인범에서 실렸던 실제 무더의 기억력을 실감한다. 영화는 대성공이며 한국에서 5000명 이상의 관객들을 끌어들이고 있다.\n"
     ]
    }
   ],
   "source": [
    "connection = pymysql.connect(host='localhost',\n",
    "                             user='root',\n",
    "                             password='1234',\n",
    "                             db='py_db',\n",
    "                             charset='utf8mb4'\n",
    "                             )\n",
    "try:\n",
    "    with connection.cursor() as cursor:\n",
    "        sql = 'select * from tbl_trans_lang_log'     \n",
    "        cursor.execute(sql )\n",
    "        # 쿼리 결과를 가져와라\n",
    "        res = cursor.fetchall()\n",
    "        # 테이블의 컬럼 순서가 바뀌면 이것을 사용한 코드도 다 영향을 받는다\n",
    "        print( res )\n",
    "        print( '번열결과 샘플', res[0][4] )\n",
    "except Exception as e:\n",
    "    print(e)\n",
    "finally:    \n",
    "    if connection:\n",
    "        connection.close()"
   ]
  },
  {
   "cell_type": "code",
   "execution_count": 13,
   "metadata": {},
   "outputs": [
    {
     "name": "stdout",
     "output_type": "stream",
     "text": [
      "번열결과 샘플 2000년에 봉준호는 첫 번째 오랜 간곡배에서 출발한다. 2003년에 그는 연쇄살인범에서 실렸던 실제 무더의 기억력을 실감한다. 영화는 대성공이며 한국에서 5000명 이상의 관객들을 끌어들이고 있다.\n"
     ]
    }
   ],
   "source": [
    "connection = pymysql.connect(host='localhost',\n",
    "                             user='root',\n",
    "                             password='1234',\n",
    "                             db='py_db',\n",
    "                             charset='utf8mb4',\n",
    "                             cursorclass=pymysql.cursors.DictCursor\n",
    "                             )\n",
    "try:\n",
    "    with connection.cursor() as cursor:\n",
    "        sql = 'select * from tbl_trans_lang_log'     \n",
    "        cursor.execute(sql )\n",
    "        res = cursor.fetchall()\n",
    "        # DictCursor를 사용하면 데이터 한개 (row)가 딕셔너리(순서가 없다)로 오니 키로 뽑으면된다 \n",
    "        # 테이블의 컬럼 순서가 변경되도 영향을 받지 않는다\n",
    "        print( '번열결과 샘플', res[0]['tStc'] )\n",
    "except Exception as e:\n",
    "    print(e)\n",
    "finally:    \n",
    "    if connection:\n",
    "        connection.close()"
   ]
  },
  {
   "cell_type": "code",
   "execution_count": 14,
   "metadata": {},
   "outputs": [],
   "source": [
    "# 3. 접속, 쿼리, 해제 모듈화(함수화)\n",
    "# 3-1. 2단계에서 구현한 내용을 함수로 작성\n",
    "# 3-2. db 폴더 밑에 __init__.py 파일 생성\n",
    "# 3-3. 해당 함수를 __init__.py 파일에 붙여넣기\n",
    "# 3-4. ml/__init__.py 에 해당 모듈(위의 함수가 있는)을 가져와서 로그 저장 부분 완성\n",
    "# vscode 에서 구현함"
   ]
  },
  {
   "cell_type": "code",
   "execution_count": null,
   "metadata": {},
   "outputs": [],
   "source": []
  }
 ],
 "metadata": {
  "kernelspec": {
   "display_name": "Python 3",
   "language": "python",
   "name": "python3"
  },
  "language_info": {
   "codemirror_mode": {
    "name": "ipython",
    "version": 3
   },
   "file_extension": ".py",
   "mimetype": "text/x-python",
   "name": "python",
   "nbconvert_exporter": "python",
   "pygments_lexer": "ipython3",
   "version": "3.7.4"
  }
 },
 "nbformat": 4,
 "nbformat_minor": 4
}
