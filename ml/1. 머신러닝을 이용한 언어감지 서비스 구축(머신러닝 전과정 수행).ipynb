{
 "cells": [
  {
   "cell_type": "markdown",
   "metadata": {},
   "source": [
    "## 머신러닝을 이용하여 언어 감지 서비스 구축\n",
    "\n",
    "### 1. 연구 목표 설정\n",
    "\n",
    "- 유사서비스 : 파파고, 구글 번역\n",
    "- 개요\n",
    "    - 번역 서비스 중 언어 감지 파트는 머신러닝의 지도학습법 중 분류를 사용하겠다.\n",
    "    - 알파벳을 사용하는 영어권에서 알파벳 언어별로 알파벳의 사용 빈도가 다르다.\n",
    "- 조건\n",
    "    - 비 영어권은 개별 방법론(완성형(utf-8), 조합형 코드(euc-kr)를 이용하여 판단) 배제\n",
    "    - 임시값(100byte) 이내 문자열을 배제, 임시값의 임계값은 변경될 수 있다.\n",
    "    - 번역서비스는 딥러닝의 RNN을 활용하여 처리하는데 여기서는 배제 / 단, 파파고 API를 활용하여 유사하게 구현\n",
    "    - 서비스가 오픈하고 데이터가 축적되면 모델을 갱신(언어는 진화하니까), 모델을 다시 학습하고 교체를 진행하는데 원활하게 수행되도록 처리(전략) / 일단 여기서는 데이터 축적"
   ]
  },
  {
   "cell_type": "markdown",
   "metadata": {},
   "source": [
    "|No|단계|내용|\n",
    "|:---:|:---|:---|\n",
    "|1|연구 목표 설정|- 웹서비스<br>- 사용자가 입력한 텍스트를 예측하여 어떤 언어인지 판독한다.(영어권, 알파벳 사용국가)<br>- 머신러닝의 지도학습-분류를 사용하겠다.<br>- 파이프라인 구축, 하이퍼파라미터 튜닝을 이용한 최적화 부분은 제외<br>- 정량적인 목표치는 생략(평가 배제)<br>- 임시값(100byte) 이내 문자열을 배제<br>- 논문을 통한 주장의 근거를 체크|\n",
    "|2|데이터 획득/수집|- 실전: 다양한 텍스트를 수집, 위키피디아, 법률, 소설 등<br>- 구현: 제공데이터를 사용(법령/대본/소설 등)|\n",
    "|3|데이터 준비/통찰/전처리|- 알파벳을 제외한 모든 문자 제거(전처리, 정규식)<br>- 텍스트를 알파벳의 출현 빈도로 계산한다.(문자 계산, 데이터의 수치화)<br>- 데이터는 훈련 데이터(훈련(50), 검증(25))와 테스트 데이터(25)로 나눈다.(훈련:테스트 = 75:25, 황금비율 / 단, 바뀔 수 있다.)|\n",
    "|4|데이터 탐색/통찰/시각화|- 논문의 주장을 증명<br>- 영어권 언어별로 알파벳 출현 빈도가 다르다는 명제를 증명/확인<br>- EDA 분석(시각화)를 이용하여 확인, 선형차트, 바차트 등을 활용|\n",
    "|5|데이터 모델링 및 모델 구축|- 알고리즘 선정<br>- 학습 데이터/테스트 데이터 준비<br>- 학습<br>- 예측<br>- 성능평가(학습법, 하위 카테고리까지 검토 평가)<br>- 파이프라인 구축을 통하여 알고리즘 체인을 적용, 최적의 알고리즘 조합을 찾는다.<br>- 연구 목표에 도착할 때까지 반복<br>- 모델 덤프(학습된 알고리즘을 파일로 덤프)|\n",
    "|6|시스템 통합|- 웹서비스 구축(flask 간단하게 구성)<br>- 서비스 구축<br>- 모델의 업그레이드를 위한 시스템 추가<br>- 선순환 구조를 위한 번역 요청 데이터의 로그 처리 -> 배치학습, 온라인 학습 등으로 연결되어 완성|"
   ]
  },
  {
   "cell_type": "markdown",
   "metadata": {},
   "source": [
    "### 2. 데이터 획득\n",
    "\n",
    "- 실전: 다양한 텍스트를 수집, 위키피디아, 법률, 소설 등\n",
    "    - 라이브러리 : request, BS4 (Lv3)\n",
    "    - 사이트 : https://국가코드.wikipedia.org/wiki/검색어\n",
    "        - 예) https://en.wikipedia.org/wiki/Bong_Joon-ho\n",
    "- 구현: 제공 데이터를 사용(법령/대본/소설 등)"
   ]
  },
  {
   "cell_type": "code",
   "execution_count": 4,
   "metadata": {},
   "outputs": [],
   "source": [
    "# 모듈 가져오기\n",
    "import urllib.request as req\n",
    "from bs4 import BeautifulSoup"
   ]
  },
  {
   "cell_type": "code",
   "execution_count": 5,
   "metadata": {},
   "outputs": [
    {
     "data": {
      "text/plain": [
       "'https://en.wikipedia.org/wiki/Bong_Joon-ho'"
      ]
     },
     "execution_count": 5,
     "metadata": {},
     "output_type": "execute_result"
    }
   ],
   "source": [
    "# 데이터 획득 사이트 규격화\n",
    "target_site = 'https://{na_code}.wikipedia.org/wiki/{keyword}'.format(na_code='en', keyword='Bong_Joon-ho')\n",
    "target_site"
   ]
  },
  {
   "cell_type": "code",
   "execution_count": 6,
   "metadata": {},
   "outputs": [
    {
     "data": {
      "text/plain": [
       "(22, list)"
      ]
     },
     "execution_count": 6,
     "metadata": {},
     "output_type": "execute_result"
    }
   ],
   "source": [
    "# 요청 및 SOUP 생성(DOM 트리)\n",
    "# html5lib 파서 사용 이유: 대량의 html을 파싱하기 위해 안정성 고려\n",
    "soup = BeautifulSoup(req.urlopen(target_site), 'html5lib')\n",
    "tmp = soup.select('#mw-content-text p')\n",
    "len(tmp), type(tmp)"
   ]
  },
  {
   "cell_type": "code",
   "execution_count": 7,
   "metadata": {},
   "outputs": [
    {
     "data": {
      "text/plain": [
       "(22, [' Media related to Bong Joon-ho at Wikimedia Commons\\n'])"
      ]
     },
     "execution_count": 7,
     "metadata": {},
     "output_type": "execute_result"
    }
   ],
   "source": [
    "# p 밑에 있는 모든 텍스트를 리스트에 모아 둔다. -> 멤버수가 -> 22개\n",
    "# 리스트 내포\n",
    "texts = [p.text for p in tmp]\n",
    "len(texts), texts[-1:]"
   ]
  },
  {
   "cell_type": "code",
   "execution_count": 8,
   "metadata": {},
   "outputs": [
    {
     "data": {
      "text/plain": [
       "(str,\n",
       " 13245,\n",
       " '\\nBong Joon-ho (Korean:\\xa0봉준호, Korean pronunciation:\\xa0[poːŋ tɕuːnho → poːŋdʑunɦo]; born September 14, 19')"
      ]
     },
     "execution_count": 8,
     "metadata": {},
     "output_type": "execute_result"
    }
   ],
   "source": [
    "# 수집한 데이터를 한 개의 텍스트 덩어리로 획득\n",
    "str_text = ''.join(texts)\n",
    "type(str_text), len(str_text), str_text[:100]"
   ]
  },
  {
   "cell_type": "code",
   "execution_count": 9,
   "metadata": {},
   "outputs": [],
   "source": [
    "# 정규식을 활용하여 알파벳만 남긴다.\n",
    "import re"
   ]
  },
  {
   "cell_type": "code",
   "execution_count": 10,
   "metadata": {},
   "outputs": [],
   "source": [
    "p = re.compile('[^a-zA-Z]*')"
   ]
  },
  {
   "cell_type": "code",
   "execution_count": 11,
   "metadata": {},
   "outputs": [
    {
     "data": {
      "text/plain": [
       "(10215, 'bongjoonhokoreankoreanpronunciationpotunhopodunobo')"
      ]
     },
     "execution_count": 11,
     "metadata": {},
     "output_type": "execute_result"
    }
   ],
   "source": [
    "tmp = p.sub('', str_text)\n",
    "\n",
    "# 전부 소문자로 처리\n",
    "len(tmp), tmp.lower()[:50]"
   ]
  },
  {
   "cell_type": "markdown",
   "metadata": {},
   "source": [
    "### 3. 데이터 준비\n",
    "\n",
    "- 알파벳을 제외한 모든 문자 제거(전처리, 정규식)\n",
    "    - 편의상 앞단게에서 같이 병행 처리했다.\n",
    "    - 제공 데이터에서는 여기서 실제 처리하겠다.\n",
    "- 텍스트를 알파벳의 출현 빈도로 계산한다.(문자 계산, 데이터의 수치화)\n",
    "- 데이터는 훈련 데이터(훈련(50), 검증(25))와 테스트 데이터(25)로 나눈다.(훈련:테스트 = 75:25, 황금비율 / 단, 바뀔 수 있다.)"
   ]
  },
  {
   "cell_type": "code",
   "execution_count": 12,
   "metadata": {},
   "outputs": [],
   "source": [
    "# 데이터를 모두 읽어들인다. -> 파일 목록이 필요\n",
    "# glob: 특정 패턴을 부여해서 특정 위치의 파일 목록을 가져온다.\n",
    "import os.path, glob"
   ]
  },
  {
   "cell_type": "code",
   "execution_count": 13,
   "metadata": {},
   "outputs": [
    {
     "data": {
      "text/plain": [
       "(20, list, ['./data/train\\\\en-1.txt', './data/train\\\\en-2.txt'])"
      ]
     },
     "execution_count": 13,
     "metadata": {},
     "output_type": "execute_result"
    }
   ],
   "source": [
    "file_list = glob.glob('./data/train/*.txt')\n",
    "len(file_list), type(file_list), file_list[:2]"
   ]
  },
  {
   "cell_type": "code",
   "execution_count": 14,
   "metadata": {},
   "outputs": [
    {
     "data": {
      "text/plain": [
       "'./data/train\\\\en-1.txt'"
      ]
     },
     "execution_count": 14,
     "metadata": {},
     "output_type": "execute_result"
    }
   ],
   "source": [
    "# 파일을 읽어서 알파벳 별 빈도 계산, 그런 데이터가 en 혹은 fr 등\n",
    "# 이 데이터가 어떤 언어인지(레이블, 정답)까지 데이터화 한다.\n",
    "# 1. 파일경로 획득\n",
    "fName = file_list[0]\n",
    "fName"
   ]
  },
  {
   "cell_type": "code",
   "execution_count": 15,
   "metadata": {},
   "outputs": [
    {
     "data": {
      "text/plain": [
       "'en-1.txt'"
      ]
     },
     "execution_count": 15,
     "metadata": {},
     "output_type": "execute_result"
    }
   ],
   "source": [
    "# 2. 파일명 획득\n",
    "name = os.path.basename(fName)\n",
    "name"
   ]
  },
  {
   "cell_type": "code",
   "execution_count": 16,
   "metadata": {},
   "outputs": [
    {
     "data": {
      "text/plain": [
       "'en'"
      ]
     },
     "execution_count": 16,
     "metadata": {},
     "output_type": "execute_result"
    }
   ],
   "source": [
    "# 3. 파일명에는 정답(레이블)이 들어있다. 이것을 추출\n",
    "# 확장성을 고려하여 정규식으로 처리\n",
    "p = re.compile('^[a-z]{2,}')\n",
    "\n",
    "if p.match(name):\n",
    "    lang = p.match(name).group()\n",
    "else:\n",
    "    print('일치하지 않음')\n",
    "lang"
   ]
  },
  {
   "cell_type": "code",
   "execution_count": 17,
   "metadata": {},
   "outputs": [
    {
     "data": {
      "text/plain": [
       "(4595, 'themainhenryfordmuseumbuildinghousessomeoftheclass', str)"
      ]
     },
     "execution_count": 17,
     "metadata": {},
     "output_type": "execute_result"
    }
   ],
   "source": [
    "# 4. 알파벳 빈도 계산\n",
    "# with : 입출력(I/O) 계열에서 사용, close를 자동으로 처리\n",
    "with open(fName, 'r', encoding='utf-8') as f:\n",
    "    # 4-1. 파일을 읽는다.\n",
    "    # print(f.read())\n",
    "    \n",
    "    # 4-2. 소문자로 처리\n",
    "    text = f.read().lower()\n",
    "    \n",
    "    # 4-3. 알파벳만 남긴다.(정규식으로 전처리)\n",
    "    # 정규식을 필요에 의해서 보정이 더 가능\n",
    "    p = re.compile('[^a-z]')\n",
    "    text = p.sub('', text)\n",
    "\n",
    "len(text), text[:50], type(text)"
   ]
  },
  {
   "cell_type": "code",
   "execution_count": 18,
   "metadata": {},
   "outputs": [
    {
     "name": "stdout",
     "output_type": "stream",
     "text": [
      "[349, 59, 210, 212, 484, 72, 88, 201, 340, 8, 25, 247, 121, 356, 412, 76, 0, 357, 282, 370, 119, 45, 65, 3, 92, 2]\n"
     ]
    },
    {
     "data": {
      "text/plain": [
       "(None, 4595, 4595, 0, 484)"
      ]
     },
     "execution_count": 18,
     "metadata": {},
     "output_type": "execute_result"
    }
   ],
   "source": [
    "# 4-4. 알파벳 별로 카운트 계산 -> 효율적인 로직, 방법이 필요\n",
    "# 알파벳 한개 한개를 카운트해서 담을 그릇(공간) -> 순서가 존재\n",
    "# 알파벳은 개수가? 26개\n",
    "counts = [0 for n in range(26)]\n",
    "\n",
    "# a -> 0, b -> 1, ... z -> 25 알파벳 순으로 리스트의 멤버 인덱스를 적용\n",
    "# 한 문자씩 읽는다.\n",
    "for word in text:    \n",
    "    counts[ord(word) - ord('a')] += 1\n",
    "    \n",
    "# 원본, 리스트의 멤버들의 카운트 총합 == 문자열의 수\n",
    "print(counts), sum(counts), len(text), min(counts), max(counts)\n",
    "\n",
    "# 카운트 데이터를 들여다보니 값의 편차가 크다. -> 학습 효과가 저하 \n",
    "# -> 값을 특정 구간으로 재배치 -> 정규화 0~1 사이로 -> a 빈도/총 빈도, ... z 빈도/ 총 빈도"
   ]
  },
  {
   "cell_type": "code",
   "execution_count": 19,
   "metadata": {},
   "outputs": [
    {
     "data": {
      "text/plain": [
       "([0.07595212187159957, 0.012840043525571273], 26, 1.0)"
      ]
     },
     "execution_count": 19,
     "metadata": {},
     "output_type": "execute_result"
    }
   ],
   "source": [
    "# 연속 데이터 타입의 멤버들을 하나씩 접근해서 뭔가 작업을 해야 한다. -> map()\n",
    "total_count = sum(counts)\n",
    "freq = list(map(lambda x: x / total_count, counts))\n",
    "freq[:2], len(freq), sum(freq)"
   ]
  },
  {
   "cell_type": "code",
   "execution_count": 20,
   "metadata": {},
   "outputs": [
    {
     "name": "stdout",
     "output_type": "stream",
     "text": [
      "('en', [0.07595212187159957, 0.012840043525571273, 0.04570184983677911, 0.04613710554951034, 0.10533188248095757, 0.015669205658324265, 0.019151251360174103, 0.043743199129488576, 0.07399347116430903, 0.0017410228509249185, 0.00544069640914037, 0.05375408052230685, 0.026332970620239392, 0.07747551686615888, 0.08966267682263329, 0.016539717083786723, 0.0, 0.07769314472252448, 0.061371055495103376, 0.08052230685527748, 0.02589771490750816, 0.009793253536452665, 0.014145810663764961, 0.0006528835690968443, 0.02002176278563656, 0.0004352557127312296])\n"
     ]
    }
   ],
   "source": [
    "# 파일 경로를 넣으면 -> 정답(국가 코드), 알파벳 빈도를 계산한 데이터를 리턴하는 함수\n",
    "def detect_trans_lang_freq(file_path):\n",
    "    \n",
    "    # 파일명 획득\n",
    "    name = os.path.basename(file_path)\n",
    "    \n",
    "    # 정답, 국가 코드 획득\n",
    "    p = re.compile('^[a-z]{2,}')\n",
    "    \n",
    "    if p.match(name):\n",
    "        lang = p.match(name).group()\n",
    "    else:\n",
    "        return None, None\n",
    "    \n",
    "    # -------------------------------------\n",
    "    \n",
    "    with open(file_path, 'r', encoding='utf-8') as f:\n",
    "        text = f.read().lower()    # 전부 읽어서 소문자로 리턴\n",
    "        p = re.compile('[^a-z]')   # 정규식(알파벳 소문자만 제외)\n",
    "        text = p.sub('', text)     # 소문자만 남는다.\n",
    "        \n",
    "    counts = [0 for n in range(26)]    # 알파벳 별 카운트를 담을 공간(리스트)\n",
    "    \n",
    "    limit_a = ord('a')    # 매번 반복해서 작업하니까 그냥 최초 한 번 변수로 받아서 사용\n",
    "    for word in text:\n",
    "        counts[ord(word) - limit_a] += 1    # 문자 한 개당 카운트 추가\n",
    "    \n",
    "    # 빈도수는 값이 너무 퍼져 있어서 0~1 사이로 정규화를 하겠다. -> 학습 효과가 뛰어나니까\n",
    "    total_count = sum(counts)\n",
    "    freq = list(map(lambda x: x / total_count, counts))\n",
    "    \n",
    "    return lang, freq\n",
    "\n",
    "print(detect_trans_lang_freq(fName))"
   ]
  },
  {
   "cell_type": "code",
   "execution_count": 21,
   "metadata": {},
   "outputs": [
    {
     "data": {
      "text/plain": [
       "(['en', 'en'], [0.07595212187159957, 0.012840043525571273])"
      ]
     },
     "execution_count": 21,
     "metadata": {},
     "output_type": "execute_result"
    }
   ],
   "source": [
    "# train을 입력으로 넣으면 훈련용 데이터를 모두 가져온다. (<-> test)\n",
    "def load_data(style='train'):\n",
    "    langs = []\n",
    "    freqs = []\n",
    "    \n",
    "    file_list = glob.glob('./data/%s/*.txt' % style)\n",
    "    \n",
    "    for file in file_list:\n",
    "        lang, freq = detect_trans_lang_freq(file)\n",
    "        langs.append(lang)\n",
    "        freqs.append(freq)\n",
    "        \n",
    "    # 딕셔너리 정적 구성으로 최종 데이터 형태를 맞춰준다. -> DataFrame 형태 고려   \n",
    "    return {'labels': langs, 'freqs': freqs}\n",
    "\n",
    "load_data()['labels'][:2], load_data()['freqs'][:2][0][:2]"
   ]
  },
  {
   "cell_type": "code",
   "execution_count": 22,
   "metadata": {},
   "outputs": [
    {
     "data": {
      "text/plain": [
       "(['en', 'en'], [0.06782261776891207, 0.013459304237269558])"
      ]
     },
     "execution_count": 22,
     "metadata": {},
     "output_type": "execute_result"
    }
   ],
   "source": [
    "load_data('test')['labels'][:2], load_data('test')['freqs'][:2][0][:2]"
   ]
  },
  {
   "cell_type": "code",
   "execution_count": 23,
   "metadata": {},
   "outputs": [],
   "source": [
    "# 훈련용\n",
    "train_data = load_data()\n",
    "\n",
    "# 테스트용\n",
    "test_data = load_data('test')"
   ]
  },
  {
   "cell_type": "code",
   "execution_count": 24,
   "metadata": {},
   "outputs": [
    {
     "data": {
      "text/plain": [
       "(20, 20)"
      ]
     },
     "execution_count": 24,
     "metadata": {},
     "output_type": "execute_result"
    }
   ],
   "source": [
    "len(train_data['labels']), len(train_data['freqs'])"
   ]
  },
  {
   "cell_type": "code",
   "execution_count": 25,
   "metadata": {},
   "outputs": [
    {
     "data": {
      "text/plain": [
       "(8, 8)"
      ]
     },
     "execution_count": 25,
     "metadata": {},
     "output_type": "execute_result"
    }
   ],
   "source": [
    "len(test_data['labels']), len(test_data['freqs']) "
   ]
  },
  {
   "cell_type": "code",
   "execution_count": 26,
   "metadata": {},
   "outputs": [],
   "source": [
    "# 최종 준비된 데이터를 덤프해서 4단계로 제공\n",
    "import json"
   ]
  },
  {
   "cell_type": "code",
   "execution_count": 27,
   "metadata": {},
   "outputs": [],
   "source": [
    "with open('./data/labels_freqs_.json', 'w', encoding='utf-8') as f:\n",
    "    json.dump([train_data, test_data], f)"
   ]
  },
  {
   "cell_type": "markdown",
   "metadata": {},
   "source": [
    "### 4. 데이터 탐색\n",
    "\n",
    "- 논문의 주장을 증명\n",
    "- 영어권 언어별로 알파벳 출현 빈도가 다르다는 명제를 증명/확인\n",
    "- EDA 분석(시각화)를 이용하여 확인, 선형차트, 바차트 등을 활용"
   ]
  },
  {
   "cell_type": "code",
   "execution_count": 28,
   "metadata": {},
   "outputs": [],
   "source": [
    "import numpy as np\n",
    "import pandas as pd\n",
    "import matplotlib.pyplot as plt\n",
    "\n",
    "%matplotlib inline"
   ]
  },
  {
   "cell_type": "code",
   "execution_count": 29,
   "metadata": {},
   "outputs": [
    {
     "data": {
      "text/plain": [
       "(2, ['en', 'en'], 0.07595212187159957)"
      ]
     },
     "execution_count": 29,
     "metadata": {},
     "output_type": "execute_result"
    }
   ],
   "source": [
    "# 데이터 적재\n",
    "with open('./data/labels_freqs_.json', 'r', encoding='utf-8') as f:\n",
    "    data = json.load(f)\n",
    "    \n",
    "len(data), data[0]['labels'][:2], data[0]['freqs'][0][0]"
   ]
  },
  {
   "cell_type": "code",
   "execution_count": 30,
   "metadata": {},
   "outputs": [
    {
     "data": {
      "text/plain": [
       "(20, 20)"
      ]
     },
     "execution_count": 30,
     "metadata": {},
     "output_type": "execute_result"
    }
   ],
   "source": [
    "# 훈련 데이터 크기\n",
    "len(data[0]['labels']), len(data[0]['freqs'])"
   ]
  },
  {
   "cell_type": "code",
   "execution_count": 31,
   "metadata": {},
   "outputs": [
    {
     "data": {
      "text/plain": [
       "(8, 8)"
      ]
     },
     "execution_count": 31,
     "metadata": {},
     "output_type": "execute_result"
    }
   ],
   "source": [
    "# 테스트 데이터 크기\n",
    "len(data[1]['labels']), len(data[1]['freqs'])"
   ]
  },
  {
   "cell_type": "code",
   "execution_count": 32,
   "metadata": {},
   "outputs": [
    {
     "data": {
      "text/plain": [
       "(20, 26)"
      ]
     },
     "execution_count": 32,
     "metadata": {},
     "output_type": "execute_result"
    }
   ],
   "source": [
    "# 훈련 데이터를 df로 변환\n",
    "df_freqs = pd.DataFrame(data[0]['freqs'])\n",
    "df_freqs.shape"
   ]
  },
  {
   "cell_type": "code",
   "execution_count": 33,
   "metadata": {},
   "outputs": [
    {
     "data": {
      "text/html": [
       "<div>\n",
       "<style scoped>\n",
       "    .dataframe tbody tr th:only-of-type {\n",
       "        vertical-align: middle;\n",
       "    }\n",
       "\n",
       "    .dataframe tbody tr th {\n",
       "        vertical-align: top;\n",
       "    }\n",
       "\n",
       "    .dataframe thead th {\n",
       "        text-align: right;\n",
       "    }\n",
       "</style>\n",
       "<table border=\"1\" class=\"dataframe\">\n",
       "  <thead>\n",
       "    <tr style=\"text-align: right;\">\n",
       "      <th></th>\n",
       "      <th>0</th>\n",
       "      <th>1</th>\n",
       "      <th>2</th>\n",
       "      <th>3</th>\n",
       "      <th>4</th>\n",
       "      <th>5</th>\n",
       "      <th>6</th>\n",
       "      <th>7</th>\n",
       "      <th>8</th>\n",
       "      <th>9</th>\n",
       "      <th>...</th>\n",
       "      <th>16</th>\n",
       "      <th>17</th>\n",
       "      <th>18</th>\n",
       "      <th>19</th>\n",
       "      <th>20</th>\n",
       "      <th>21</th>\n",
       "      <th>22</th>\n",
       "      <th>23</th>\n",
       "      <th>24</th>\n",
       "      <th>25</th>\n",
       "    </tr>\n",
       "  </thead>\n",
       "  <tbody>\n",
       "    <tr>\n",
       "      <td>0</td>\n",
       "      <td>0.075952</td>\n",
       "      <td>0.012840</td>\n",
       "      <td>0.045702</td>\n",
       "      <td>0.046137</td>\n",
       "      <td>0.105332</td>\n",
       "      <td>0.015669</td>\n",
       "      <td>0.019151</td>\n",
       "      <td>0.043743</td>\n",
       "      <td>0.073993</td>\n",
       "      <td>0.001741</td>\n",
       "      <td>...</td>\n",
       "      <td>0.000000</td>\n",
       "      <td>0.077693</td>\n",
       "      <td>0.061371</td>\n",
       "      <td>0.080522</td>\n",
       "      <td>0.025898</td>\n",
       "      <td>0.009793</td>\n",
       "      <td>0.014146</td>\n",
       "      <td>0.000653</td>\n",
       "      <td>0.020022</td>\n",
       "      <td>0.000435</td>\n",
       "    </tr>\n",
       "    <tr>\n",
       "      <td>1</td>\n",
       "      <td>0.084178</td>\n",
       "      <td>0.019912</td>\n",
       "      <td>0.030404</td>\n",
       "      <td>0.038870</td>\n",
       "      <td>0.136998</td>\n",
       "      <td>0.017408</td>\n",
       "      <td>0.031239</td>\n",
       "      <td>0.027423</td>\n",
       "      <td>0.075355</td>\n",
       "      <td>0.002623</td>\n",
       "      <td>...</td>\n",
       "      <td>0.005485</td>\n",
       "      <td>0.090140</td>\n",
       "      <td>0.071659</td>\n",
       "      <td>0.077739</td>\n",
       "      <td>0.030643</td>\n",
       "      <td>0.013712</td>\n",
       "      <td>0.013950</td>\n",
       "      <td>0.002027</td>\n",
       "      <td>0.010731</td>\n",
       "      <td>0.000596</td>\n",
       "    </tr>\n",
       "  </tbody>\n",
       "</table>\n",
       "<p>2 rows × 26 columns</p>\n",
       "</div>"
      ],
      "text/plain": [
       "         0         1         2         3         4         5         6   \\\n",
       "0  0.075952  0.012840  0.045702  0.046137  0.105332  0.015669  0.019151   \n",
       "1  0.084178  0.019912  0.030404  0.038870  0.136998  0.017408  0.031239   \n",
       "\n",
       "         7         8         9   ...        16        17        18        19  \\\n",
       "0  0.043743  0.073993  0.001741  ...  0.000000  0.077693  0.061371  0.080522   \n",
       "1  0.027423  0.075355  0.002623  ...  0.005485  0.090140  0.071659  0.077739   \n",
       "\n",
       "         20        21        22        23        24        25  \n",
       "0  0.025898  0.009793  0.014146  0.000653  0.020022  0.000435  \n",
       "1  0.030643  0.013712  0.013950  0.002027  0.010731  0.000596  \n",
       "\n",
       "[2 rows x 26 columns]"
      ]
     },
     "execution_count": 33,
     "metadata": {},
     "output_type": "execute_result"
    }
   ],
   "source": [
    "df_freqs.head(2)"
   ]
  },
  {
   "cell_type": "code",
   "execution_count": 34,
   "metadata": {},
   "outputs": [
    {
     "data": {
      "text/plain": [
       "(20, 1)"
      ]
     },
     "execution_count": 34,
     "metadata": {},
     "output_type": "execute_result"
    }
   ],
   "source": [
    "df_labels = pd.DataFrame(data[0]['labels'])\n",
    "df_labels.shape"
   ]
  },
  {
   "cell_type": "code",
   "execution_count": 35,
   "metadata": {},
   "outputs": [
    {
     "data": {
      "text/html": [
       "<div>\n",
       "<style scoped>\n",
       "    .dataframe tbody tr th:only-of-type {\n",
       "        vertical-align: middle;\n",
       "    }\n",
       "\n",
       "    .dataframe tbody tr th {\n",
       "        vertical-align: top;\n",
       "    }\n",
       "\n",
       "    .dataframe thead th {\n",
       "        text-align: right;\n",
       "    }\n",
       "</style>\n",
       "<table border=\"1\" class=\"dataframe\">\n",
       "  <thead>\n",
       "    <tr style=\"text-align: right;\">\n",
       "      <th></th>\n",
       "      <th>0</th>\n",
       "    </tr>\n",
       "  </thead>\n",
       "  <tbody>\n",
       "    <tr>\n",
       "      <td>0</td>\n",
       "      <td>en</td>\n",
       "    </tr>\n",
       "    <tr>\n",
       "      <td>1</td>\n",
       "      <td>en</td>\n",
       "    </tr>\n",
       "  </tbody>\n",
       "</table>\n",
       "</div>"
      ],
      "text/plain": [
       "    0\n",
       "0  en\n",
       "1  en"
      ]
     },
     "execution_count": 35,
     "metadata": {},
     "output_type": "execute_result"
    }
   ],
   "source": [
    "df_labels.head(2)"
   ]
  },
  {
   "cell_type": "code",
   "execution_count": 36,
   "metadata": {},
   "outputs": [
    {
     "data": {
      "text/html": [
       "<div>\n",
       "<style scoped>\n",
       "    .dataframe tbody tr th:only-of-type {\n",
       "        vertical-align: middle;\n",
       "    }\n",
       "\n",
       "    .dataframe tbody tr th {\n",
       "        vertical-align: top;\n",
       "    }\n",
       "\n",
       "    .dataframe thead th {\n",
       "        text-align: right;\n",
       "    }\n",
       "</style>\n",
       "<table border=\"1\" class=\"dataframe\">\n",
       "  <thead>\n",
       "    <tr style=\"text-align: right;\">\n",
       "      <th></th>\n",
       "      <th>label</th>\n",
       "    </tr>\n",
       "  </thead>\n",
       "  <tbody>\n",
       "    <tr>\n",
       "      <td>0</td>\n",
       "      <td>en</td>\n",
       "    </tr>\n",
       "    <tr>\n",
       "      <td>1</td>\n",
       "      <td>en</td>\n",
       "    </tr>\n",
       "  </tbody>\n",
       "</table>\n",
       "</div>"
      ],
      "text/plain": [
       "  label\n",
       "0    en\n",
       "1    en"
      ]
     },
     "execution_count": 36,
     "metadata": {},
     "output_type": "execute_result"
    }
   ],
   "source": [
    "df_labels.columns = ['label']\n",
    "df_labels.head(2)"
   ]
  },
  {
   "cell_type": "code",
   "execution_count": 37,
   "metadata": {},
   "outputs": [
    {
     "data": {
      "text/plain": [
       "(20, 27)"
      ]
     },
     "execution_count": 37,
     "metadata": {},
     "output_type": "execute_result"
    }
   ],
   "source": [
    "# 가로 방향으로 2개의 df를 병합한다.\n",
    "df_tmp = pd.concat([df_freqs, df_labels], sort=True, axis=1)\n",
    "df_tmp.shape"
   ]
  },
  {
   "cell_type": "code",
   "execution_count": 38,
   "metadata": {},
   "outputs": [
    {
     "data": {
      "text/html": [
       "<div>\n",
       "<style scoped>\n",
       "    .dataframe tbody tr th:only-of-type {\n",
       "        vertical-align: middle;\n",
       "    }\n",
       "\n",
       "    .dataframe tbody tr th {\n",
       "        vertical-align: top;\n",
       "    }\n",
       "\n",
       "    .dataframe thead th {\n",
       "        text-align: right;\n",
       "    }\n",
       "</style>\n",
       "<table border=\"1\" class=\"dataframe\">\n",
       "  <thead>\n",
       "    <tr style=\"text-align: right;\">\n",
       "      <th></th>\n",
       "      <th>0</th>\n",
       "      <th>1</th>\n",
       "      <th>2</th>\n",
       "      <th>3</th>\n",
       "      <th>4</th>\n",
       "      <th>5</th>\n",
       "      <th>6</th>\n",
       "      <th>7</th>\n",
       "      <th>8</th>\n",
       "      <th>9</th>\n",
       "      <th>...</th>\n",
       "      <th>17</th>\n",
       "      <th>18</th>\n",
       "      <th>19</th>\n",
       "      <th>20</th>\n",
       "      <th>21</th>\n",
       "      <th>22</th>\n",
       "      <th>23</th>\n",
       "      <th>24</th>\n",
       "      <th>25</th>\n",
       "      <th>label</th>\n",
       "    </tr>\n",
       "  </thead>\n",
       "  <tbody>\n",
       "    <tr>\n",
       "      <td>0</td>\n",
       "      <td>0.075952</td>\n",
       "      <td>0.01284</td>\n",
       "      <td>0.045702</td>\n",
       "      <td>0.046137</td>\n",
       "      <td>0.105332</td>\n",
       "      <td>0.015669</td>\n",
       "      <td>0.019151</td>\n",
       "      <td>0.043743</td>\n",
       "      <td>0.073993</td>\n",
       "      <td>0.001741</td>\n",
       "      <td>...</td>\n",
       "      <td>0.077693</td>\n",
       "      <td>0.061371</td>\n",
       "      <td>0.080522</td>\n",
       "      <td>0.025898</td>\n",
       "      <td>0.009793</td>\n",
       "      <td>0.014146</td>\n",
       "      <td>0.000653</td>\n",
       "      <td>0.020022</td>\n",
       "      <td>0.000435</td>\n",
       "      <td>en</td>\n",
       "    </tr>\n",
       "  </tbody>\n",
       "</table>\n",
       "<p>1 rows × 27 columns</p>\n",
       "</div>"
      ],
      "text/plain": [
       "          0        1         2         3         4         5         6  \\\n",
       "0  0.075952  0.01284  0.045702  0.046137  0.105332  0.015669  0.019151   \n",
       "\n",
       "          7         8         9  ...        17        18        19        20  \\\n",
       "0  0.043743  0.073993  0.001741  ...  0.077693  0.061371  0.080522  0.025898   \n",
       "\n",
       "         21        22        23        24        25  label  \n",
       "0  0.009793  0.014146  0.000653  0.020022  0.000435     en  \n",
       "\n",
       "[1 rows x 27 columns]"
      ]
     },
     "execution_count": 38,
     "metadata": {},
     "output_type": "execute_result"
    }
   ],
   "source": [
    "df_tmp.head(1)"
   ]
  },
  {
   "cell_type": "code",
   "execution_count": 39,
   "metadata": {},
   "outputs": [
    {
     "data": {
      "text/html": [
       "<div>\n",
       "<style scoped>\n",
       "    .dataframe tbody tr th:only-of-type {\n",
       "        vertical-align: middle;\n",
       "    }\n",
       "\n",
       "    .dataframe tbody tr th {\n",
       "        vertical-align: top;\n",
       "    }\n",
       "\n",
       "    .dataframe thead th {\n",
       "        text-align: right;\n",
       "    }\n",
       "</style>\n",
       "<table border=\"1\" class=\"dataframe\">\n",
       "  <thead>\n",
       "    <tr style=\"text-align: right;\">\n",
       "      <th></th>\n",
       "      <th>0</th>\n",
       "      <th>1</th>\n",
       "      <th>2</th>\n",
       "      <th>3</th>\n",
       "      <th>4</th>\n",
       "      <th>5</th>\n",
       "      <th>6</th>\n",
       "      <th>7</th>\n",
       "      <th>8</th>\n",
       "      <th>9</th>\n",
       "      <th>...</th>\n",
       "      <th>17</th>\n",
       "      <th>18</th>\n",
       "      <th>19</th>\n",
       "      <th>20</th>\n",
       "      <th>21</th>\n",
       "      <th>22</th>\n",
       "      <th>23</th>\n",
       "      <th>24</th>\n",
       "      <th>25</th>\n",
       "      <th>label</th>\n",
       "    </tr>\n",
       "  </thead>\n",
       "  <tbody>\n",
       "    <tr>\n",
       "      <td>0</td>\n",
       "      <td>0.075952</td>\n",
       "      <td>0.01284</td>\n",
       "      <td>0.045702</td>\n",
       "      <td>0.046137</td>\n",
       "      <td>0.105332</td>\n",
       "      <td>0.015669</td>\n",
       "      <td>0.019151</td>\n",
       "      <td>0.043743</td>\n",
       "      <td>0.073993</td>\n",
       "      <td>0.001741</td>\n",
       "      <td>...</td>\n",
       "      <td>0.077693</td>\n",
       "      <td>0.061371</td>\n",
       "      <td>0.080522</td>\n",
       "      <td>0.025898</td>\n",
       "      <td>0.009793</td>\n",
       "      <td>0.014146</td>\n",
       "      <td>0.000653</td>\n",
       "      <td>0.020022</td>\n",
       "      <td>0.000435</td>\n",
       "      <td>en</td>\n",
       "    </tr>\n",
       "  </tbody>\n",
       "</table>\n",
       "<p>1 rows × 27 columns</p>\n",
       "</div>"
      ],
      "text/plain": [
       "          0        1         2         3         4         5         6  \\\n",
       "0  0.075952  0.01284  0.045702  0.046137  0.105332  0.015669  0.019151   \n",
       "\n",
       "          7         8         9  ...        17        18        19        20  \\\n",
       "0  0.043743  0.073993  0.001741  ...  0.077693  0.061371  0.080522  0.025898   \n",
       "\n",
       "         21        22        23        24        25  label  \n",
       "0  0.009793  0.014146  0.000653  0.020022  0.000435     en  \n",
       "\n",
       "[1 rows x 27 columns]"
      ]
     },
     "execution_count": 39,
     "metadata": {},
     "output_type": "execute_result"
    }
   ],
   "source": [
    "# merge로 구현하기\n",
    "df_tmp = pd.merge(df_freqs, df_labels, left_index=True, right_index=True)\n",
    "df_tmp.head(1)"
   ]
  },
  {
   "cell_type": "code",
   "execution_count": 40,
   "metadata": {},
   "outputs": [
    {
     "data": {
      "text/html": [
       "<div>\n",
       "<style scoped>\n",
       "    .dataframe tbody tr th:only-of-type {\n",
       "        vertical-align: middle;\n",
       "    }\n",
       "\n",
       "    .dataframe tbody tr th {\n",
       "        vertical-align: top;\n",
       "    }\n",
       "\n",
       "    .dataframe thead th {\n",
       "        text-align: right;\n",
       "    }\n",
       "</style>\n",
       "<table border=\"1\" class=\"dataframe\">\n",
       "  <thead>\n",
       "    <tr style=\"text-align: right;\">\n",
       "      <th></th>\n",
       "      <th>a</th>\n",
       "      <th>b</th>\n",
       "      <th>c</th>\n",
       "      <th>d</th>\n",
       "      <th>e</th>\n",
       "      <th>f</th>\n",
       "      <th>g</th>\n",
       "      <th>h</th>\n",
       "      <th>i</th>\n",
       "      <th>j</th>\n",
       "      <th>...</th>\n",
       "      <th>r</th>\n",
       "      <th>s</th>\n",
       "      <th>t</th>\n",
       "      <th>u</th>\n",
       "      <th>v</th>\n",
       "      <th>w</th>\n",
       "      <th>x</th>\n",
       "      <th>y</th>\n",
       "      <th>z</th>\n",
       "      <th>label</th>\n",
       "    </tr>\n",
       "  </thead>\n",
       "  <tbody>\n",
       "    <tr>\n",
       "      <td>0</td>\n",
       "      <td>0.075952</td>\n",
       "      <td>0.01284</td>\n",
       "      <td>0.045702</td>\n",
       "      <td>0.046137</td>\n",
       "      <td>0.105332</td>\n",
       "      <td>0.015669</td>\n",
       "      <td>0.019151</td>\n",
       "      <td>0.043743</td>\n",
       "      <td>0.073993</td>\n",
       "      <td>0.001741</td>\n",
       "      <td>...</td>\n",
       "      <td>0.077693</td>\n",
       "      <td>0.061371</td>\n",
       "      <td>0.080522</td>\n",
       "      <td>0.025898</td>\n",
       "      <td>0.009793</td>\n",
       "      <td>0.014146</td>\n",
       "      <td>0.000653</td>\n",
       "      <td>0.020022</td>\n",
       "      <td>0.000435</td>\n",
       "      <td>en</td>\n",
       "    </tr>\n",
       "  </tbody>\n",
       "</table>\n",
       "<p>1 rows × 27 columns</p>\n",
       "</div>"
      ],
      "text/plain": [
       "          a        b         c         d         e         f         g  \\\n",
       "0  0.075952  0.01284  0.045702  0.046137  0.105332  0.015669  0.019151   \n",
       "\n",
       "          h         i         j  ...         r         s         t         u  \\\n",
       "0  0.043743  0.073993  0.001741  ...  0.077693  0.061371  0.080522  0.025898   \n",
       "\n",
       "          v         w         x         y         z  label  \n",
       "0  0.009793  0.014146  0.000653  0.020022  0.000435     en  \n",
       "\n",
       "[1 rows x 27 columns]"
      ]
     },
     "execution_count": 40,
     "metadata": {},
     "output_type": "execute_result"
    }
   ],
   "source": [
    "# df_tmp의 0~25 라는 컬럼명을 a~z로 변경\n",
    "from string import ascii_lowercase\n",
    "\n",
    "df_tmp.columns = list(ascii_lowercase) + [df_tmp.columns[-1]]\n",
    "df_tmp.head(1)"
   ]
  },
  {
   "cell_type": "code",
   "execution_count": 41,
   "metadata": {},
   "outputs": [
    {
     "data": {
      "text/html": [
       "<div>\n",
       "<style scoped>\n",
       "    .dataframe tbody tr th:only-of-type {\n",
       "        vertical-align: middle;\n",
       "    }\n",
       "\n",
       "    .dataframe tbody tr th {\n",
       "        vertical-align: top;\n",
       "    }\n",
       "\n",
       "    .dataframe thead th {\n",
       "        text-align: right;\n",
       "    }\n",
       "</style>\n",
       "<table border=\"1\" class=\"dataframe\">\n",
       "  <thead>\n",
       "    <tr style=\"text-align: right;\">\n",
       "      <th>label</th>\n",
       "      <th>en</th>\n",
       "      <th>fr</th>\n",
       "      <th>id</th>\n",
       "      <th>tl</th>\n",
       "    </tr>\n",
       "  </thead>\n",
       "  <tbody>\n",
       "    <tr>\n",
       "      <td>a</td>\n",
       "      <td>0.075558</td>\n",
       "      <td>0.076183</td>\n",
       "      <td>0.160047</td>\n",
       "      <td>0.210537</td>\n",
       "    </tr>\n",
       "    <tr>\n",
       "      <td>b</td>\n",
       "      <td>0.018601</td>\n",
       "      <td>0.013140</td>\n",
       "      <td>0.026276</td>\n",
       "      <td>0.021824</td>\n",
       "    </tr>\n",
       "  </tbody>\n",
       "</table>\n",
       "</div>"
      ],
      "text/plain": [
       "label        en        fr        id        tl\n",
       "a      0.075558  0.076183  0.160047  0.210537\n",
       "b      0.018601  0.013140  0.026276  0.021824"
      ]
     },
     "execution_count": 41,
     "metadata": {},
     "output_type": "execute_result"
    }
   ],
   "source": [
    "# 피벗을 이용해서 인덱스에 a~z, 컬럼 label으로 재구성\n",
    "# 목적은 시각화를 용이하게 처리하기 위해서 관점 전환\n",
    "df_tmp_pv = df_tmp.pivot_table(columns=df_tmp.label)\n",
    "df_tmp_pv.head(2)"
   ]
  },
  {
   "cell_type": "code",
   "execution_count": 42,
   "metadata": {},
   "outputs": [
    {
     "data": {
      "image/png": "[encoded data removed]",
      "text/plain": [
       "<Figure size 1152x576 with 4 Axes>"
      ]
     },
     "metadata": {},
     "output_type": "display_data"
    }
   ],
   "source": [
    "# EDA (시각화 분석)\n",
    "# 바차트\n",
    "plt.style.use('ggplot')\n",
    "df_tmp_pv.plot(kind='bar', subplots=True, figsize=(16, 8), ylim=(0, 0.23))\n",
    "plt.savefig('./data/plot_bar_langPerFrequence.png')"
   ]
  },
  {
   "cell_type": "code",
   "execution_count": null,
   "metadata": {},
   "outputs": [],
   "source": [
    "# 히스토그램을 이용하여 알파벳별 국가별 사용 빈도 비교\n",
    "# 피벗 데이터가 아닌 원데이터를 이용하여 표시 -> df_tmp 사용\n",
    "nas = df_tmp['label'].unique()\n",
    "\n",
    "for word in ascii_lowercase:\n",
    "    for na in nas:\n",
    "        # 해당 국가의 데이터만 일단 모은다.\n",
    "        df_tmp_na = df_tmp[df_tmp['label'] == na]\n",
    "        \n",
    "        # 영어의 a, 영어의 b, ... 타갈리아어의 z\n",
    "        df_tmp_na[word].plot(kind='hist', alpha=0.4, label=na)\n",
    "    \n",
    "    # 범례\n",
    "    plt.legend()\n",
    "    \n",
    "    # 제목 : a freq, b freq, ... z freq\n",
    "    plt.suptitle('%s freq' % word)\n",
    "    \n",
    "    # 저장\n",
    "    plt.savefig('./data/%s_freq.png' % word)\n",
    "    \n",
    "    # 화면 보이기\n",
    "    plt.show()"
   ]
  },
  {
   "cell_type": "code",
   "execution_count": 44,
   "metadata": {},
   "outputs": [
    {
     "data": {
      "image/png": "[encoded data removed]",
      "text/plain": [
       "<Figure size 1152x576 with 1 Axes>"
      ]
     },
     "metadata": {},
     "output_type": "display_data"
    }
   ],
   "source": [
    "# 선형 그래프를 통해서 확인\n",
    "df_tmp_pv.plot(kind='line', figsize=(16, 8), ylim=(0, 0.23))\n",
    "plt.show()"
   ]
  },
  {
   "cell_type": "markdown",
   "metadata": {},
   "source": [
    "### 5. 데이터 모델링 및 모델 구축\n",
    "\n",
    "- 알고리즘 선정\n",
    "- 학습 데이터/테스트 데이터 준비\n",
    "- 학습\n",
    "- 예측\n",
    "- [생략]성능평가(학습법, 하위 카테고리까지 검토 평가)\n",
    "- [생략]파이프라인 구축을 통하여 알고리즘 체인을 적용, 최적의 알고리즘 조합을 찾는다.\n",
    "- [생략]연구 목표에 도착할 때까지 반복\n",
    "- 모델 덤프(학습된 알고리즘을 파일로 덤프)"
   ]
  },
  {
   "cell_type": "code",
   "execution_count": 45,
   "metadata": {},
   "outputs": [],
   "source": [
    "from sklearn import svm, metrics"
   ]
  },
  {
   "cell_type": "code",
   "execution_count": 47,
   "metadata": {},
   "outputs": [],
   "source": [
    "# 1. 알고리즘 선정\n",
    "clf = svm.SVC(gamma='auto')"
   ]
  },
  {
   "cell_type": "code",
   "execution_count": 50,
   "metadata": {},
   "outputs": [
    {
     "data": {
      "text/plain": [
       "(20, 20)"
      ]
     },
     "execution_count": 50,
     "metadata": {},
     "output_type": "execute_result"
    }
   ],
   "source": [
    "# 2. 학습 데이터/테스트 데이터 준비\n",
    "# 75:25 = 훈련 데이터(50:훈련용, 25:검증용): 테스트 데이터\n",
    "# train_test_split()\n",
    "# 이전 단계에서 이미 구성이 완료되었다. (생략)\n",
    "# 훈련 데이터\n",
    "len(data[0]['labels']), len(data[0]['freqs'])"
   ]
  },
  {
   "cell_type": "code",
   "execution_count": 51,
   "metadata": {},
   "outputs": [
    {
     "data": {
      "text/plain": [
       "SVC(C=1.0, cache_size=200, class_weight=None, coef0=0.0,\n",
       "    decision_function_shape='ovr', degree=3, gamma='auto', kernel='rbf',\n",
       "    max_iter=-1, probability=False, random_state=None, shrinking=True,\n",
       "    tol=0.001, verbose=False)"
      ]
     },
     "execution_count": 51,
     "metadata": {},
     "output_type": "execute_result"
    }
   ],
   "source": [
    "# 3. 학습\n",
    "clf.fit(data[0]['freqs'], data[0]['labels'])"
   ]
  },
  {
   "cell_type": "code",
   "execution_count": 52,
   "metadata": {},
   "outputs": [],
   "source": [
    "# 4. 예측\n",
    "# 한번도 만나지 못한 데이터를 가지고 예측 수행\n",
    "# 훈련(학습)에 사용된 데이터는 사용 불가\n",
    "predict = clf.predict(data[1]['freqs'])"
   ]
  },
  {
   "cell_type": "code",
   "execution_count": 54,
   "metadata": {},
   "outputs": [
    {
     "data": {
      "text/plain": [
       "(array(['en', 'en', 'fr', 'fr', 'en', 'id', 'tl', 'tl'], dtype='<U2'), 8)"
      ]
     },
     "execution_count": 54,
     "metadata": {},
     "output_type": "execute_result"
    }
   ],
   "source": [
    "predict, len(predict)"
   ]
  },
  {
   "cell_type": "code",
   "execution_count": 55,
   "metadata": {},
   "outputs": [
    {
     "data": {
      "text/plain": [
       "0.875"
      ]
     },
     "execution_count": 55,
     "metadata": {},
     "output_type": "execute_result"
    }
   ],
   "source": [
    "# 5. 결과 확인, 성능 확인\n",
    "# 정확도 87% 이상이면 실제 사용 가능하다고 간주하고(설정) 목표 도달로 간주\n",
    "score = metrics.accuracy_score(data[1]['labels'], predict)\n",
    "score"
   ]
  },
  {
   "cell_type": "code",
   "execution_count": 56,
   "metadata": {},
   "outputs": [
    {
     "name": "stdout",
     "output_type": "stream",
     "text": [
      "              precision    recall  f1-score   support\n",
      "\n",
      "          en       0.67      1.00      0.80         2\n",
      "          fr       1.00      1.00      1.00         2\n",
      "          id       1.00      0.50      0.67         2\n",
      "          tl       1.00      1.00      1.00         2\n",
      "\n",
      "    accuracy                           0.88         8\n",
      "   macro avg       0.92      0.88      0.87         8\n",
      "weighted avg       0.92      0.88      0.87         8\n",
      "\n"
     ]
    }
   ],
   "source": [
    "# 6. 레포트\n",
    "cl_report = metrics.classification_report(data[1]['labels'], predict)\n",
    "print(cl_report)\n",
    "\n",
    "# precision : 정밀도\n",
    "# recall    : 재현율\n",
    "# f1-score  : 점수, 정확도\n",
    "# support   : 데이터에 응답한 샘플 수"
   ]
  },
  {
   "cell_type": "code",
   "execution_count": 58,
   "metadata": {},
   "outputs": [],
   "source": [
    "# 학습시킨 알고리즘을 덤프해서 6단계 개발자에게 전달\n",
    "# 사용 매뉴얼, 라이브러리(텍스트 -> 빈도 계산, 답안 처리하는 데이터 형태로 생성)\n",
    "from sklearn.externals import joblib"
   ]
  },
  {
   "cell_type": "code",
   "execution_count": 59,
   "metadata": {},
   "outputs": [
    {
     "data": {
      "text/plain": [
       "['./data/clf_model_202001161419.model']"
      ]
     },
     "execution_count": 59,
     "metadata": {},
     "output_type": "execute_result"
    }
   ],
   "source": [
    "# 저장\n",
    "joblib.dump(clf, './data/clf_model_202001161419.model')"
   ]
  },
  {
   "cell_type": "code",
   "execution_count": 60,
   "metadata": {},
   "outputs": [],
   "source": [
    "# 레이블 저장 (이 알고리즘은 지도학습의 분류에 해당되므로 알고리즘, 답안 데이터를 준비)\n",
    "label_dic = {\n",
    "    'en': '영어',\n",
    "    'fr': '프랑스어',\n",
    "    'tl': '타갈리아어',\n",
    "    'id': '인도네시아어',\n",
    "}"
   ]
  },
  {
   "cell_type": "code",
   "execution_count": 61,
   "metadata": {},
   "outputs": [],
   "source": [
    "# json 덤프\n",
    "with open('./data/clf_labels.label', 'w', encoding='utf-8') as f:\n",
    "    json.dump(label_dic, f)"
   ]
  },
  {
   "cell_type": "markdown",
   "metadata": {},
   "source": [
    "### 6. 시스템 통합\n",
    "\n",
    "- 웹서비스 구축(flask 간단하게 구성)\n",
    "    - IDE : vscode를 사용\n",
    "- 서비스 구축\n",
    "- 모델의 업그레이드를 위한 시스템 추가\n",
    "- 선순화 구조를 위한 번역 요청 데이터의 로그 처리 -> 배치학습, 온라인 학습 등으로 연결되어 완성"
   ]
  }
 ],
 "metadata": {
  "kernelspec": {
   "display_name": "Python 3",
   "language": "python",
   "name": "python3"
  },
  "language_info": {
   "codemirror_mode": {
    "name": "ipython",
    "version": 3
   },
   "file_extension": ".py",
   "mimetype": "text/x-python",
   "name": "python",
   "nbconvert_exporter": "python",
   "pygments_lexer": "ipython3",
   "version": "3.7.4"
  }
 },
 "nbformat": 4,
 "nbformat_minor": 4
}
