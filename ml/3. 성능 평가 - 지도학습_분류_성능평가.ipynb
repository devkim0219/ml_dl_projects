{
 "cells": [
  {
   "cell_type": "markdown",
   "metadata": {},
   "source": [
    "### 성능 평가\n",
    "\n",
    "- 평가항목 방식 케이스\n",
    "    - 지도 학습의 분류\n",
    "        - 혼동 행렬(정확도, f1-score, 정밀도, 재현율), AUC, ROC\n",
    "    - 지도 학습의 회귀\n",
    "        - 손실\n",
    "    - 비지도 학습\n",
    "    - 강화 학습"
   ]
  },
  {
   "cell_type": "markdown",
   "metadata": {},
   "source": [
    "### 머신러닝 > 지도학습 > 분류 > 성능평가지표\n",
    "\n",
    "- 통계학의 혼동행렬이라는 항목을 이용하여 평가\n",
    "- 개요\n",
    "    - 예측값이 실제 관측값을 얼마나 정확하게 예측하였는가?\n",
    "    - 이 사항을 보여주는 행렬\n",
    "    - 예\n",
    "        - 암을 스스로 예측하였는데, 실제 양성인지 악성인지 예측하는 예\n",
    "        - 실제는 병이 있었는데 없다고 예측, 있다고 예측\n",
    "        - 실제는 병이 없었는데 있다고 예측, 없다고 예측\n",
    "|구분|예측:(Positive)|예측:(Negative)|\n",
    "|:--:|:--:|:--:|\n",
    "|실제:예(Positive)|TP|FN|\n",
    "|실제:아니오(Negative)|FP|TN|"
   ]
  },
  {
   "cell_type": "markdown",
   "metadata": {},
   "source": [
    "- TP : 참긍정\n",
    "    - 병이 있다고 예측을 했고, 실제로 병이 있었다.\n",
    "    - 긍정한 것이 참이 되었다.\n",
    "- TN : 참부정\n",
    "    - 병이 없다고 예측을 했고, 실제로 병이 없었다.\n",
    "    - 부정한 것이 참이 되었다.\n",
    "- FP : 거짓긍정\n",
    "    - 병이 있다고 예측을 했고, 실제로 병이 없었다.\n",
    "    - 긍정한 것이 거짓이 되었다.\n",
    "    - 1형 오류\n",
    "- FN : 거짓부정\n",
    "    - 병이 없다고 예측을 했고, 실제로 병이 있었다.\n",
    "    - 부정한 것이 거짓이 되었다.\n",
    "    - 2형 오류"
   ]
  },
  {
   "cell_type": "markdown",
   "metadata": {},
   "source": [
    "- 정밀도(P Precision)\n",
    "    - 병이 있다고 예측을 했는데, 실제로 병이 있는 비율. 정답율\n",
    "    - P = TP / (TP + FP)\n",
    "- 재현율(R Recall)\n",
    "    - 실제로 병이 있는 전체 데이터 중에 참긍정 비율\n",
    "    - R = TP / (TP + FN)\n",
    "- F1 점수\n",
    "    - 정밀도와 재현율의 조화평균(Harmonic mean)\n",
    "    - F1 = 2 / (1 / P + 1 / R)\n",
    "- 특이성\n",
    "    - 실제 병이 없는 전체 사람들 중에 예측이 TN의 비율\n",
    "    - TN / (TN + FP)\n",
    "- 곡선하 면적(ROC) : Area under Curve ROC -> ROC 곡선\n",
    "    - 참긍정률과 거짓부정률 사이의 관계 표현\n",
    "    - (1 - 특이성)\n",
    "    - AUC : ROC의 상세값, 수치"
   ]
  },
  {
   "cell_type": "markdown",
   "metadata": {},
   "source": [
    "#### 실제 데이터를 이용하여 성능평가를 수행\n",
    "\n",
    "- 데이터 : iris 활용"
   ]
  },
  {
   "cell_type": "code",
   "execution_count": 2,
   "metadata": {},
   "outputs": [],
   "source": [
    "from matplotlib import pyplot as plt\n",
    "from sklearn.datasets import load_iris\n",
    "import pandas as pd"
   ]
  },
  {
   "cell_type": "code",
   "execution_count": 14,
   "metadata": {},
   "outputs": [],
   "source": [
    "ds = load_iris()"
   ]
  },
  {
   "cell_type": "code",
   "execution_count": 24,
   "metadata": {},
   "outputs": [
    {
     "data": {
      "text/plain": [
       "array(['setosa', 'versicolor', 'virginica'], dtype='<U10')"
      ]
     },
     "execution_count": 24,
     "metadata": {},
     "output_type": "execute_result"
    }
   ],
   "source": [
    "# 데이터 확인\n",
    "ds.data.shape, ds.data[:1], ds.feature_names, ds.target_names, ds.target[:3], ds.target[-3:]"
   ]
  },
  {
   "cell_type": "code",
   "execution_count": 44,
   "metadata": {},
   "outputs": [
    {
     "data": {
      "text/html": [
       "<div>\n",
       "<style scoped>\n",
       "    .dataframe tbody tr th:only-of-type {\n",
       "        vertical-align: middle;\n",
       "    }\n",
       "\n",
       "    .dataframe tbody tr th {\n",
       "        vertical-align: top;\n",
       "    }\n",
       "\n",
       "    .dataframe thead th {\n",
       "        text-align: right;\n",
       "    }\n",
       "</style>\n",
       "<table border=\"1\" class=\"dataframe\">\n",
       "  <thead>\n",
       "    <tr style=\"text-align: right;\">\n",
       "      <th></th>\n",
       "      <th>sepal length (cm)</th>\n",
       "      <th>sepal width (cm)</th>\n",
       "      <th>petal length (cm)</th>\n",
       "      <th>petal width (cm)</th>\n",
       "      <th>species</th>\n",
       "    </tr>\n",
       "  </thead>\n",
       "  <tbody>\n",
       "    <tr>\n",
       "      <td>0</td>\n",
       "      <td>5.1</td>\n",
       "      <td>3.5</td>\n",
       "      <td>1.4</td>\n",
       "      <td>0.2</td>\n",
       "      <td>setosa</td>\n",
       "    </tr>\n",
       "    <tr>\n",
       "      <td>1</td>\n",
       "      <td>4.9</td>\n",
       "      <td>3.0</td>\n",
       "      <td>1.4</td>\n",
       "      <td>0.2</td>\n",
       "      <td>setosa</td>\n",
       "    </tr>\n",
       "  </tbody>\n",
       "</table>\n",
       "</div>"
      ],
      "text/plain": [
       "   sepal length (cm)  sepal width (cm)  petal length (cm)  petal width (cm)  \\\n",
       "0                5.1               3.5                1.4               0.2   \n",
       "1                4.9               3.0                1.4               0.2   \n",
       "\n",
       "  species  \n",
       "0  setosa  \n",
       "1  setosa  "
      ]
     },
     "execution_count": 44,
     "metadata": {},
     "output_type": "execute_result"
    }
   ],
   "source": [
    "# iris 데이터 로드\n",
    "def attach_iris():\n",
    "    ds = load_iris()\n",
    "    df = pd.DataFrame(ds.data, columns=ds.feature_names)\n",
    "    \n",
    "    # species 라는 컬럼을 추가한다. -> 값은 setosa, versicolor, virginica 중 하나로 설정\n",
    "    df['species'] = ds.target_names[ds.target]\n",
    "#     df['species'] = ds.target\n",
    "    \n",
    "    return df\n",
    "\n",
    "df = attach_iris()\n",
    "df.head(2)"
   ]
  },
  {
   "cell_type": "markdown",
   "metadata": {},
   "source": [
    "#### 분류 알고리즘을 다양하게 사용하여 교차 성능평가 수행\n",
    "\n",
    "- 하이퍼 파라미터 튜닝 + 파이프 라인?\n",
    "- 각각 알고리즘 별로 적용하여 시각화 및 수치 비교? (사용)"
   ]
  },
  {
   "cell_type": "code",
   "execution_count": 35,
   "metadata": {},
   "outputs": [],
   "source": [
    "import sklearn\n",
    "from sklearn.metrics import roc_curve, auc\n",
    "from sklearn.model_selection import train_test_split"
   ]
  },
  {
   "cell_type": "code",
   "execution_count": 70,
   "metadata": {},
   "outputs": [],
   "source": [
    "# 알고리즘\n",
    "# 향후 알고리즘에 대한 이해와 데이터에 대한 적합성에 대한 식견이 좀 더 보완된다면\n",
    "# 알고리즘 후보들을 좀 더 적합하게 추릴 수 있을 것이다.\n",
    "from sklearn.linear_model import LogisticRegression\n",
    "from sklearn.tree import DecisionTreeClassifier\n",
    "from sklearn.ensemble import RandomForestClassifier\n",
    "from sklearn.naive_bayes import GaussianNB\n",
    "from sklearn.svm import SVC"
   ]
  },
  {
   "cell_type": "code",
   "execution_count": 39,
   "metadata": {},
   "outputs": [],
   "source": [
    "# 알고리즘 시각화를 위해 사전 설정\n",
    "# 선형 그래프의 모양을 지정\n",
    "# 파라미터 값은 임의 부여\n",
    "class_map = {\n",
    "    'LogisticRegression': ('-', LogisticRegression()),\n",
    "    'DecisionTreeClassifier': ('--', DecisionTreeClassifier(max_depth=5)),\n",
    "    'RandomForestClassifier': ('.-', RandomForestClassifier(max_depth=5, n_estimators=10, max_features=1)),\n",
    "    'GaussianNB': (':', GaussianNB())\n",
    "}"
   ]
  },
  {
   "cell_type": "code",
   "execution_count": 71,
   "metadata": {},
   "outputs": [
    {
     "name": "stdout",
     "output_type": "stream",
     "text": [
      "LogisticRegression ('-', LogisticRegression(C=1.0, class_weight=None, dual=False, fit_intercept=True,\n",
      "                   intercept_scaling=1, l1_ratio=None, max_iter=100,\n",
      "                   multi_class='warn', n_jobs=None, penalty='l2',\n",
      "                   random_state=None, solver='warn', tol=0.0001, verbose=0,\n",
      "                   warm_start=False))\n",
      "DecisionTreeClassifier ('--', DecisionTreeClassifier(class_weight=None, criterion='gini', max_depth=5,\n",
      "                       max_features=None, max_leaf_nodes=None,\n",
      "                       min_impurity_decrease=0.0, min_impurity_split=None,\n",
      "                       min_samples_leaf=1, min_samples_split=2,\n",
      "                       min_weight_fraction_leaf=0.0, presort=False,\n",
      "                       random_state=None, splitter='best'))\n",
      "RandomForestClassifier ('.-', RandomForestClassifier(bootstrap=True, class_weight=None, criterion='gini',\n",
      "                       max_depth=5, max_features=1, max_leaf_nodes=None,\n",
      "                       min_impurity_decrease=0.0, min_impurity_split=None,\n",
      "                       min_samples_leaf=1, min_samples_split=2,\n",
      "                       min_weight_fraction_leaf=0.0, n_estimators=10,\n",
      "                       n_jobs=None, oob_score=False, random_state=None,\n",
      "                       verbose=0, warm_start=False))\n",
      "GaussianNB (':', GaussianNB(priors=None, var_smoothing=1e-09))\n",
      "SVC ('o', SVC(C=1.0, cache_size=200, class_weight=None, coef0=0.0,\n",
      "    decision_function_shape='ovr', degree=3, gamma='auto_deprecated',\n",
      "    kernel='rbf', max_iter=-1, probability=False, random_state=None,\n",
      "    shrinking=True, tol=0.001, verbose=False))\n"
     ]
    }
   ],
   "source": [
    "for key, value in class_map.items():\n",
    "    print(key, value)"
   ]
  },
  {
   "cell_type": "code",
   "execution_count": 45,
   "metadata": {},
   "outputs": [
    {
     "data": {
      "text/plain": [
       "(150, 4)"
      ]
     },
     "execution_count": 45,
     "metadata": {},
     "output_type": "execute_result"
    }
   ],
   "source": [
    "# 데이터 정리\n",
    "X = df[df.columns[:4]]\n",
    "X.shape"
   ]
  },
  {
   "cell_type": "code",
   "execution_count": 46,
   "metadata": {},
   "outputs": [
    {
     "data": {
      "text/plain": [
       "(pandas.core.series.Series, 0    False\n",
       " 1    False\n",
       " Name: species, dtype: bool)"
      ]
     },
     "execution_count": 46,
     "metadata": {},
     "output_type": "execute_result"
    }
   ],
   "source": [
    "# 특정 종에 대해서만 정답을 구축\n",
    "y = df['species'] == 'versicolor'\n",
    "type(y), y[:2]"
   ]
  },
  {
   "cell_type": "code",
   "execution_count": 65,
   "metadata": {},
   "outputs": [],
   "source": [
    "# 훈련용, 테스트용 데이터 분류\n",
    "# 데이터가 작아서 결과물의 변별력을 높이고자 임의로 80%로 테스트 데이터를 높였다.\n",
    "X_train, X_test, y_train, y_test = train_test_split(X, y, test_size=0.8)"
   ]
  },
  {
   "cell_type": "code",
   "execution_count": 66,
   "metadata": {},
   "outputs": [
    {
     "data": {
      "text/plain": [
       "((30, 4), (120, 4), (30,), (120,))"
      ]
     },
     "execution_count": 66,
     "metadata": {},
     "output_type": "execute_result"
    }
   ],
   "source": [
    "X_train.shape, X_test.shape, y_train.shape, y_test.shape"
   ]
  },
  {
   "cell_type": "code",
   "execution_count": 80,
   "metadata": {},
   "outputs": [
    {
     "name": "stdout",
     "output_type": "stream",
     "text": [
      "LogisticRegression : 0.7464698331193839\n",
      "DecisionTreeClassifier : 0.9492939666238767\n",
      "RandomForestClassifier : 0.9817073170731708\n",
      "GaussianNB : 0.9842747111681643\n"
     ]
    },
    {
     "name": "stderr",
     "output_type": "stream",
     "text": [
      "C:\\ProgramData\\Anaconda3\\lib\\site-packages\\sklearn\\linear_model\\logistic.py:432: FutureWarning: Default solver will be changed to 'lbfgs' in 0.22. Specify a solver to silence this warning.\n",
      "  FutureWarning)\n"
     ]
    },
    {
     "data": {
      "image/png": "[encoded data removed]",
      "text/plain": [
       "<Figure size 576x576 with 1 Axes>"
      ]
     },
     "metadata": {
      "needs_background": "light"
     },
     "output_type": "display_data"
    }
   ],
   "source": [
    "class_map = {\n",
    "    'LogisticRegression': ('-', LogisticRegression()),\n",
    "    'DecisionTreeClassifier': ('--', DecisionTreeClassifier(max_depth=5)),\n",
    "    'RandomForestClassifier': ('.-', RandomForestClassifier(max_depth=5, n_estimators=10, max_features=1)),\n",
    "    'GaussianNB': (':', GaussianNB()),\n",
    "}\n",
    "\n",
    "# 시각화를 통해서 성능 확인(ROC, AUC)\n",
    "plt.figure(figsize=(8, 8))\n",
    "\n",
    "# 반복하여 시각화 처리\n",
    "for name, (lineStyle, model) in class_map.items():\n",
    "    \n",
    "    # 학습\n",
    "    model.fit(X_train, y_train)\n",
    "    \n",
    "    # 예측\n",
    "    # predict_proba() : 예측에 대한 확률\n",
    "    # 0, 1 중에 1이 될 확률이 0.57%이다. -> 1을 더 많이 예측하는 모델\n",
    "    preds = model.predict_proba(X_test)\n",
    "    \n",
    "    # preds -> Series 타입으로 설정 : roc_curve() 함수 형식에 맞추기 위해서 예측답 추출\n",
    "    pred = pd.Series(preds[:, 1])\n",
    "    \n",
    "    # ROC 값 획득\n",
    "    # roc 리턴값\n",
    "    # fpr : 거짓 양성비\n",
    "    # tpr : 참 양성비\n",
    "    # _ : 임계값, fpr과 tpr을 계산할 때(내부에서) 사용한 결정함수의 임계값 : 이해\n",
    "    fpr, tpr, _ = roc_curve(y_test, pred)\n",
    "    \n",
    "    # ROC 드로잉\n",
    "    # AUC 표시 -> 수치\n",
    "    auc_score = auc(fpr, tpr)\n",
    "    print('%s : %s' % (name, auc_score))\n",
    "    \n",
    "    # 선 그리기\n",
    "    plt.plot(fpr, tpr, lineStyle, linewidth=4, label=name)\n",
    "    \n",
    "    pass\n",
    "\n",
    "# 시각화 마무리\n",
    "plt.legend()    # 범례 표시\n",
    "plt.plot([0, 1], [0, 1], 'k--')    # 대각선\n",
    "plt.xlabel('False Positive Rate')\n",
    "plt.ylabel('True Positive Rate')\n",
    "plt.show()    # 표시"
   ]
  },
  {
   "cell_type": "code",
   "execution_count": null,
   "metadata": {},
   "outputs": [],
   "source": []
  }
 ],
 "metadata": {
  "kernelspec": {
   "display_name": "Python 3",
   "language": "python",
   "name": "python3"
  },
  "language_info": {
   "codemirror_mode": {
    "name": "ipython",
    "version": 3
   },
   "file_extension": ".py",
   "mimetype": "text/x-python",
   "name": "python",
   "nbconvert_exporter": "python",
   "pygments_lexer": "ipython3",
   "version": "3.7.4"
  }
 },
 "nbformat": 4,
 "nbformat_minor": 4
}
