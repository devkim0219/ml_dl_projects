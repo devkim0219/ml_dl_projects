{
 "cells": [
  {
   "cell_type": "markdown",
   "metadata": {},
   "source": [
    "## AI 개요\n",
    "\n",
    "- Artificial Intelligence \n",
    "- 종류\n",
    "    - ANI : Artificial Narrow Intelligence \n",
    "        - 약한 인공지능\n",
    "        - 현재\n",
    "        - 알파고, 번역, 시리\n",
    "        - 한가지 업무만 잘하는 AI\n",
    "        - 방법론\n",
    "            - 머신러닝\n",
    "                - 딥러닝 : Deep Learning\n",
    "                    - 딥러닝을 표현한 책들에는 ai로 표현하기도 한다\n",
    "                    - 딥러닝을 구성하는 아이디어가 신경망(뉴런)을 기초로 구성했기 때문에 더 가깝게 느낀다\n",
    "                    - 뉴럴네트워크 : 인공 신경망을 이용하여 학습을 수행한다.\n",
    "                    - 대규모의 데이터가 필요, 연산에 필요한 GPU가 필요하다\n",
    "                    - GPU 연산 -> 행렬 연산을 효율적으로 수행(선형대수학 처리)\n",
    "                        - CPU 연산보다 2~4배이상 (케이스마다 다름)\n",
    "                        - 메모리(그래픽카드 메모리)기준으로 혼자 (6G), 캐글레벨(11G)\n",
    "                    - 각광받는 언어 Python (지원의 1순위)\n",
    "                    - 선택시트\n",
    "                        - 언어 : python, R, 하둡환경하에서도 가능\n",
    "                        - GPU  : 엔비디아:CUDA(맥X), AMD:rOCM(다 가능)\n",
    "                            - 딥러닝 서버를 구축\n",
    "                                - 엔비디아의 CUDA를 지원하는 (6,8,11..)G 장비가 필요(그래픽카드)\n",
    "                                - 세팅!\n",
    "                        - 엔진 : 텐서플로(Tensorflow):구글, 파이토치(Pytorch):페이스북, 케라스(Keras) * 케라스는 엄밀히 따지면 인터페이스\n",
    "                            - Tensorflow Lite <- 스마트폰에서 사용\n",
    "                            - Tensorflow 2.0에서 keras 가 완전 통합되었다 = 케라스는 텐서플로안에 존재\n",
    "                            \n",
    "                            <img src = './data/DL/0.dl_framework.png'>\n",
    "                            <img src = './data/DL/0.dl_rank_2019.png'>\n",
    "                            - 사진 출처 : bit.ly/\n",
    "\n",
    "    - AGI : Artificial General Intelligence \n",
    "        - 강한 인공지능\n",
    "        - 2040년 예측\n",
    "        - 영화에서 보는 ai, 여러개의 일을 다 조율하면 잘하는 단계(인간 지성수준)\n",
    "        \n",
    "    - ASI : Artificial Super Intelligence \n",
    "        - 지성의 폭발, 네크워크 상에 존재\n",
    "        - 초인공지능, 신계, 인간의 모든 지성을 합한것보다 더 뛰어나다\n",
    "        - 2060년 예측\n",
    "        - 인간을 초월한 단계, 비관적인 관점(AI의 판단 결과 혹은 과정을 인간이 이해 할수 없음)\n",
    "        - 인간을 해하는 목적은 없으나 어떤 목표를 완수하기 위한 가장 효율적인 방법을 찾다보면 해할수도있다 -> 인간소멸 가능\n",
    "        - 긍정적인 부분 : 인간의 수준을 넘어서는 기술, 과학 부분등을 해결 가능하다"
   ]
  },
  {
   "cell_type": "code",
   "execution_count": null,
   "metadata": {},
   "outputs": [],
   "source": []
  }
 ],
 "metadata": {
  "kernelspec": {
   "display_name": "Python 3",
   "language": "python",
   "name": "python3"
  },
  "language_info": {
   "codemirror_mode": {
    "name": "ipython",
    "version": 3
   },
   "file_extension": ".py",
   "mimetype": "text/x-python",
   "name": "python",
   "nbconvert_exporter": "python",
   "pygments_lexer": "ipython3",
   "version": "3.7.4"
  }
 },
 "nbformat": 4,
 "nbformat_minor": 4
}
