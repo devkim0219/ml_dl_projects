{
 "cells": [
  {
   "cell_type": "code",
   "execution_count": 1,
   "metadata": {},
   "outputs": [],
   "source": [
    "critics = { \n",
    "    'Lisa Rose': {\n",
    "        'Lady in the Water': 2.5, \n",
    "        'Snakes on a Plane': 3.5, \n",
    "        'Just My Luck': 3.0, \n",
    "        'Superman Returns': 3.5, \n",
    "        'You, Me and Dupree': 2.5, \n",
    "        'The Night Listener': 3.0 \n",
    "    }, \n",
    "    'Gene Seymour': {\n",
    "        'Lady in the Water': 3.0, \n",
    "        'Snakes on a Plane': 3.5, \n",
    "        'Just My Luck': 1.5, \n",
    "        'Superman Returns': 5.0, \n",
    "        'The Night Listener': 3.0, \n",
    "        'You, Me and Dupree': 3.5 \n",
    "    }, 'Michael Phillips': {\n",
    "        'Lady in the Water': 2.5, \n",
    "        'Snakes on a Plane': 3.5, \n",
    "        'Superman Returns': 3.5, \n",
    "        'The Night Listener': 4.0 \n",
    "    }, 'Claudia Puig': {\n",
    "        'Snakes on a Plane': 3.5, \n",
    "        'Just My Luck': 3.0, \n",
    "        'The Night Listener': 4.5, \n",
    "        'Superman Returns': 4.0, \n",
    "        'You, Me and Dupree': 2.5 \n",
    "    }, 'Mick LaSalle': { \n",
    "        'Lady in the Water': 3.0, \n",
    "        'Snakes on a Plane': 4.0, \n",
    "        'Just My Luck': 2.0, \n",
    "        'Superman Returns': 3.0, \n",
    "        'The Night Listener': 3.0, \n",
    "        'You, Me and Dupree': 2.0 \n",
    "    }, 'Jack Mattheuws': { \n",
    "        'Lady in the Water': 3.0, \n",
    "        'Snakes on a Plane': 4.0, \n",
    "        'The Night Listener': 3.0, \n",
    "        'Superman Returns': 5.0, \n",
    "        'You, Me and Dupree': 3.5 \n",
    "    }, 'Toby': {\n",
    "        'Snakes on a Plane': 4.5, \n",
    "        'You, Me and Dupree': 1.0, \n",
    "        'Superman Returns': 4.0 \n",
    "    } \n",
    "}"
   ]
  },
  {
   "cell_type": "code",
   "execution_count": 4,
   "metadata": {},
   "outputs": [],
   "source": [
    "from math import sqrt"
   ]
  },
  {
   "cell_type": "code",
   "execution_count": 12,
   "metadata": {},
   "outputs": [],
   "source": [
    "# 유클리디안 거리점수(Euclidean Distance)\n",
    "\n",
    "# sqrt(pow(x1 - x2) + pow(y1 - y2))\n",
    "# 1 / (1 + sqrt(pow(x1 - x2) + pow(y1 - y2)))\n",
    "\n",
    "def sim_distance(prefs, person1, person2):\n",
    "    \n",
    "    # 공통 항목 추출\n",
    "    si = dict()\n",
    "    \n",
    "    for item in prefs[person1]:\n",
    "        if item in prefs[person2]:\n",
    "            si[item] = 1\n",
    "            \n",
    "    # 공통 평가 항목이 없는 경우 0 리턴\n",
    "    if len(si) == 0:\n",
    "        return 0\n",
    "    \n",
    "    # person1의 item이 person2에서도 존재한다면, person1과 person2의 item 평점 차이의\n",
    "    # 제곱한 값을 더한 후 제곱 근을 계산\n",
    "    sum_of_squared = sum([(prefs[person1][item] - prefs[person2][item])**2 for item in prefs[person1] if item in prefs[person2]])\n",
    "    \n",
    "    return 1 / 1 + (sqrt(sum_of_squared))"
   ]
  },
  {
   "cell_type": "code",
   "execution_count": 16,
   "metadata": {},
   "outputs": [
    {
     "name": "stdout",
     "output_type": "stream",
     "text": [
      "Toby and Lisa Rose 2.8708286933869704\n",
      "Toby and Gene Seymour 3.8722813232690143\n",
      "Toby and Michael Phillips 2.118033988749895\n",
      "Toby and Claudia Puig 2.802775637731995\n",
      "Toby and Mick LaSalle 2.5\n",
      "Toby and Jack Mattheuws 3.7386127875258306\n",
      "Toby and Toby 1.0\n"
     ]
    }
   ],
   "source": [
    "for item in critics:\n",
    "    print ('Toby and', item, sim_distance(critics, 'Toby', item))"
   ]
  },
  {
   "cell_type": "code",
   "execution_count": 21,
   "metadata": {},
   "outputs": [],
   "source": [
    "# 피어슨 상관계수(Pearson correlation coefficient)\n",
    "\n",
    "# 1. 두 평론가가 공통으로 평가한 영화들을 찾는다.\n",
    "# 2. 각각의 평론가가 평가한 영화 점수들을 합한다.\n",
    "# 3. 각각의 평론가가 평가한 영화 점수의 제곱의 합을 구한다.\n",
    "# 4. 두 평론가가 평가한 영화 점수의 곱의 합을 구한다.\n",
    "# 5. 아래의 공식을 이용해 피어슨 상관계수를 구한다.\n",
    "# 결과값 r은 -1 ~ 1 사이의 값을 가질 수 있고, \n",
    "# x와 y가 완전 동일하면 1, 전혀 다르면 0, 반대 방향으로 완전 동일하면 -1 값을 가진다.\n",
    "\n",
    "def sim_person2(prefs, p1, p2):\n",
    "    \n",
    "    # 같이 평가한 항목들의 목록을 구함\n",
    "    si = dict()\n",
    "    \n",
    "    for item in prefs[p1]:\n",
    "        if item in prefs[p2]: si[item] = 1\n",
    "            \n",
    "    # 공통 항목 개수\n",
    "    n = len(si)\n",
    "    \n",
    "    # 공통 항목이 없으면 0 리턴\n",
    "    if n == 0:\n",
    "        return 0\n",
    "    \n",
    "    # 모든 선호도를 합산\n",
    "    sum1 = sum([prefs[p1][it] for it in si])\n",
    "    sum2 = sum([prefs[p2][it] for it in si])\n",
    "    \n",
    "    # 제곱의 합을 계산\n",
    "    sum1Sq = sum([(prefs[p1][it])**2 for it in si])\n",
    "    sum2Sq = sum([(prefs[p2][it])**2 for it in si])\n",
    "    \n",
    "    # 곱의 합을 계산\n",
    "    pSum = sum([prefs[p1][it] * prefs[p2][it] for it in si])\n",
    "    \n",
    "    # 피어슨 점수 계산\n",
    "    num = pSum - (sum1 * sum2 / n)\n",
    "    den = sqrt((sum1Sq - pow(sum1, 2) / n) * (sum2Sq - pow(sum2, 2) / n))\n",
    "    \n",
    "    if den == 0:\n",
    "        return 0\n",
    "    \n",
    "    r = num / den\n",
    "    \n",
    "    return r"
   ]
  },
  {
   "cell_type": "code",
   "execution_count": 22,
   "metadata": {},
   "outputs": [
    {
     "name": "stdout",
     "output_type": "stream",
     "text": [
      "Lisa Rose and Lisa Rose 1.0\n",
      "Lisa Rose and Gene Seymour 0.39605901719066977\n",
      "Lisa Rose and Michael Phillips 0.6225430174794672\n",
      "Lisa Rose and Claudia Puig 0.5669467095138396\n",
      "Lisa Rose and Mick LaSalle 0.5940885257860044\n",
      "Lisa Rose and Jack Mattheuws 0.7470178808339965\n",
      "Lisa Rose and Toby 0.9912407071619299\n"
     ]
    }
   ],
   "source": [
    "for item in critics:\n",
    "    print ('Lisa Rose and', item, sim_person2(critics, 'Lisa Rose', item))"
   ]
  },
  {
   "cell_type": "code",
   "execution_count": null,
   "metadata": {},
   "outputs": [],
   "source": []
  }
 ],
 "metadata": {
  "kernelspec": {
   "display_name": "Python 3",
   "language": "python",
   "name": "python3"
  },
  "language_info": {
   "codemirror_mode": {
    "name": "ipython",
    "version": 3
   },
   "file_extension": ".py",
   "mimetype": "text/x-python",
   "name": "python",
   "nbconvert_exporter": "python",
   "pygments_lexer": "ipython3",
   "version": "3.7.4"
  }
 },
 "nbformat": 4,
 "nbformat_minor": 4
}
