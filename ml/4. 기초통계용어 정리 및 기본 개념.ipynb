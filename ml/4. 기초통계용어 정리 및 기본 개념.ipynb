{
 "cells": [
  {
   "cell_type": "markdown",
   "metadata": {},
   "source": [
    "### 통계 모델링 vs 모신러닝 모델링"
   ]
  },
  {
   "cell_type": "markdown",
   "metadata": {},
   "source": [
    "|순서|통계|머신러닝|\n",
    "|:--:|:--|:--|\n",
    "|1|변수간 관계를 수학식으로 정형화|데이터로부터 학습이 가능한 알고리즘을 사용한다.(규칙기반 프로그래밍 방식이 필요 없다.)|\n",
    "|2|전제, 데이터에 맞는 모델 적합화 수행 전, 곡선 형태를 가정한다.(선형, 다형...)|주어진 데이터로부터 복잡한 패턴을 스스로 학습한다. -> 곡선 형태의 가정은 필요 없다.|\n",
    "|3|어떻게 표현하는가 : 85%의 정확도, 92%의 신뢰수준으로 결과를 예측했다.|정확도 86%로 예측했다. 손실함수(회귀쪽의 성능평가지수) 0.5로 수렴했다.|\n",
    "|4|P값의 다양한 매개변수 결과를 예측한다.|통계적 유의성의 전달을 안한다. 미고려|\n",
    "|5|70:30 = 훈련:테스트|50:25:25 = 훈련:검증:테스트|\n",
    "|6|훈련 데이터 만으로 개발|훈련/검증 데이터 2개가 필요|\n",
    "|7|통계 모델링은 연구 목적, 증명 대부분|실제 환경을 구현하는 방점|\n",
    "|8|통계학과, 수학과|전산학과|"
   ]
  },
  {
   "cell_type": "markdown",
   "metadata": {},
   "source": [
    "### 통계 기본 이론\n",
    "\n",
    "- 예측 분석학\n",
    "- 대전제는 역사는 반복적이다.\n",
    "- 과거 데이터에 대한 적합화를 수행하여 이를 테스트\n",
    "    - 결과 성능에 대한 척도가 검증되면,\n",
    "    - 동일 모델에 대해서 미래 예측에 활용\n",
    "- 독립 변수\n",
    "    - 관측치, 입력변수, 특징, feature, 설명변수 등 \n",
    "- 종속 변수\n",
    "    - 결과변수, 반응변수, 응답변수, 설명된변수, 측정된변수, 레이블, 실험변수 등\n",
    "- 변수들로 이루어진 수학식\n",
    "    - 이를 이용하여 계산 후 실제에 적용\n",
    "    - 이를 통해서 추정을 한다. -> 통계 학문\n",
    "- 가정\n",
    "    - 항상 모든 변수들이 만족해야하는 기본 가정으로부터 시작한다."
   ]
  },
  {
   "cell_type": "markdown",
   "metadata": {},
   "source": [
    "### 기술 통계 용어 정리\n",
    "\n",
    "<img src='./table/s_0.png' width='500'/>"
   ]
  },
  {
   "cell_type": "markdown",
   "metadata": {},
   "source": [
    "- 모집단\n",
    "    - 데이터 **전체**, 관측값 전체, 연구 중 데이터 전체\n",
    "- 표본\n",
    "    - 모집단의 부분집합, 분석 중 모집단의 일부\n",
    "    - 모집단 전수 분석은 비용이 많이 발생(시간, 돈..) 표본으로 조사 후 모집단에 결론에 도달 방식\n",
    "- 매개변수\n",
    "    - 모집단에 관해서 계산하는 척도"
   ]
  },
  {
   "cell_type": "markdown",
   "metadata": {},
   "source": [
    "<img src='./table/s_1.png' width='500'/>"
   ]
  },
  {
   "cell_type": "markdown",
   "metadata": {},
   "source": [
    "- 통계량\n",
    "    - 표본에 대한 통계량\n",
    "- 평균\n",
    "    - 산술평균(모든 값을 더하고, 개수로 나눈다.)\n",
    "    - 함정 -> 이상치(특이값)이 있으면 값이 튄다.\n",
    "- 중간값\n",
    "    - 데이터의 중간지점, 데이터를 오름/내림 차순으로 정렬 후 가운데 값\n",
    "- 최빈값\n",
    "    - 데이터 중에서 빈번하게 반복되는 데이터 포인트"
   ]
  },
  {
   "cell_type": "code",
   "execution_count": 16,
   "metadata": {},
   "outputs": [],
   "source": [
    "# scipy를 이용하여 통계 처리\n",
    "from scipy import stats\n",
    "import numpy as np"
   ]
  },
  {
   "cell_type": "code",
   "execution_count": 17,
   "metadata": {},
   "outputs": [],
   "source": [
    "# 모집합(데이터 전체)\n",
    "# 단, 데이터 수가 적으서 표본을 쓰지는 않겠다.\n",
    "data = [2, 4, 2, 3, 6, 9, 7, 1, 2, 3, 7, 2, 3, 9, 8, 5, 3]"
   ]
  },
  {
   "cell_type": "code",
   "execution_count": 18,
   "metadata": {},
   "outputs": [],
   "source": [
    "# 리스트 데이터를 배열로 변환한다.(scipy의 기본 베이스는 numpy 이고, \n",
    "# numpy의 계산 기본 자료 구조는 배열이다.)\n",
    "data = np.array(data)"
   ]
  },
  {
   "cell_type": "code",
   "execution_count": 19,
   "metadata": {},
   "outputs": [
    {
     "data": {
      "text/plain": [
       "(4.470588235294118, 4.47)"
      ]
     },
     "execution_count": 19,
     "metadata": {},
     "output_type": "execute_result"
    }
   ],
   "source": [
    "# 평균\n",
    "np.mean(data), round(np.mean(data), 2)"
   ]
  },
  {
   "cell_type": "code",
   "execution_count": 20,
   "metadata": {},
   "outputs": [
    {
     "data": {
      "text/plain": [
       "3.0"
      ]
     },
     "execution_count": 20,
     "metadata": {},
     "output_type": "execute_result"
    }
   ],
   "source": [
    "# 중간값\n",
    "np.median(data)"
   ]
  },
  {
   "cell_type": "code",
   "execution_count": 21,
   "metadata": {},
   "outputs": [
    {
     "data": {
      "text/plain": [
       "2"
      ]
     },
     "execution_count": 21,
     "metadata": {},
     "output_type": "execute_result"
    }
   ],
   "source": [
    "# 최빈값\n",
    "tmp = stats.mode(data)\n",
    "tmp[0][0]"
   ]
  },
  {
   "cell_type": "code",
   "execution_count": 22,
   "metadata": {},
   "outputs": [],
   "source": [
    "import pandas as pd"
   ]
  },
  {
   "cell_type": "code",
   "execution_count": 23,
   "metadata": {},
   "outputs": [
    {
     "data": {
      "text/html": [
       "<div>\n",
       "<style scoped>\n",
       "    .dataframe tbody tr th:only-of-type {\n",
       "        vertical-align: middle;\n",
       "    }\n",
       "\n",
       "    .dataframe tbody tr th {\n",
       "        vertical-align: top;\n",
       "    }\n",
       "\n",
       "    .dataframe thead th {\n",
       "        text-align: right;\n",
       "    }\n",
       "</style>\n",
       "<table border=\"1\" class=\"dataframe\">\n",
       "  <thead>\n",
       "    <tr style=\"text-align: right;\">\n",
       "      <th></th>\n",
       "      <th>0</th>\n",
       "    </tr>\n",
       "  </thead>\n",
       "  <tbody>\n",
       "    <tr>\n",
       "      <td>count</td>\n",
       "      <td>17.000000</td>\n",
       "    </tr>\n",
       "    <tr>\n",
       "      <td>mean</td>\n",
       "      <td>4.470588</td>\n",
       "    </tr>\n",
       "    <tr>\n",
       "      <td>std</td>\n",
       "      <td>2.672023</td>\n",
       "    </tr>\n",
       "    <tr>\n",
       "      <td>min</td>\n",
       "      <td>1.000000</td>\n",
       "    </tr>\n",
       "    <tr>\n",
       "      <td>25%</td>\n",
       "      <td>2.000000</td>\n",
       "    </tr>\n",
       "    <tr>\n",
       "      <td>50%</td>\n",
       "      <td>3.000000</td>\n",
       "    </tr>\n",
       "    <tr>\n",
       "      <td>75%</td>\n",
       "      <td>7.000000</td>\n",
       "    </tr>\n",
       "    <tr>\n",
       "      <td>max</td>\n",
       "      <td>9.000000</td>\n",
       "    </tr>\n",
       "  </tbody>\n",
       "</table>\n",
       "</div>"
      ],
      "text/plain": [
       "               0\n",
       "count  17.000000\n",
       "mean    4.470588\n",
       "std     2.672023\n",
       "min     1.000000\n",
       "25%     2.000000\n",
       "50%     3.000000\n",
       "75%     7.000000\n",
       "max     9.000000"
      ]
     },
     "execution_count": 23,
     "metadata": {},
     "output_type": "execute_result"
    }
   ],
   "source": [
    "df = pd.DataFrame(data)\n",
    "df.describe()"
   ]
  },
  {
   "cell_type": "markdown",
   "metadata": {},
   "source": [
    "### 산포도\n",
    "\n",
    "- 산포\n",
    "    - 데이터가 얼마나 퍼져있는가(변량)\n",
    "    - 데이터 변수가 부적합한 값을 가지고 있는지 측정\n",
    "    - 데이터가 중심에 모이지 않고 얼마나 흩어져 있는지 제공\n",
    "- 범위\n",
    "    - 최대값, 최소값의 차이\n",
    "- 분산\n",
    "    - 평균과 관측값의 차이를 제곱한 값들의 평균\n",
    "    - 기대값으로부터 얼마나 떨어진 곳에 데이터가 분포하는지 가능하는 수치다.\n",
    "- 표준편차\n",
    "    - 분산의 제곱근\n",
    "    - 분산보다 더 많이 활용된다.\n",
    "- 분위수\n",
    "    - 데이터를 동일한 조각으로 분할\n",
    "    - 백분위\n",
    "        - 퍼센테지\n",
    "        - 중간값 : 50% 지점\n",
    "    - 십분위\n",
    "        - 10번째 백분위, 전체 데이터의 10% 지점\n",
    "    - 사분위\n",
    "        - 첫 번째 사분위 25% 지점\n",
    "    - IQR 범위\n",
    "        - 1사분위, 3사분위의 차이값\n",
    "        - 데이터의 중간값을 보고, 이상값을 찾아낼 때 효과적으로 사용\n",
    "        - 중간값(50% 지점)이 속한 데이터 포인트\n",
    "\n",
    "<img src='./table/s_2.png' width='400'/>"
   ]
  },
  {
   "cell_type": "markdown",
   "metadata": {},
   "source": [
    "### 정규분포\n",
    "\n",
    "<img src='./table/확률변수_확률분포_확률_이산확률변수.jpg' width='300'/>"
   ]
  },
  {
   "cell_type": "markdown",
   "metadata": {},
   "source": [
    "- 동전을 두 번 던진다. 동전은 앞면(H), 뒷면(T) 2개가 존재한다.\n",
    "- 동전을 두 번 던졌을 때, 나올 수 있는 경우의 수 -> S = {HH, HT, TH, TT} 이다.\n",
    "    - **정의역, 표본공간, S**\n",
    "- 동전을 두 번 던졌을 때, 앞면이 나오는 케이스는?\n",
    "    - HH -> 2, HT/TH -> 1, TT -> 0 에 대응되었다.\n",
    "    - 0, 1, 2 이것을 실수공간 값들 중에서 HH가 2에 대응하고, HT/TH가 1에 대응하도록\n",
    "    - 규칙, 대응식 등 이런 것을 정의하는 **대응방식 -> 관계를 정의하는 함수 -> 확률변수**\n",
    "- **실수공간(공역)**의 어떤 값이 표본공간(S)의 원소들과 어떻게 연결할 지를 정의하는 함수\n",
    "    - 확률변수이다.\n",
    "    - 정의역이 표본공간이고, 공역이 실수 전체의 집합인 함수가 확률변수이다.\n",
    "- **이산확률변수**\n",
    "    - 실수공간(공역)을 셀 수 있다면 그때의 확률변수를 이산확률변수이다 라고 정의\n",
    "    - 0, 1, 2\n",
    "- **확률분포**\n",
    "    - 위의 케이스에서 0, 1, 2 등 공역을 정의역으로 보고\n",
    "    - 확률 1/2, 1/4을 공역으로 보았을 때\n",
    "    - 2개가 연결되는, 대응되는 관계 -> 함수 -> 확률분포"
   ]
  },
  {
   "cell_type": "markdown",
   "metadata": {},
   "source": [
    "- 정규분포\n",
    "    - 가우시안 분포\n",
    "    - 연속 확률 분포의 하나\n",
    "    - 정규분포는 수집된 자료(표본)의 분포를 근사하는데 사용\n",
    "    \n",
    "<img src='./table/RecApprox.gif' width='300'/>\n",
    "\n",
    "    - 특징\n",
    "        - 중심극한정리 : 독립적인 확률변수들의 평균이 정규분포에 가까워지려고 하는 성질이 있다.\n",
    "        - 입학 시험 점수가 정규 분포를 따른다\n",
    "        - 평균 점수가 52점이다. 표준편차 16.3인 경우\n",
    "        - 몇 %가 67점이상을 받을 것인가?\n",
    "        \n",
    "<img src='./table/s_4.png' width='500'/> "
   ]
  },
  {
   "cell_type": "code",
   "execution_count": 24,
   "metadata": {},
   "outputs": [],
   "source": [
    "xbar = 67\n",
    "mu = 52\n",
    "s = 16.3"
   ]
  },
  {
   "cell_type": "code",
   "execution_count": 25,
   "metadata": {},
   "outputs": [
    {
     "data": {
      "text/plain": [
       "0.920245398773006"
      ]
     },
     "execution_count": 25,
     "metadata": {},
     "output_type": "execute_result"
    }
   ],
   "source": [
    "# z-score 표준값\n",
    "# 정규분포를 만들고, 각각의 경우가 표준편차상의 어떤 위치를 차지하는지 보여주는 수치\n",
    "z = (xbar - mu) / s\n",
    "z"
   ]
  },
  {
   "cell_type": "code",
   "execution_count": 28,
   "metadata": {},
   "outputs": [
    {
     "data": {
      "text/plain": [
       "17.87"
      ]
     },
     "execution_count": 28,
     "metadata": {},
     "output_type": "execute_result"
    }
   ],
   "source": [
    "# 67점 이상 면적이 어떻게 되는가? -> 곡선하 확률 면적 계산\n",
    "p = 1 - stats.norm.cdf(z)\n",
    "round(p * 100, 2)"
   ]
  },
  {
   "cell_type": "markdown",
   "metadata": {},
   "source": [
    "### 카이제곱검정\n",
    "\n",
    "- 범주형 데이터의 통계 분석 시 사용\n",
    "- 2개의 범주형 변수 X, Y가 있다.\n",
    "- 두 개의 변수 사이의 통계적인 상관성이 존재하는가?"
   ]
  },
  {
   "cell_type": "code",
   "execution_count": 29,
   "metadata": {},
   "outputs": [],
   "source": [
    "import pandas as pd\n",
    "from scipy import stats"
   ]
  },
  {
   "cell_type": "code",
   "execution_count": 30,
   "metadata": {},
   "outputs": [
    {
     "data": {
      "text/plain": [
       "(237, 12)"
      ]
     },
     "execution_count": 30,
     "metadata": {},
     "output_type": "execute_result"
    }
   ],
   "source": [
    "survey = pd.read_csv('./table/survey.csv')\n",
    "survey.shape"
   ]
  },
  {
   "cell_type": "code",
   "execution_count": 31,
   "metadata": {},
   "outputs": [
    {
     "data": {
      "text/html": [
       "<div>\n",
       "<style scoped>\n",
       "    .dataframe tbody tr th:only-of-type {\n",
       "        vertical-align: middle;\n",
       "    }\n",
       "\n",
       "    .dataframe tbody tr th {\n",
       "        vertical-align: top;\n",
       "    }\n",
       "\n",
       "    .dataframe thead th {\n",
       "        text-align: right;\n",
       "    }\n",
       "</style>\n",
       "<table border=\"1\" class=\"dataframe\">\n",
       "  <thead>\n",
       "    <tr style=\"text-align: right;\">\n",
       "      <th></th>\n",
       "      <th>Sex</th>\n",
       "      <th>Wr.Hnd</th>\n",
       "      <th>NW.Hnd</th>\n",
       "      <th>W.Hnd</th>\n",
       "      <th>Fold</th>\n",
       "      <th>Pulse</th>\n",
       "      <th>Clap</th>\n",
       "      <th>Exer</th>\n",
       "      <th>Smoke</th>\n",
       "      <th>Height</th>\n",
       "      <th>M.I</th>\n",
       "      <th>Age</th>\n",
       "    </tr>\n",
       "  </thead>\n",
       "  <tbody>\n",
       "    <tr>\n",
       "      <td>0</td>\n",
       "      <td>Female</td>\n",
       "      <td>18.5</td>\n",
       "      <td>18.0</td>\n",
       "      <td>Right</td>\n",
       "      <td>R on L</td>\n",
       "      <td>92.0</td>\n",
       "      <td>Left</td>\n",
       "      <td>Some</td>\n",
       "      <td>Never</td>\n",
       "      <td>173.0</td>\n",
       "      <td>Metric</td>\n",
       "      <td>18.250</td>\n",
       "    </tr>\n",
       "    <tr>\n",
       "      <td>1</td>\n",
       "      <td>Male</td>\n",
       "      <td>19.5</td>\n",
       "      <td>20.5</td>\n",
       "      <td>Left</td>\n",
       "      <td>R on L</td>\n",
       "      <td>104.0</td>\n",
       "      <td>Left</td>\n",
       "      <td>None</td>\n",
       "      <td>Regul</td>\n",
       "      <td>177.8</td>\n",
       "      <td>Imperial</td>\n",
       "      <td>17.583</td>\n",
       "    </tr>\n",
       "  </tbody>\n",
       "</table>\n",
       "</div>"
      ],
      "text/plain": [
       "      Sex  Wr.Hnd  NW.Hnd  W.Hnd    Fold  Pulse  Clap  Exer  Smoke  Height  \\\n",
       "0  Female    18.5    18.0  Right  R on L   92.0  Left  Some  Never   173.0   \n",
       "1    Male    19.5    20.5   Left  R on L  104.0  Left  None  Regul   177.8   \n",
       "\n",
       "        M.I     Age  \n",
       "0    Metric  18.250  \n",
       "1  Imperial  17.583  "
      ]
     },
     "execution_count": 31,
     "metadata": {},
     "output_type": "execute_result"
    }
   ],
   "source": [
    "survey.head(2)"
   ]
  },
  {
   "cell_type": "code",
   "execution_count": 33,
   "metadata": {},
   "outputs": [
    {
     "data": {
      "text/plain": [
       "array(['Never', 'Regul', 'Occas', 'Heavy', nan], dtype=object)"
      ]
     },
     "execution_count": 33,
     "metadata": {},
     "output_type": "execute_result"
    }
   ],
   "source": [
    "# 흡연 항목의 데이터\n",
    "survey.Smoke.unique()"
   ]
  },
  {
   "cell_type": "code",
   "execution_count": 35,
   "metadata": {},
   "outputs": [
    {
     "data": {
      "text/plain": [
       "array(['Some', 'None', 'Freq'], dtype=object)"
      ]
     },
     "execution_count": 35,
     "metadata": {},
     "output_type": "execute_result"
    }
   ],
   "source": [
    "survey.Exer.unique()"
   ]
  },
  {
   "cell_type": "code",
   "execution_count": 53,
   "metadata": {},
   "outputs": [
    {
     "data": {
      "text/html": [
       "<div>\n",
       "<style scoped>\n",
       "    .dataframe tbody tr th:only-of-type {\n",
       "        vertical-align: middle;\n",
       "    }\n",
       "\n",
       "    .dataframe tbody tr th {\n",
       "        vertical-align: top;\n",
       "    }\n",
       "\n",
       "    .dataframe thead th {\n",
       "        text-align: right;\n",
       "    }\n",
       "</style>\n",
       "<table border=\"1\" class=\"dataframe\">\n",
       "  <thead>\n",
       "    <tr style=\"text-align: right;\">\n",
       "      <th>Exer</th>\n",
       "      <th>Freq</th>\n",
       "      <th>None</th>\n",
       "      <th>Some</th>\n",
       "      <th>All</th>\n",
       "    </tr>\n",
       "    <tr>\n",
       "      <th>Smoke</th>\n",
       "      <th></th>\n",
       "      <th></th>\n",
       "      <th></th>\n",
       "      <th></th>\n",
       "    </tr>\n",
       "  </thead>\n",
       "  <tbody>\n",
       "    <tr>\n",
       "      <td>Heavy</td>\n",
       "      <td>7</td>\n",
       "      <td>1</td>\n",
       "      <td>3</td>\n",
       "      <td>11</td>\n",
       "    </tr>\n",
       "    <tr>\n",
       "      <td>Never</td>\n",
       "      <td>87</td>\n",
       "      <td>18</td>\n",
       "      <td>84</td>\n",
       "      <td>189</td>\n",
       "    </tr>\n",
       "    <tr>\n",
       "      <td>Occas</td>\n",
       "      <td>12</td>\n",
       "      <td>3</td>\n",
       "      <td>4</td>\n",
       "      <td>19</td>\n",
       "    </tr>\n",
       "    <tr>\n",
       "      <td>Regul</td>\n",
       "      <td>9</td>\n",
       "      <td>1</td>\n",
       "      <td>7</td>\n",
       "      <td>17</td>\n",
       "    </tr>\n",
       "    <tr>\n",
       "      <td>All</td>\n",
       "      <td>115</td>\n",
       "      <td>23</td>\n",
       "      <td>98</td>\n",
       "      <td>236</td>\n",
       "    </tr>\n",
       "  </tbody>\n",
       "</table>\n",
       "</div>"
      ],
      "text/plain": [
       "Exer   Freq  None  Some  All\n",
       "Smoke                       \n",
       "Heavy     7     1     3   11\n",
       "Never    87    18    84  189\n",
       "Occas    12     3     4   19\n",
       "Regul     9     1     7   17\n",
       "All     115    23    98  236"
      ]
     },
     "execution_count": 53,
     "metadata": {},
     "output_type": "execute_result"
    }
   ],
   "source": [
    "# 목적 : Smoke 항목과 Exer 항목간의 상관성을 검정한다.\n",
    "# 빈도 : 특정 변수에 대해 특정 변수의 값의 빈도를 재구성\n",
    "# Smoke의 Never라는 값이 Exer의 Some일 때 몇 번, None일 때 몇 번, Freq일 때 몇 번인지 구성\n",
    "# 인덱스가 Smoke의 값(nan 제거, 4개), 컬럼이 Exer의 값(3개) -> 4 * 3\n",
    "tmp = pd.crosstab(survey.Smoke, survey.Exer, margins=True)\n",
    "tmp"
   ]
  },
  {
   "cell_type": "code",
   "execution_count": 54,
   "metadata": {},
   "outputs": [
    {
     "data": {
      "text/plain": [
       "(5, 4)"
      ]
     },
     "execution_count": 54,
     "metadata": {},
     "output_type": "execute_result"
    }
   ],
   "source": [
    "tmp.shape"
   ]
  },
  {
   "cell_type": "code",
   "execution_count": 57,
   "metadata": {},
   "outputs": [
    {
     "data": {
      "text/html": [
       "<div>\n",
       "<style scoped>\n",
       "    .dataframe tbody tr th:only-of-type {\n",
       "        vertical-align: middle;\n",
       "    }\n",
       "\n",
       "    .dataframe tbody tr th {\n",
       "        vertical-align: top;\n",
       "    }\n",
       "\n",
       "    .dataframe thead th {\n",
       "        text-align: right;\n",
       "    }\n",
       "</style>\n",
       "<table border=\"1\" class=\"dataframe\">\n",
       "  <thead>\n",
       "    <tr style=\"text-align: right;\">\n",
       "      <th>Exer</th>\n",
       "      <th>Freq</th>\n",
       "      <th>None</th>\n",
       "      <th>Some</th>\n",
       "    </tr>\n",
       "    <tr>\n",
       "      <th>Smoke</th>\n",
       "      <th></th>\n",
       "      <th></th>\n",
       "      <th></th>\n",
       "    </tr>\n",
       "  </thead>\n",
       "  <tbody>\n",
       "    <tr>\n",
       "      <td>Heavy</td>\n",
       "      <td>7</td>\n",
       "      <td>1</td>\n",
       "      <td>3</td>\n",
       "    </tr>\n",
       "    <tr>\n",
       "      <td>Never</td>\n",
       "      <td>87</td>\n",
       "      <td>18</td>\n",
       "      <td>84</td>\n",
       "    </tr>\n",
       "    <tr>\n",
       "      <td>Occas</td>\n",
       "      <td>12</td>\n",
       "      <td>3</td>\n",
       "      <td>4</td>\n",
       "    </tr>\n",
       "    <tr>\n",
       "      <td>Regul</td>\n",
       "      <td>9</td>\n",
       "      <td>1</td>\n",
       "      <td>7</td>\n",
       "    </tr>\n",
       "  </tbody>\n",
       "</table>\n",
       "</div>"
      ],
      "text/plain": [
       "Exer   Freq  None  Some\n",
       "Smoke                  \n",
       "Heavy     7     1     3\n",
       "Never    87    18    84\n",
       "Occas    12     3     4\n",
       "Regul     9     1     7"
      ]
     },
     "execution_count": 57,
     "metadata": {},
     "output_type": "execute_result"
    }
   ],
   "source": [
    "# All 항목을 모두 제거 -> shape의 최종 형태(4, 3)\n",
    "src_df = tmp.iloc[:-1, :-1]\n",
    "src_df"
   ]
  },
  {
   "cell_type": "code",
   "execution_count": 60,
   "metadata": {},
   "outputs": [
    {
     "data": {
      "text/plain": [
       "0.48"
      ]
     },
     "execution_count": 60,
     "metadata": {},
     "output_type": "execute_result"
    }
   ],
   "source": [
    "# P값 획득\n",
    "p_value = stats.chi2_contingency(observed=src_df)\n",
    "p_value = round(p_value[1], 2)\n",
    "p_value"
   ]
  },
  {
   "cell_type": "code",
   "execution_count": 61,
   "metadata": {},
   "outputs": [
    {
     "name": "stdout",
     "output_type": "stream",
     "text": [
      "두 변수는 서로 독립적이다. 관계 없다.\n"
     ]
    }
   ],
   "source": [
    "# 0.05 -> 임계값\n",
    "# 판단\n",
    "if p_value < 0.05:\n",
    "    print('강한 상관 관계')\n",
    "else:\n",
    "    print('두 변수는 서로 독립적이다. 관계 없다.')"
   ]
  },
  {
   "cell_type": "markdown",
   "metadata": {},
   "source": [
    "### 가설검정\n",
    "\n",
    "- 표본에 통계적 테스트를 수행 시, 전체 모집단에 대한 추론을 만드는 과정\n",
    "- 귀무가설\n",
    "    - 검정을 직접 수행하기가 어렵다. 불가능하다.\n",
    "    - 처음부터 이 가설을 버릴 것으로 예상하고 만드는 가설\n",
    "    - 통계학적으로 증거를 통해 증명하려는 가설\n",
    "    - 경찰\n",
    "        - 범죄 사건이 있었고, 용의자가 있다.\n",
    "        - 형사는 용의자가 범죄를 저질렀다고 하는 추정의 대립가설을 세운다.\n",
    "        - 귀무가설은 이 용의자는 무죄\n",
    "- 대립가설\n",
    "    - 검정을 직접 수행하기가 어렵다. 불가능하다.\n",
    "    - 귀무가설을 기각함으로써 받아들여지는 반증의 과정, 결론"
   ]
  },
  {
   "cell_type": "markdown",
   "metadata": {},
   "source": [
    "- P값\n",
    "    - 귀무가설이 옳다는 전제하에서\n",
    "    - 표본에서 실제로 관측된 통계값과 같거나, 더 극단적인 통계값이 관측될 확률\n",
    "    - P값이 작을수록 귀무가설에 반하는 강력한 증거이다.\n",
    "    - P값은 귀무가설에 반하는 증거를 측정하는 수치(확률)\n",
    "    - 가설검정단계\n",
    "        - 귀무가설 설립\n",
    "        - 표본 추출\n",
    "        - 표본에 대한 통계량을 구한다.\n",
    "        - 귀무가설이 통계적으로 유의한지를 확인\n",
    "            - 기각? 받을것이냐? \n",
    "- 유의 수준\n",
    "    - 판단의 기준이 되는 임계값(치)\n",
    "    - 유의 수준을 a라고 하면 95% 신뢰수준이라고 한다면\n",
    "    - (1 - 0.95) -> 0.05 = a가 유의수준값\n",
    "    \n",
    "- 예\n",
    "    - 과자 공장 A사\n",
    "    - 제품 B의 중량 1000g 이상이다. <- 주장\n",
    "    - 증명\n",
    "        - 표본 : 과자 30개 무작위로 추출, 무게를 측정, 평균을 냈다.\n",
    "        - 측정치 : 990g\n",
    "        - 표준편차 : 분산(평균과 관측값의 차이를 제곱한 값의 평균)의 제곱근 -> 12.5g\n",
    "        - 유의수준 5% : 0.05로 설정한다면\n",
    "        - A사의 주장을 기각할 수 있겠는가?\n",
    "    - 귀무가설\n",
    "        - 제품 B(과자)의 중량은 1000g보다 크거나 같다.\n",
    "    - 대립가설\n",
    "        - 제품 B(과자)의 중량은 1000g보다 작다.\n",
    "        \n",
    "<img src='./table/s_3.png' width='500'/>"
   ]
  },
  {
   "cell_type": "code",
   "execution_count": 62,
   "metadata": {},
   "outputs": [],
   "source": [
    "from scipy import stats"
   ]
  },
  {
   "cell_type": "code",
   "execution_count": 63,
   "metadata": {},
   "outputs": [],
   "source": [
    "xbar = 990    # 표본의 평균 무게\n",
    "mu = 1000     # 귀무가설에 설정한 임계값(1000g이상이다.)\n",
    "s = 12.5      # 표준편차\n",
    "n = 30        # 표본수"
   ]
  },
  {
   "cell_type": "code",
   "execution_count": 65,
   "metadata": {},
   "outputs": [
    {
     "data": {
      "text/plain": [
       "-4.381780460041329"
      ]
     },
     "execution_count": 65,
     "metadata": {},
     "output_type": "execute_result"
    }
   ],
   "source": [
    "# t-검정통계값\n",
    "t_sample = (xbar - mu) / (s / np.sqrt(float(n)))\n",
    "t_sample"
   ]
  },
  {
   "cell_type": "code",
   "execution_count": 66,
   "metadata": {},
   "outputs": [
    {
     "data": {
      "text/plain": [
       "7.035025729010886e-05"
      ]
     },
     "execution_count": 66,
     "metadata": {},
     "output_type": "execute_result"
    }
   ],
   "source": [
    "p_value = stats.t.sf(np.abs(t_sample), n-1)\n",
    "p_value"
   ]
  },
  {
   "cell_type": "code",
   "execution_count": 64,
   "metadata": {},
   "outputs": [
    {
     "data": {
      "text/plain": [
       "-1.6991270265334977"
      ]
     },
     "execution_count": 64,
     "metadata": {},
     "output_type": "execute_result"
    }
   ],
   "source": [
    "# 유의수준 : 판단의 임계값 ->\n",
    "# t - 분포임계값 구할 수 있다.\n",
    "alpha = 0.05\n",
    "\n",
    "# t - 분포임계값\n",
    "t_alpha = stats.t.ppf(alpha, n-1)\n",
    "t_alpha"
   ]
  },
  {
   "cell_type": "code",
   "execution_count": 68,
   "metadata": {},
   "outputs": [
    {
     "name": "stdout",
     "output_type": "stream",
     "text": [
      "귀무가설을 기각 -> 제품 B는 1000g 이하이다.\n"
     ]
    }
   ],
   "source": [
    "if p_value < alpha:\n",
    "    print('귀무가설을 기각 -> 제품 B는 1000g 이하이다.')\n",
    "else:\n",
    "    print('귀무가설을 승인')"
   ]
  },
  {
   "cell_type": "markdown",
   "metadata": {},
   "source": [
    "### 판단\n",
    "\n",
    "- 귀무가설 기각"
   ]
  },
  {
   "cell_type": "markdown",
   "metadata": {},
   "source": [
    "### 아노바 분산검정\n",
    "\n",
    "- 둘 이상의 모집단의 평균이 서로 동일한지 테스트\n",
    "- 귀무가설\n",
    "    - 모든 모집단의 평균은 동일하다.\n",
    "- 대립가설\n",
    "    - 최소 하나의 모집단의 평균은 다르다.\n",
    "- 사례\n",
    "    - 화학회사에서 오랜시간 연구를 수행\n",
    "    - 모든 농작물에 적용이 가능한 슈퍼 비료(만능 비료)를 개발\n",
    "    - 여러 작물에 적용을 하면 비슷한 수확량을 구하는지 데이터를 획득(fetilizers.csv)\n",
    "    - 여러 작물에 각각 적용해서 효과를 테스트 했다."
   ]
  },
  {
   "cell_type": "code",
   "execution_count": 69,
   "metadata": {},
   "outputs": [],
   "source": [
    "import pandas as pd\n",
    "from scipy import stats"
   ]
  },
  {
   "cell_type": "code",
   "execution_count": 70,
   "metadata": {},
   "outputs": [
    {
     "data": {
      "text/plain": [
       "(6, 3)"
      ]
     },
     "execution_count": 70,
     "metadata": {},
     "output_type": "execute_result"
    }
   ],
   "source": [
    "df = pd.read_csv('./table/fetilizers.csv')\n",
    "df.shape"
   ]
  },
  {
   "cell_type": "code",
   "execution_count": 71,
   "metadata": {},
   "outputs": [
    {
     "data": {
      "text/html": [
       "<div>\n",
       "<style scoped>\n",
       "    .dataframe tbody tr th:only-of-type {\n",
       "        vertical-align: middle;\n",
       "    }\n",
       "\n",
       "    .dataframe tbody tr th {\n",
       "        vertical-align: top;\n",
       "    }\n",
       "\n",
       "    .dataframe thead th {\n",
       "        text-align: right;\n",
       "    }\n",
       "</style>\n",
       "<table border=\"1\" class=\"dataframe\">\n",
       "  <thead>\n",
       "    <tr style=\"text-align: right;\">\n",
       "      <th></th>\n",
       "      <th>fertilizer1</th>\n",
       "      <th>fertilizer2</th>\n",
       "      <th>fertilizer3</th>\n",
       "    </tr>\n",
       "  </thead>\n",
       "  <tbody>\n",
       "    <tr>\n",
       "      <td>0</td>\n",
       "      <td>62</td>\n",
       "      <td>54</td>\n",
       "      <td>48</td>\n",
       "    </tr>\n",
       "    <tr>\n",
       "      <td>1</td>\n",
       "      <td>62</td>\n",
       "      <td>56</td>\n",
       "      <td>62</td>\n",
       "    </tr>\n",
       "    <tr>\n",
       "      <td>2</td>\n",
       "      <td>90</td>\n",
       "      <td>58</td>\n",
       "      <td>92</td>\n",
       "    </tr>\n",
       "    <tr>\n",
       "      <td>3</td>\n",
       "      <td>42</td>\n",
       "      <td>36</td>\n",
       "      <td>96</td>\n",
       "    </tr>\n",
       "    <tr>\n",
       "      <td>4</td>\n",
       "      <td>84</td>\n",
       "      <td>72</td>\n",
       "      <td>92</td>\n",
       "    </tr>\n",
       "    <tr>\n",
       "      <td>5</td>\n",
       "      <td>64</td>\n",
       "      <td>34</td>\n",
       "      <td>80</td>\n",
       "    </tr>\n",
       "  </tbody>\n",
       "</table>\n",
       "</div>"
      ],
      "text/plain": [
       "   fertilizer1  fertilizer2  fertilizer3\n",
       "0           62           54           48\n",
       "1           62           56           62\n",
       "2           90           58           92\n",
       "3           42           36           96\n",
       "4           84           72           92\n",
       "5           64           34           80"
      ]
     },
     "execution_count": 71,
     "metadata": {},
     "output_type": "execute_result"
    }
   ],
   "source": [
    "df"
   ]
  },
  {
   "cell_type": "code",
   "execution_count": 74,
   "metadata": {},
   "outputs": [
    {
     "data": {
      "text/plain": [
       "F_onewayResult(statistic=3.6634935025687523, pvalue=0.05063590143901569)"
      ]
     },
     "execution_count": 74,
     "metadata": {},
     "output_type": "execute_result"
    }
   ],
   "source": [
    "# 아노바 분산\n",
    "anova = stats.f_oneway(df[df.columns[0]], df[df.columns[1]], df[df.columns[2]])\n",
    "anova"
   ]
  },
  {
   "cell_type": "code",
   "execution_count": 75,
   "metadata": {},
   "outputs": [
    {
     "data": {
      "text/plain": [
       "0.051"
      ]
     },
     "execution_count": 75,
     "metadata": {},
     "output_type": "execute_result"
    }
   ],
   "source": [
    "p_value = round(anova[1], 3)\n",
    "p_value"
   ]
  },
  {
   "cell_type": "code",
   "execution_count": 79,
   "metadata": {},
   "outputs": [
    {
     "name": "stdout",
     "output_type": "stream",
     "text": [
      "귀무가설은 기각,  0.0006359014390156861 , 왼쪽 수치만큼만 향상시키면 성립\n"
     ]
    }
   ],
   "source": [
    "if p_value < 0.05:\n",
    "    print('귀무가설은 승인')\n",
    "else:\n",
    "    print('귀무가설은 기각, ', anova[1] - 0.05, ', 왼쪽 수치만큼만 향상시키면 성립')"
   ]
  }
 ],
 "metadata": {
  "kernelspec": {
   "display_name": "Python 3",
   "language": "python",
   "name": "python3"
  },
  "language_info": {
   "codemirror_mode": {
    "name": "ipython",
    "version": 3
   },
   "file_extension": ".py",
   "mimetype": "text/x-python",
   "name": "python",
   "nbconvert_exporter": "python",
   "pygments_lexer": "ipython3",
   "version": "3.7.4"
  }
 },
 "nbformat": 4,
 "nbformat_minor": 4
}
