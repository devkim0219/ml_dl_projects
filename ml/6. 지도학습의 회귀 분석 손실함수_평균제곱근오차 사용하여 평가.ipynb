{
 "cells": [
  {
   "cell_type": "markdown",
   "metadata": {},
   "source": [
    "### 참고\n",
    "\n",
    "- 넷플릭스\n",
    "    - 슬로건 : 모든 것이 추천이다.\n",
    "    - https://medium.com/netflixtechblog/55838468f429\n",
    "    - 넷플릭스의 추천 알고리즘 구현에 대한 기술 블로그 공개"
   ]
  },
  {
   "cell_type": "markdown",
   "metadata": {},
   "source": [
    "### 1. 연구 목표\n",
    "\n",
    "- 사용자 평점 데이터를 기반으로 사용자 특정을 예측하여 추천 시스템을 구축한다.\n",
    "- 실제 OTT, 쇼핑몰에서 회원가입 시 추천 알고리즘으로 사용된다.\n",
    "- 회귀 처리, 회귀 평가, 추천시스템에 대한 이해\n",
    "- FastFM(third party 알고리즘 사용 -> 인수분해머신 기능 지원)\n",
    "    - 윈도우에서 컴파일 후 설치가 불가능하므로 리눅스에 설치하여 개발을 진행"
   ]
  },
  {
   "cell_type": "markdown",
   "metadata": {},
   "source": [
    "### 2. 데이터 수집/확보\n",
    "\n",
    "- ml-100k.zip 파일 제공\n",
    "    - 미국에 있는 movelens라는 사이트에서 제공\n",
    "- 영화 정보 데이터\n",
    "    - 고객 정보 : u.user\n",
    "    - 영화 정보 : u.item\n",
    "    - 평점 정보 : u.data"
   ]
  },
  {
   "cell_type": "code",
   "execution_count": 1,
   "metadata": {},
   "outputs": [],
   "source": [
    "import pandas as pd"
   ]
  },
  {
   "cell_type": "code",
   "execution_count": 2,
   "metadata": {},
   "outputs": [],
   "source": [
    "# 유저 정보 : u.user\n",
    "# u.user라는 데이터에 컬럼이 없다보니, 첫번째 데이터가 컬럼이 되었다.\n",
    "# 이를 예방하기 위해서는 컬럼을 지정한다.\n",
    "cols = ['uid', 'age', 'm', 'job', 'zip_code']\n",
    "users = pd.read_csv('./table/ml-100k/u.user', sep='|', names=cols)"
   ]
  },
  {
   "cell_type": "code",
   "execution_count": 3,
   "metadata": {},
   "outputs": [
    {
     "data": {
      "text/html": [
       "<div>\n",
       "<style scoped>\n",
       "    .dataframe tbody tr th:only-of-type {\n",
       "        vertical-align: middle;\n",
       "    }\n",
       "\n",
       "    .dataframe tbody tr th {\n",
       "        vertical-align: top;\n",
       "    }\n",
       "\n",
       "    .dataframe thead th {\n",
       "        text-align: right;\n",
       "    }\n",
       "</style>\n",
       "<table border=\"1\" class=\"dataframe\">\n",
       "  <thead>\n",
       "    <tr style=\"text-align: right;\">\n",
       "      <th></th>\n",
       "      <th>uid</th>\n",
       "      <th>age</th>\n",
       "      <th>m</th>\n",
       "      <th>job</th>\n",
       "      <th>zip_code</th>\n",
       "    </tr>\n",
       "  </thead>\n",
       "  <tbody>\n",
       "    <tr>\n",
       "      <th>0</th>\n",
       "      <td>1</td>\n",
       "      <td>24</td>\n",
       "      <td>M</td>\n",
       "      <td>technician</td>\n",
       "      <td>85711</td>\n",
       "    </tr>\n",
       "    <tr>\n",
       "      <th>1</th>\n",
       "      <td>2</td>\n",
       "      <td>53</td>\n",
       "      <td>F</td>\n",
       "      <td>other</td>\n",
       "      <td>94043</td>\n",
       "    </tr>\n",
       "  </tbody>\n",
       "</table>\n",
       "</div>"
      ],
      "text/plain": [
       "   uid  age  m         job zip_code\n",
       "0    1   24  M  technician    85711\n",
       "1    2   53  F       other    94043"
      ]
     },
     "execution_count": 3,
     "metadata": {},
     "output_type": "execute_result"
    }
   ],
   "source": [
    "users.head(2)"
   ]
  },
  {
   "cell_type": "code",
   "execution_count": 4,
   "metadata": {},
   "outputs": [
    {
     "data": {
      "text/html": [
       "<div>\n",
       "<style scoped>\n",
       "    .dataframe tbody tr th:only-of-type {\n",
       "        vertical-align: middle;\n",
       "    }\n",
       "\n",
       "    .dataframe tbody tr th {\n",
       "        vertical-align: top;\n",
       "    }\n",
       "\n",
       "    .dataframe thead th {\n",
       "        text-align: right;\n",
       "    }\n",
       "</style>\n",
       "<table border=\"1\" class=\"dataframe\">\n",
       "  <thead>\n",
       "    <tr style=\"text-align: right;\">\n",
       "      <th></th>\n",
       "      <th>uid</th>\n",
       "      <th>age</th>\n",
       "      <th>m</th>\n",
       "      <th>job</th>\n",
       "      <th>zip_code</th>\n",
       "    </tr>\n",
       "  </thead>\n",
       "  <tbody>\n",
       "    <tr>\n",
       "      <th>941</th>\n",
       "      <td>942</td>\n",
       "      <td>48</td>\n",
       "      <td>F</td>\n",
       "      <td>librarian</td>\n",
       "      <td>78209</td>\n",
       "    </tr>\n",
       "    <tr>\n",
       "      <th>942</th>\n",
       "      <td>943</td>\n",
       "      <td>22</td>\n",
       "      <td>M</td>\n",
       "      <td>student</td>\n",
       "      <td>77841</td>\n",
       "    </tr>\n",
       "  </tbody>\n",
       "</table>\n",
       "</div>"
      ],
      "text/plain": [
       "     uid  age  m        job zip_code\n",
       "941  942   48  F  librarian    78209\n",
       "942  943   22  M    student    77841"
      ]
     },
     "execution_count": 4,
     "metadata": {},
     "output_type": "execute_result"
    }
   ],
   "source": [
    "users.tail(2)"
   ]
  },
  {
   "cell_type": "code",
   "execution_count": 5,
   "metadata": {},
   "outputs": [
    {
     "data": {
      "text/plain": [
       "(943, 5)"
      ]
     },
     "execution_count": 5,
     "metadata": {},
     "output_type": "execute_result"
    }
   ],
   "source": [
    "# 고객 943명의 데이터\n",
    "users.shape"
   ]
  },
  {
   "cell_type": "code",
   "execution_count": 6,
   "metadata": {},
   "outputs": [
    {
     "data": {
      "text/html": [
       "<div>\n",
       "<style scoped>\n",
       "    .dataframe tbody tr th:only-of-type {\n",
       "        vertical-align: middle;\n",
       "    }\n",
       "\n",
       "    .dataframe tbody tr th {\n",
       "        vertical-align: top;\n",
       "    }\n",
       "\n",
       "    .dataframe thead th {\n",
       "        text-align: right;\n",
       "    }\n",
       "</style>\n",
       "<table border=\"1\" class=\"dataframe\">\n",
       "  <thead>\n",
       "    <tr style=\"text-align: right;\">\n",
       "      <th></th>\n",
       "      <th>mid</th>\n",
       "      <th>title</th>\n",
       "      <th>release_date</th>\n",
       "      <th>video_release_date</th>\n",
       "      <th>imdb_url</th>\n",
       "    </tr>\n",
       "  </thead>\n",
       "  <tbody>\n",
       "    <tr>\n",
       "      <th>0</th>\n",
       "      <td>1</td>\n",
       "      <td>Toy Story (1995)</td>\n",
       "      <td>01-Jan-1995</td>\n",
       "      <td>NaN</td>\n",
       "      <td>http://us.imdb.com/M/title-exact?Toy%20Story%2...</td>\n",
       "    </tr>\n",
       "    <tr>\n",
       "      <th>1</th>\n",
       "      <td>2</td>\n",
       "      <td>GoldenEye (1995)</td>\n",
       "      <td>01-Jan-1995</td>\n",
       "      <td>NaN</td>\n",
       "      <td>http://us.imdb.com/M/title-exact?GoldenEye%20(...</td>\n",
       "    </tr>\n",
       "  </tbody>\n",
       "</table>\n",
       "</div>"
      ],
      "text/plain": [
       "   mid             title release_date  video_release_date  \\\n",
       "0    1  Toy Story (1995)  01-Jan-1995                 NaN   \n",
       "1    2  GoldenEye (1995)  01-Jan-1995                 NaN   \n",
       "\n",
       "                                            imdb_url  \n",
       "0  http://us.imdb.com/M/title-exact?Toy%20Story%2...  \n",
       "1  http://us.imdb.com/M/title-exact?GoldenEye%20(...  "
      ]
     },
     "execution_count": 6,
     "metadata": {},
     "output_type": "execute_result"
    }
   ],
   "source": [
    "# 영화 정보 로드 : u.item\n",
    "m_cols = ['mid', 'title', 'release_date', 'video_release_date', 'imdb_url']\n",
    "\n",
    "# 영어권이라면 utf-8에서 에러나면 latin1으로 사용\n",
    "# 원본 데이터의 컬럼이 많은데 부분만 쓰고 싶다면 usecols를 적용\n",
    "movies = pd.read_csv('./table/ml-100k/u.item', sep='|', encoding='latin1', names=m_cols, usecols=range(5))\n",
    "movies.head(2)"
   ]
  },
  {
   "cell_type": "code",
   "execution_count": 7,
   "metadata": {},
   "outputs": [
    {
     "data": {
      "text/html": [
       "<div>\n",
       "<style scoped>\n",
       "    .dataframe tbody tr th:only-of-type {\n",
       "        vertical-align: middle;\n",
       "    }\n",
       "\n",
       "    .dataframe tbody tr th {\n",
       "        vertical-align: top;\n",
       "    }\n",
       "\n",
       "    .dataframe thead th {\n",
       "        text-align: right;\n",
       "    }\n",
       "</style>\n",
       "<table border=\"1\" class=\"dataframe\">\n",
       "  <thead>\n",
       "    <tr style=\"text-align: right;\">\n",
       "      <th></th>\n",
       "      <th>mid</th>\n",
       "      <th>title</th>\n",
       "      <th>release_date</th>\n",
       "      <th>video_release_date</th>\n",
       "      <th>imdb_url</th>\n",
       "    </tr>\n",
       "  </thead>\n",
       "  <tbody>\n",
       "    <tr>\n",
       "      <th>1680</th>\n",
       "      <td>1681</td>\n",
       "      <td>You So Crazy (1994)</td>\n",
       "      <td>01-Jan-1994</td>\n",
       "      <td>NaN</td>\n",
       "      <td>http://us.imdb.com/M/title-exact?You%20So%20Cr...</td>\n",
       "    </tr>\n",
       "    <tr>\n",
       "      <th>1681</th>\n",
       "      <td>1682</td>\n",
       "      <td>Scream of Stone (Schrei aus Stein) (1991)</td>\n",
       "      <td>08-Mar-1996</td>\n",
       "      <td>NaN</td>\n",
       "      <td>http://us.imdb.com/M/title-exact?Schrei%20aus%...</td>\n",
       "    </tr>\n",
       "  </tbody>\n",
       "</table>\n",
       "</div>"
      ],
      "text/plain": [
       "       mid                                      title release_date  \\\n",
       "1680  1681                        You So Crazy (1994)  01-Jan-1994   \n",
       "1681  1682  Scream of Stone (Schrei aus Stein) (1991)  08-Mar-1996   \n",
       "\n",
       "      video_release_date                                           imdb_url  \n",
       "1680                 NaN  http://us.imdb.com/M/title-exact?You%20So%20Cr...  \n",
       "1681                 NaN  http://us.imdb.com/M/title-exact?Schrei%20aus%...  "
      ]
     },
     "execution_count": 7,
     "metadata": {},
     "output_type": "execute_result"
    }
   ],
   "source": [
    "movies.tail(2)"
   ]
  },
  {
   "cell_type": "code",
   "execution_count": 8,
   "metadata": {},
   "outputs": [
    {
     "data": {
      "text/plain": [
       "(1682, 5)"
      ]
     },
     "execution_count": 8,
     "metadata": {},
     "output_type": "execute_result"
    }
   ],
   "source": [
    "movies.shape"
   ]
  },
  {
   "cell_type": "code",
   "execution_count": 9,
   "metadata": {},
   "outputs": [
    {
     "data": {
      "text/plain": [
       "mid                      0\n",
       "title                    0\n",
       "release_date             1\n",
       "video_release_date    1682\n",
       "imdb_url                 3\n",
       "dtype: int64"
      ]
     },
     "execution_count": 9,
     "metadata": {},
     "output_type": "execute_result"
    }
   ],
   "source": [
    "movies.isnull().sum()"
   ]
  },
  {
   "cell_type": "code",
   "execution_count": 10,
   "metadata": {},
   "outputs": [
    {
     "data": {
      "text/html": [
       "<div>\n",
       "<style scoped>\n",
       "    .dataframe tbody tr th:only-of-type {\n",
       "        vertical-align: middle;\n",
       "    }\n",
       "\n",
       "    .dataframe tbody tr th {\n",
       "        vertical-align: top;\n",
       "    }\n",
       "\n",
       "    .dataframe thead th {\n",
       "        text-align: right;\n",
       "    }\n",
       "</style>\n",
       "<table border=\"1\" class=\"dataframe\">\n",
       "  <thead>\n",
       "    <tr style=\"text-align: right;\">\n",
       "      <th></th>\n",
       "      <th>uid</th>\n",
       "      <th>mid</th>\n",
       "      <th>rating</th>\n",
       "      <th>unix_timestamp</th>\n",
       "    </tr>\n",
       "  </thead>\n",
       "  <tbody>\n",
       "    <tr>\n",
       "      <th>0</th>\n",
       "      <td>196</td>\n",
       "      <td>242</td>\n",
       "      <td>3</td>\n",
       "      <td>881250949</td>\n",
       "    </tr>\n",
       "    <tr>\n",
       "      <th>1</th>\n",
       "      <td>186</td>\n",
       "      <td>302</td>\n",
       "      <td>3</td>\n",
       "      <td>891717742</td>\n",
       "    </tr>\n",
       "  </tbody>\n",
       "</table>\n",
       "</div>"
      ],
      "text/plain": [
       "   uid  mid  rating  unix_timestamp\n",
       "0  196  242       3       881250949\n",
       "1  186  302       3       891717742"
      ]
     },
     "execution_count": 10,
     "metadata": {},
     "output_type": "execute_result"
    }
   ],
   "source": [
    "# 평점 정보 : u.data\n",
    "r_cols = ['uid', 'mid', 'rating', 'unix_timestamp']\n",
    "ratings = pd.read_csv('./table/ml-100k/u.data', sep='\\t', names=r_cols)\n",
    "ratings.head(2)"
   ]
  },
  {
   "cell_type": "code",
   "execution_count": 11,
   "metadata": {},
   "outputs": [
    {
     "data": {
      "text/html": [
       "<div>\n",
       "<style scoped>\n",
       "    .dataframe tbody tr th:only-of-type {\n",
       "        vertical-align: middle;\n",
       "    }\n",
       "\n",
       "    .dataframe tbody tr th {\n",
       "        vertical-align: top;\n",
       "    }\n",
       "\n",
       "    .dataframe thead th {\n",
       "        text-align: right;\n",
       "    }\n",
       "</style>\n",
       "<table border=\"1\" class=\"dataframe\">\n",
       "  <thead>\n",
       "    <tr style=\"text-align: right;\">\n",
       "      <th></th>\n",
       "      <th>uid</th>\n",
       "      <th>mid</th>\n",
       "      <th>rating</th>\n",
       "      <th>unix_timestamp</th>\n",
       "    </tr>\n",
       "  </thead>\n",
       "  <tbody>\n",
       "    <tr>\n",
       "      <th>99998</th>\n",
       "      <td>13</td>\n",
       "      <td>225</td>\n",
       "      <td>2</td>\n",
       "      <td>882399156</td>\n",
       "    </tr>\n",
       "    <tr>\n",
       "      <th>99999</th>\n",
       "      <td>12</td>\n",
       "      <td>203</td>\n",
       "      <td>3</td>\n",
       "      <td>879959583</td>\n",
       "    </tr>\n",
       "  </tbody>\n",
       "</table>\n",
       "</div>"
      ],
      "text/plain": [
       "       uid  mid  rating  unix_timestamp\n",
       "99998   13  225       2       882399156\n",
       "99999   12  203       3       879959583"
      ]
     },
     "execution_count": 11,
     "metadata": {},
     "output_type": "execute_result"
    }
   ],
   "source": [
    "ratings.tail(2)"
   ]
  },
  {
   "cell_type": "code",
   "execution_count": 12,
   "metadata": {},
   "outputs": [
    {
     "data": {
      "text/plain": [
       "(100000, 4)"
      ]
     },
     "execution_count": 12,
     "metadata": {},
     "output_type": "execute_result"
    }
   ],
   "source": [
    "ratings.shape"
   ]
  },
  {
   "cell_type": "code",
   "execution_count": 13,
   "metadata": {},
   "outputs": [
    {
     "data": {
      "text/plain": [
       "uid               0\n",
       "mid               0\n",
       "rating            0\n",
       "unix_timestamp    0\n",
       "dtype: int64"
      ]
     },
     "execution_count": 13,
     "metadata": {},
     "output_type": "execute_result"
    }
   ],
   "source": [
    "ratings.isnull().sum()"
   ]
  },
  {
   "cell_type": "code",
   "execution_count": 14,
   "metadata": {},
   "outputs": [
    {
     "data": {
      "text/html": [
       "<div>\n",
       "<style scoped>\n",
       "    .dataframe tbody tr th:only-of-type {\n",
       "        vertical-align: middle;\n",
       "    }\n",
       "\n",
       "    .dataframe tbody tr th {\n",
       "        vertical-align: top;\n",
       "    }\n",
       "\n",
       "    .dataframe thead th {\n",
       "        text-align: right;\n",
       "    }\n",
       "</style>\n",
       "<table border=\"1\" class=\"dataframe\">\n",
       "  <thead>\n",
       "    <tr style=\"text-align: right;\">\n",
       "      <th></th>\n",
       "      <th>uid</th>\n",
       "      <th>mid</th>\n",
       "      <th>rating</th>\n",
       "      <th>unix_timestamp</th>\n",
       "      <th>date</th>\n",
       "    </tr>\n",
       "  </thead>\n",
       "  <tbody>\n",
       "    <tr>\n",
       "      <th>0</th>\n",
       "      <td>196</td>\n",
       "      <td>242</td>\n",
       "      <td>3</td>\n",
       "      <td>881250949</td>\n",
       "      <td>1997-12-04 15:55:49</td>\n",
       "    </tr>\n",
       "    <tr>\n",
       "      <th>1</th>\n",
       "      <td>186</td>\n",
       "      <td>302</td>\n",
       "      <td>3</td>\n",
       "      <td>891717742</td>\n",
       "      <td>1998-04-04 19:22:22</td>\n",
       "    </tr>\n",
       "  </tbody>\n",
       "</table>\n",
       "</div>"
      ],
      "text/plain": [
       "   uid  mid  rating  unix_timestamp                date\n",
       "0  196  242       3       881250949 1997-12-04 15:55:49\n",
       "1  186  302       3       891717742 1998-04-04 19:22:22"
      ]
     },
     "execution_count": 14,
     "metadata": {},
     "output_type": "execute_result"
    }
   ],
   "source": [
    "# unix_timestamp는 1970년 1월 1일 00시 00분 00초 부터 현재까지 경과된 시간 + 09:00\n",
    "# 그래서 현재시간 특정시간을 특정하기가 어렵다. -> 해석이 어렵다. -> 시간형식 변경\n",
    "ratings['date'] = pd.to_datetime(ratings.unix_timestamp, unit='s')\n",
    "ratings.head(2)"
   ]
  },
  {
   "cell_type": "code",
   "execution_count": 15,
   "metadata": {},
   "outputs": [
    {
     "data": {
      "text/html": [
       "<div>\n",
       "<style scoped>\n",
       "    .dataframe tbody tr th:only-of-type {\n",
       "        vertical-align: middle;\n",
       "    }\n",
       "\n",
       "    .dataframe tbody tr th {\n",
       "        vertical-align: top;\n",
       "    }\n",
       "\n",
       "    .dataframe thead th {\n",
       "        text-align: right;\n",
       "    }\n",
       "</style>\n",
       "<table border=\"1\" class=\"dataframe\">\n",
       "  <thead>\n",
       "    <tr style=\"text-align: right;\">\n",
       "      <th></th>\n",
       "      <th>uid</th>\n",
       "      <th>mid</th>\n",
       "      <th>rating</th>\n",
       "      <th>unix_timestamp</th>\n",
       "      <th>date</th>\n",
       "    </tr>\n",
       "  </thead>\n",
       "  <tbody>\n",
       "    <tr>\n",
       "      <th>99998</th>\n",
       "      <td>13</td>\n",
       "      <td>225</td>\n",
       "      <td>2</td>\n",
       "      <td>882399156</td>\n",
       "      <td>1997-12-17 22:52:36</td>\n",
       "    </tr>\n",
       "    <tr>\n",
       "      <th>99999</th>\n",
       "      <td>12</td>\n",
       "      <td>203</td>\n",
       "      <td>3</td>\n",
       "      <td>879959583</td>\n",
       "      <td>1997-11-19 17:13:03</td>\n",
       "    </tr>\n",
       "  </tbody>\n",
       "</table>\n",
       "</div>"
      ],
      "text/plain": [
       "       uid  mid  rating  unix_timestamp                date\n",
       "99998   13  225       2       882399156 1997-12-17 22:52:36\n",
       "99999   12  203       3       879959583 1997-11-19 17:13:03"
      ]
     },
     "execution_count": 15,
     "metadata": {},
     "output_type": "execute_result"
    }
   ],
   "source": [
    "ratings.tail(2)"
   ]
  },
  {
   "cell_type": "code",
   "execution_count": 16,
   "metadata": {},
   "outputs": [
    {
     "data": {
      "text/plain": [
       "(100000, 5)"
      ]
     },
     "execution_count": 16,
     "metadata": {},
     "output_type": "execute_result"
    }
   ],
   "source": [
    "ratings.shape"
   ]
  },
  {
   "cell_type": "code",
   "execution_count": 17,
   "metadata": {},
   "outputs": [],
   "source": [
    "# 3. 데이터 준비/품질향상/전처리\n",
    "# 4. 데이터 분석/통계적, 시각적, ..."
   ]
  },
  {
   "cell_type": "code",
   "execution_count": 18,
   "metadata": {},
   "outputs": [
    {
     "data": {
      "text/html": [
       "<div>\n",
       "<style scoped>\n",
       "    .dataframe tbody tr th:only-of-type {\n",
       "        vertical-align: middle;\n",
       "    }\n",
       "\n",
       "    .dataframe tbody tr th {\n",
       "        vertical-align: top;\n",
       "    }\n",
       "\n",
       "    .dataframe thead th {\n",
       "        text-align: right;\n",
       "    }\n",
       "</style>\n",
       "<table border=\"1\" class=\"dataframe\">\n",
       "  <thead>\n",
       "    <tr style=\"text-align: right;\">\n",
       "      <th></th>\n",
       "      <th>mid</th>\n",
       "      <th>title</th>\n",
       "      <th>release_date</th>\n",
       "      <th>video_release_date</th>\n",
       "      <th>imdb_url</th>\n",
       "      <th>uid</th>\n",
       "      <th>rating</th>\n",
       "      <th>unix_timestamp</th>\n",
       "      <th>date</th>\n",
       "    </tr>\n",
       "  </thead>\n",
       "  <tbody>\n",
       "    <tr>\n",
       "      <th>0</th>\n",
       "      <td>1</td>\n",
       "      <td>Toy Story (1995)</td>\n",
       "      <td>01-Jan-1995</td>\n",
       "      <td>NaN</td>\n",
       "      <td>http://us.imdb.com/M/title-exact?Toy%20Story%2...</td>\n",
       "      <td>308</td>\n",
       "      <td>4</td>\n",
       "      <td>887736532</td>\n",
       "      <td>1998-02-17 17:28:52</td>\n",
       "    </tr>\n",
       "    <tr>\n",
       "      <th>1</th>\n",
       "      <td>1</td>\n",
       "      <td>Toy Story (1995)</td>\n",
       "      <td>01-Jan-1995</td>\n",
       "      <td>NaN</td>\n",
       "      <td>http://us.imdb.com/M/title-exact?Toy%20Story%2...</td>\n",
       "      <td>287</td>\n",
       "      <td>5</td>\n",
       "      <td>875334088</td>\n",
       "      <td>1997-09-27 04:21:28</td>\n",
       "    </tr>\n",
       "  </tbody>\n",
       "</table>\n",
       "</div>"
      ],
      "text/plain": [
       "   mid             title release_date  video_release_date  \\\n",
       "0    1  Toy Story (1995)  01-Jan-1995                 NaN   \n",
       "1    1  Toy Story (1995)  01-Jan-1995                 NaN   \n",
       "\n",
       "                                            imdb_url  uid  rating  \\\n",
       "0  http://us.imdb.com/M/title-exact?Toy%20Story%2...  308       4   \n",
       "1  http://us.imdb.com/M/title-exact?Toy%20Story%2...  287       5   \n",
       "\n",
       "   unix_timestamp                date  \n",
       "0       887736532 1998-02-17 17:28:52  \n",
       "1       875334088 1997-09-27 04:21:28  "
      ]
     },
     "execution_count": 18,
     "metadata": {},
     "output_type": "execute_result"
    }
   ],
   "source": [
    "# 평점과 영화 데이터 합치기\n",
    "# 합친 결과 -> 100000, 9\n",
    "# merge()를 수행할 때 중복되는 컬럼을 생략하면 알아서 찾아서 수행된다.\n",
    "movies_ratings = pd.merge(movies, ratings, on='mid')\n",
    "movies_ratings.head(2)"
   ]
  },
  {
   "cell_type": "code",
   "execution_count": 19,
   "metadata": {},
   "outputs": [
    {
     "data": {
      "text/html": [
       "<div>\n",
       "<style scoped>\n",
       "    .dataframe tbody tr th:only-of-type {\n",
       "        vertical-align: middle;\n",
       "    }\n",
       "\n",
       "    .dataframe tbody tr th {\n",
       "        vertical-align: top;\n",
       "    }\n",
       "\n",
       "    .dataframe thead th {\n",
       "        text-align: right;\n",
       "    }\n",
       "</style>\n",
       "<table border=\"1\" class=\"dataframe\">\n",
       "  <thead>\n",
       "    <tr style=\"text-align: right;\">\n",
       "      <th></th>\n",
       "      <th>mid</th>\n",
       "      <th>title</th>\n",
       "      <th>release_date</th>\n",
       "      <th>video_release_date</th>\n",
       "      <th>imdb_url</th>\n",
       "      <th>uid</th>\n",
       "      <th>rating</th>\n",
       "      <th>unix_timestamp</th>\n",
       "      <th>date</th>\n",
       "    </tr>\n",
       "  </thead>\n",
       "  <tbody>\n",
       "    <tr>\n",
       "      <th>99998</th>\n",
       "      <td>1681</td>\n",
       "      <td>You So Crazy (1994)</td>\n",
       "      <td>01-Jan-1994</td>\n",
       "      <td>NaN</td>\n",
       "      <td>http://us.imdb.com/M/title-exact?You%20So%20Cr...</td>\n",
       "      <td>896</td>\n",
       "      <td>3</td>\n",
       "      <td>887160722</td>\n",
       "      <td>1998-02-11 01:32:02</td>\n",
       "    </tr>\n",
       "    <tr>\n",
       "      <th>99999</th>\n",
       "      <td>1682</td>\n",
       "      <td>Scream of Stone (Schrei aus Stein) (1991)</td>\n",
       "      <td>08-Mar-1996</td>\n",
       "      <td>NaN</td>\n",
       "      <td>http://us.imdb.com/M/title-exact?Schrei%20aus%...</td>\n",
       "      <td>916</td>\n",
       "      <td>3</td>\n",
       "      <td>880845755</td>\n",
       "      <td>1997-11-29 23:22:35</td>\n",
       "    </tr>\n",
       "  </tbody>\n",
       "</table>\n",
       "</div>"
      ],
      "text/plain": [
       "        mid                                      title release_date  \\\n",
       "99998  1681                        You So Crazy (1994)  01-Jan-1994   \n",
       "99999  1682  Scream of Stone (Schrei aus Stein) (1991)  08-Mar-1996   \n",
       "\n",
       "       video_release_date                                           imdb_url  \\\n",
       "99998                 NaN  http://us.imdb.com/M/title-exact?You%20So%20Cr...   \n",
       "99999                 NaN  http://us.imdb.com/M/title-exact?Schrei%20aus%...   \n",
       "\n",
       "       uid  rating  unix_timestamp                date  \n",
       "99998  896       3       887160722 1998-02-11 01:32:02  \n",
       "99999  916       3       880845755 1997-11-29 23:22:35  "
      ]
     },
     "execution_count": 19,
     "metadata": {},
     "output_type": "execute_result"
    }
   ],
   "source": [
    "movies_ratings.tail(2)"
   ]
  },
  {
   "cell_type": "code",
   "execution_count": 20,
   "metadata": {},
   "outputs": [
    {
     "data": {
      "text/plain": [
       "(100000, 9)"
      ]
     },
     "execution_count": 20,
     "metadata": {},
     "output_type": "execute_result"
    }
   ],
   "source": [
    "movies_ratings.shape"
   ]
  },
  {
   "cell_type": "code",
   "execution_count": 21,
   "metadata": {},
   "outputs": [
    {
     "data": {
      "text/html": [
       "<div>\n",
       "<style scoped>\n",
       "    .dataframe tbody tr th:only-of-type {\n",
       "        vertical-align: middle;\n",
       "    }\n",
       "\n",
       "    .dataframe tbody tr th {\n",
       "        vertical-align: top;\n",
       "    }\n",
       "\n",
       "    .dataframe thead th {\n",
       "        text-align: right;\n",
       "    }\n",
       "</style>\n",
       "<table border=\"1\" class=\"dataframe\">\n",
       "  <thead>\n",
       "    <tr style=\"text-align: right;\">\n",
       "      <th></th>\n",
       "      <th>mid</th>\n",
       "      <th>title</th>\n",
       "      <th>release_date</th>\n",
       "      <th>video_release_date</th>\n",
       "      <th>imdb_url</th>\n",
       "      <th>uid</th>\n",
       "      <th>rating</th>\n",
       "      <th>unix_timestamp</th>\n",
       "      <th>date</th>\n",
       "      <th>age</th>\n",
       "      <th>m</th>\n",
       "      <th>job</th>\n",
       "      <th>zip_code</th>\n",
       "    </tr>\n",
       "  </thead>\n",
       "  <tbody>\n",
       "    <tr>\n",
       "      <th>0</th>\n",
       "      <td>1</td>\n",
       "      <td>Toy Story (1995)</td>\n",
       "      <td>01-Jan-1995</td>\n",
       "      <td>NaN</td>\n",
       "      <td>http://us.imdb.com/M/title-exact?Toy%20Story%2...</td>\n",
       "      <td>308</td>\n",
       "      <td>4</td>\n",
       "      <td>887736532</td>\n",
       "      <td>1998-02-17 17:28:52</td>\n",
       "      <td>60</td>\n",
       "      <td>M</td>\n",
       "      <td>retired</td>\n",
       "      <td>95076</td>\n",
       "    </tr>\n",
       "    <tr>\n",
       "      <th>1</th>\n",
       "      <td>4</td>\n",
       "      <td>Get Shorty (1995)</td>\n",
       "      <td>01-Jan-1995</td>\n",
       "      <td>NaN</td>\n",
       "      <td>http://us.imdb.com/M/title-exact?Get%20Shorty%...</td>\n",
       "      <td>308</td>\n",
       "      <td>5</td>\n",
       "      <td>887737890</td>\n",
       "      <td>1998-02-17 17:51:30</td>\n",
       "      <td>60</td>\n",
       "      <td>M</td>\n",
       "      <td>retired</td>\n",
       "      <td>95076</td>\n",
       "    </tr>\n",
       "  </tbody>\n",
       "</table>\n",
       "</div>"
      ],
      "text/plain": [
       "   mid              title release_date  video_release_date  \\\n",
       "0    1   Toy Story (1995)  01-Jan-1995                 NaN   \n",
       "1    4  Get Shorty (1995)  01-Jan-1995                 NaN   \n",
       "\n",
       "                                            imdb_url  uid  rating  \\\n",
       "0  http://us.imdb.com/M/title-exact?Toy%20Story%2...  308       4   \n",
       "1  http://us.imdb.com/M/title-exact?Get%20Shorty%...  308       5   \n",
       "\n",
       "   unix_timestamp                date  age  m      job zip_code  \n",
       "0       887736532 1998-02-17 17:28:52   60  M  retired    95076  \n",
       "1       887737890 1998-02-17 17:51:30   60  M  retired    95076  "
      ]
     },
     "execution_count": 21,
     "metadata": {},
     "output_type": "execute_result"
    }
   ],
   "source": [
    "# movies_ratings, user -> 합치기\n",
    "movie_lens = pd.merge(movies_ratings, users)\n",
    "movie_lens.head(2)"
   ]
  },
  {
   "cell_type": "code",
   "execution_count": 22,
   "metadata": {},
   "outputs": [
    {
     "data": {
      "text/html": [
       "<div>\n",
       "<style scoped>\n",
       "    .dataframe tbody tr th:only-of-type {\n",
       "        vertical-align: middle;\n",
       "    }\n",
       "\n",
       "    .dataframe tbody tr th {\n",
       "        vertical-align: top;\n",
       "    }\n",
       "\n",
       "    .dataframe thead th {\n",
       "        text-align: right;\n",
       "    }\n",
       "</style>\n",
       "<table border=\"1\" class=\"dataframe\">\n",
       "  <thead>\n",
       "    <tr style=\"text-align: right;\">\n",
       "      <th></th>\n",
       "      <th>mid</th>\n",
       "      <th>title</th>\n",
       "      <th>release_date</th>\n",
       "      <th>video_release_date</th>\n",
       "      <th>imdb_url</th>\n",
       "      <th>uid</th>\n",
       "      <th>rating</th>\n",
       "      <th>unix_timestamp</th>\n",
       "      <th>date</th>\n",
       "      <th>age</th>\n",
       "      <th>m</th>\n",
       "      <th>job</th>\n",
       "      <th>zip_code</th>\n",
       "    </tr>\n",
       "  </thead>\n",
       "  <tbody>\n",
       "    <tr>\n",
       "      <th>99998</th>\n",
       "      <td>894</td>\n",
       "      <td>Home Alone 3 (1997)</td>\n",
       "      <td>01-Jan-1997</td>\n",
       "      <td>NaN</td>\n",
       "      <td>http://us.imdb.com/M/title-exact?imdb-title-11...</td>\n",
       "      <td>729</td>\n",
       "      <td>1</td>\n",
       "      <td>893286511</td>\n",
       "      <td>1998-04-22 23:08:31</td>\n",
       "      <td>19</td>\n",
       "      <td>M</td>\n",
       "      <td>student</td>\n",
       "      <td>56567</td>\n",
       "    </tr>\n",
       "    <tr>\n",
       "      <th>99999</th>\n",
       "      <td>901</td>\n",
       "      <td>Mr. Magoo (1997)</td>\n",
       "      <td>25-Dec-1997</td>\n",
       "      <td>NaN</td>\n",
       "      <td>http://us.imdb.com/M/title-exact?imdb-title-11...</td>\n",
       "      <td>729</td>\n",
       "      <td>1</td>\n",
       "      <td>893286491</td>\n",
       "      <td>1998-04-22 23:08:11</td>\n",
       "      <td>19</td>\n",
       "      <td>M</td>\n",
       "      <td>student</td>\n",
       "      <td>56567</td>\n",
       "    </tr>\n",
       "  </tbody>\n",
       "</table>\n",
       "</div>"
      ],
      "text/plain": [
       "       mid                title release_date  video_release_date  \\\n",
       "99998  894  Home Alone 3 (1997)  01-Jan-1997                 NaN   \n",
       "99999  901     Mr. Magoo (1997)  25-Dec-1997                 NaN   \n",
       "\n",
       "                                                imdb_url  uid  rating  \\\n",
       "99998  http://us.imdb.com/M/title-exact?imdb-title-11...  729       1   \n",
       "99999  http://us.imdb.com/M/title-exact?imdb-title-11...  729       1   \n",
       "\n",
       "       unix_timestamp                date  age  m      job zip_code  \n",
       "99998       893286511 1998-04-22 23:08:31   19  M  student    56567  \n",
       "99999       893286491 1998-04-22 23:08:11   19  M  student    56567  "
      ]
     },
     "execution_count": 22,
     "metadata": {},
     "output_type": "execute_result"
    }
   ],
   "source": [
    "movie_lens.tail(2)"
   ]
  },
  {
   "cell_type": "code",
   "execution_count": 23,
   "metadata": {},
   "outputs": [
    {
     "data": {
      "text/plain": [
       "(100000, 13)"
      ]
     },
     "execution_count": 23,
     "metadata": {},
     "output_type": "execute_result"
    }
   ],
   "source": [
    "movie_lens.shape"
   ]
  },
  {
   "cell_type": "markdown",
   "metadata": {},
   "source": [
    "- 데이터를 모두 병합하였다. 평점이나 회원을 중심으로 중복적인 데이터가 많다.\n",
    "- 데이터가 적으면 크게 문제 없으나, 크면 메모리를 많이 사용할 수도 있다.(검토)"
   ]
  },
  {
   "cell_type": "code",
   "execution_count": 24,
   "metadata": {},
   "outputs": [
    {
     "data": {
      "text/plain": [
       "Star Wars (1977)                 583\n",
       "Contact (1997)                   509\n",
       "Fargo (1996)                     508\n",
       "Return of the Jedi (1983)        507\n",
       "Liar Liar (1997)                 485\n",
       "English Patient, The (1996)      481\n",
       "Scream (1996)                    478\n",
       "Toy Story (1995)                 452\n",
       "Air Force One (1997)             431\n",
       "Independence Day (ID4) (1996)    429\n",
       "Name: title, dtype: int64"
      ]
     },
     "execution_count": 24,
     "metadata": {},
     "output_type": "execute_result"
    }
   ],
   "source": [
    "# 평가를 가장 많이 받은 영화 상위 10개 출력\n",
    "# mid나 title 둘 다 사용이 가능하나, 결과를 이해하기 위해서 title을 사용\n",
    "movie_lens.title.value_counts()[:10]"
   ]
  },
  {
   "cell_type": "code",
   "execution_count": 25,
   "metadata": {},
   "outputs": [],
   "source": [
    "# 평점을 받은 횟수가 적은 경우, 우연히 평점이 좋을수도 있다.\n",
    "# 데이터를 조정할 때, 특정 횟수(임계치) 이상 평가한 작품만 고려하였다."
   ]
  },
  {
   "cell_type": "markdown",
   "metadata": {},
   "source": [
    "- 제목 기준으로 데이터를 분류\n",
    "- 평가의 개수, 평균 평점이 들어가있는 df\n",
    "- 인덱스 : tilte, 컬럼 : 개수, 평균평점 <- 만드는 과정에서 컬럼의 레벨이 1이상이 되고 관계없음)"
   ]
  },
  {
   "cell_type": "code",
   "execution_count": 26,
   "metadata": {},
   "outputs": [],
   "source": [
    "import numpy as np"
   ]
  },
  {
   "cell_type": "code",
   "execution_count": 27,
   "metadata": {},
   "outputs": [
    {
     "data": {
      "text/html": [
       "<div>\n",
       "<style scoped>\n",
       "    .dataframe tbody tr th:only-of-type {\n",
       "        vertical-align: middle;\n",
       "    }\n",
       "\n",
       "    .dataframe tbody tr th {\n",
       "        vertical-align: top;\n",
       "    }\n",
       "\n",
       "    .dataframe thead tr th {\n",
       "        text-align: left;\n",
       "    }\n",
       "\n",
       "    .dataframe thead tr:last-of-type th {\n",
       "        text-align: right;\n",
       "    }\n",
       "</style>\n",
       "<table border=\"1\" class=\"dataframe\">\n",
       "  <thead>\n",
       "    <tr>\n",
       "      <th></th>\n",
       "      <th colspan=\"2\" halign=\"left\">rating</th>\n",
       "    </tr>\n",
       "    <tr>\n",
       "      <th></th>\n",
       "      <th>size</th>\n",
       "      <th>mean</th>\n",
       "    </tr>\n",
       "    <tr>\n",
       "      <th>title</th>\n",
       "      <th></th>\n",
       "      <th></th>\n",
       "    </tr>\n",
       "  </thead>\n",
       "  <tbody>\n",
       "    <tr>\n",
       "      <th>'Til There Was You (1997)</th>\n",
       "      <td>9</td>\n",
       "      <td>2.333333</td>\n",
       "    </tr>\n",
       "    <tr>\n",
       "      <th>1-900 (1994)</th>\n",
       "      <td>5</td>\n",
       "      <td>2.600000</td>\n",
       "    </tr>\n",
       "  </tbody>\n",
       "</table>\n",
       "</div>"
      ],
      "text/plain": [
       "                          rating          \n",
       "                            size      mean\n",
       "title                                     \n",
       "'Til There Was You (1997)      9  2.333333\n",
       "1-900 (1994)                   5  2.600000"
      ]
     },
     "execution_count": 27,
     "metadata": {},
     "output_type": "execute_result"
    }
   ],
   "source": [
    "# groupby(컬럼) : 해당 컬럼이 인덱스로 이동\n",
    "# agg({컬럼: [값 처리 함수...]}) : 컬럼에 처리 함수 개수대로 설정되서 값이 자동 처리\n",
    "movie_state = movie_lens.groupby('title').agg({'rating': [np.size, np.mean]})\n",
    "movie_state.head(2)"
   ]
  },
  {
   "cell_type": "code",
   "execution_count": 28,
   "metadata": {},
   "outputs": [],
   "source": [
    "# 이 케이스에서는 피벗의 표현이 좀 더 복잡할 수 있어서 배제\n",
    "# movie_lens.pivot_table()"
   ]
  },
  {
   "cell_type": "markdown",
   "metadata": {},
   "source": [
    "- 평점을 받은 개수가 1개인 경우, 소수의 평가를 받은 영화\n",
    "- 평균의 수가 적으면 잡음의 개입 여지가 많다.\n",
    "- 100건 기준으로 100개 이상만 대상으로 처리(임계값)"
   ]
  },
  {
   "cell_type": "code",
   "execution_count": 29,
   "metadata": {},
   "outputs": [
    {
     "data": {
      "text/plain": [
       "title\n",
       "'Til There Was You (1997)    False\n",
       "1-900 (1994)                 False\n",
       "Name: size, dtype: bool"
      ]
     },
     "execution_count": 29,
     "metadata": {},
     "output_type": "execute_result"
    }
   ],
   "source": [
    "# 차후 변경함으로써 성능을 다르게 낼 수 있다.\n",
    "limit_std_value = 100\n",
    "condition = movie_state['rating']['size'] >= limit_std_value\n",
    "condition[:2]"
   ]
  },
  {
   "cell_type": "code",
   "execution_count": 30,
   "metadata": {},
   "outputs": [
    {
     "data": {
      "text/html": [
       "<div>\n",
       "<style scoped>\n",
       "    .dataframe tbody tr th:only-of-type {\n",
       "        vertical-align: middle;\n",
       "    }\n",
       "\n",
       "    .dataframe tbody tr th {\n",
       "        vertical-align: top;\n",
       "    }\n",
       "\n",
       "    .dataframe thead tr th {\n",
       "        text-align: left;\n",
       "    }\n",
       "\n",
       "    .dataframe thead tr:last-of-type th {\n",
       "        text-align: right;\n",
       "    }\n",
       "</style>\n",
       "<table border=\"1\" class=\"dataframe\">\n",
       "  <thead>\n",
       "    <tr>\n",
       "      <th></th>\n",
       "      <th colspan=\"2\" halign=\"left\">rating</th>\n",
       "    </tr>\n",
       "    <tr>\n",
       "      <th></th>\n",
       "      <th>size</th>\n",
       "      <th>mean</th>\n",
       "    </tr>\n",
       "    <tr>\n",
       "      <th>title</th>\n",
       "      <th></th>\n",
       "      <th></th>\n",
       "    </tr>\n",
       "  </thead>\n",
       "  <tbody>\n",
       "    <tr>\n",
       "      <th>101 Dalmatians (1996)</th>\n",
       "      <td>109</td>\n",
       "      <td>2.908257</td>\n",
       "    </tr>\n",
       "    <tr>\n",
       "      <th>12 Angry Men (1957)</th>\n",
       "      <td>125</td>\n",
       "      <td>4.344000</td>\n",
       "    </tr>\n",
       "  </tbody>\n",
       "</table>\n",
       "</div>"
      ],
      "text/plain": [
       "                      rating          \n",
       "                        size      mean\n",
       "title                                 \n",
       "101 Dalmatians (1996)    109  2.908257\n",
       "12 Angry Men (1957)      125  4.344000"
      ]
     },
     "execution_count": 30,
     "metadata": {},
     "output_type": "execute_result"
    }
   ],
   "source": [
    "# 불리언 인덱싱\n",
    "movie_state[condition][:2]"
   ]
  },
  {
   "cell_type": "code",
   "execution_count": 31,
   "metadata": {},
   "outputs": [
    {
     "data": {
      "text/html": [
       "<div>\n",
       "<style scoped>\n",
       "    .dataframe tbody tr th:only-of-type {\n",
       "        vertical-align: middle;\n",
       "    }\n",
       "\n",
       "    .dataframe tbody tr th {\n",
       "        vertical-align: top;\n",
       "    }\n",
       "\n",
       "    .dataframe thead tr th {\n",
       "        text-align: left;\n",
       "    }\n",
       "\n",
       "    .dataframe thead tr:last-of-type th {\n",
       "        text-align: right;\n",
       "    }\n",
       "</style>\n",
       "<table border=\"1\" class=\"dataframe\">\n",
       "  <thead>\n",
       "    <tr>\n",
       "      <th></th>\n",
       "      <th colspan=\"2\" halign=\"left\">rating</th>\n",
       "    </tr>\n",
       "    <tr>\n",
       "      <th></th>\n",
       "      <th>size</th>\n",
       "      <th>mean</th>\n",
       "    </tr>\n",
       "    <tr>\n",
       "      <th>title</th>\n",
       "      <th></th>\n",
       "      <th></th>\n",
       "    </tr>\n",
       "  </thead>\n",
       "  <tbody>\n",
       "    <tr>\n",
       "      <th>Close Shave, A (1995)</th>\n",
       "      <td>112</td>\n",
       "      <td>4.491071</td>\n",
       "    </tr>\n",
       "    <tr>\n",
       "      <th>Schindler's List (1993)</th>\n",
       "      <td>298</td>\n",
       "      <td>4.466443</td>\n",
       "    </tr>\n",
       "    <tr>\n",
       "      <th>Wrong Trousers, The (1993)</th>\n",
       "      <td>118</td>\n",
       "      <td>4.466102</td>\n",
       "    </tr>\n",
       "    <tr>\n",
       "      <th>Casablanca (1942)</th>\n",
       "      <td>243</td>\n",
       "      <td>4.456790</td>\n",
       "    </tr>\n",
       "    <tr>\n",
       "      <th>Shawshank Redemption, The (1994)</th>\n",
       "      <td>283</td>\n",
       "      <td>4.445230</td>\n",
       "    </tr>\n",
       "  </tbody>\n",
       "</table>\n",
       "</div>"
      ],
      "text/plain": [
       "                                 rating          \n",
       "                                   size      mean\n",
       "title                                            \n",
       "Close Shave, A (1995)               112  4.491071\n",
       "Schindler's List (1993)             298  4.466443\n",
       "Wrong Trousers, The (1993)          118  4.466102\n",
       "Casablanca (1942)                   243  4.456790\n",
       "Shawshank Redemption, The (1994)    283  4.445230"
      ]
     },
     "execution_count": 31,
     "metadata": {},
     "output_type": "execute_result"
    }
   ],
   "source": [
    "# 정렬 -> 평균 내림차순으로 정렬하여 상위 5개만 출력\n",
    "# 컬럼 레벨이 n차인 경우 정렬하는 방법\n",
    "tmp = movie_state[condition].sort_values(by=[('rating', 'mean')], ascending=False)\n",
    "tmp.head()"
   ]
  },
  {
   "cell_type": "code",
   "execution_count": 32,
   "metadata": {},
   "outputs": [
    {
     "data": {
      "text/plain": [
       "((338, 2), (1682, 5))"
      ]
     },
     "execution_count": 32,
     "metadata": {},
     "output_type": "execute_result"
    }
   ],
   "source": [
    "# 영화 1682개 중에 임계값을 통과한 대상은 338개이다.\n",
    "# 이를 통해서 평점을 적게 받은 영화의 통계적인 추정도 가능하다.\n",
    "tmp.shape, movies.shape"
   ]
  },
  {
   "cell_type": "code",
   "execution_count": 33,
   "metadata": {},
   "outputs": [],
   "source": [
    "# 간단한 시각화를\n",
    "# 영화별 평점의 개수 : x축\n",
    "# 평가 횟수 : y축\n",
    "from matplotlib import pyplot as plt\n",
    "%matplotlib inline"
   ]
  },
  {
   "cell_type": "code",
   "execution_count": 34,
   "metadata": {},
   "outputs": [
    {
     "data": {
      "text/plain": [
       "'\\nStar Wars (1977)                 583\\n스타워즈 1977년 작품에 평가가 583회 수행되었는데, 이중에는 이 영화만 평가한 유저도\\n다수 존재한다.(현 데이터에서는 최저 평가 횟수가 사용자당 20)\\n'"
      ]
     },
     "execution_count": 34,
     "metadata": {},
     "output_type": "execute_result"
    },
    {
     "data": {
      "image/png": "[encoded data removed]",
      "text/plain": [
       "<Figure size 432x288 with 1 Axes>"
      ]
     },
     "metadata": {},
     "output_type": "display_data"
    }
   ],
   "source": [
    "# 히스토그램\n",
    "plt.style.use('ggplot')\n",
    "movie_lens.groupby('uid').size().sort_values(ascending=False).hist()\n",
    "\n",
    "# 사용자의 평가 횟수에 대한 성향\n",
    "# 빈도가 점점 낮아진다. -> 길게 꼬리르 늘어뜨리는 모양 -> 롱테일분포\n",
    "# \"지프의 법칙\"을 따른 굴곡 모양이다.\n",
    "# 영화의 평가가 많으면, 그 사용자들 중에는 1회성 평가 횟수도 많다.\n",
    "\n",
    "'''\n",
    "Star Wars (1977)                 583\n",
    "스타워즈 1977년 작품에 평가가 583회 수행되었는데, 이중에는 이 영화만 평가한 유저도\n",
    "다수 존재한다.(현 데이터에서는 최저 평가 횟수가 사용자당 20)\n",
    "'''"
   ]
  },
  {
   "cell_type": "code",
   "execution_count": 35,
   "metadata": {},
   "outputs": [
    {
     "data": {
      "text/html": [
       "<div>\n",
       "<style scoped>\n",
       "    .dataframe tbody tr th:only-of-type {\n",
       "        vertical-align: middle;\n",
       "    }\n",
       "\n",
       "    .dataframe tbody tr th {\n",
       "        vertical-align: top;\n",
       "    }\n",
       "\n",
       "    .dataframe thead tr th {\n",
       "        text-align: left;\n",
       "    }\n",
       "\n",
       "    .dataframe thead tr:last-of-type th {\n",
       "        text-align: right;\n",
       "    }\n",
       "</style>\n",
       "<table border=\"1\" class=\"dataframe\">\n",
       "  <thead>\n",
       "    <tr>\n",
       "      <th></th>\n",
       "      <th colspan=\"2\" halign=\"left\">rating</th>\n",
       "    </tr>\n",
       "    <tr>\n",
       "      <th></th>\n",
       "      <th>size</th>\n",
       "      <th>mean</th>\n",
       "    </tr>\n",
       "    <tr>\n",
       "      <th>uid</th>\n",
       "      <th></th>\n",
       "      <th></th>\n",
       "    </tr>\n",
       "  </thead>\n",
       "  <tbody>\n",
       "    <tr>\n",
       "      <th>1</th>\n",
       "      <td>272</td>\n",
       "      <td>3.610294</td>\n",
       "    </tr>\n",
       "    <tr>\n",
       "      <th>2</th>\n",
       "      <td>62</td>\n",
       "      <td>3.709677</td>\n",
       "    </tr>\n",
       "    <tr>\n",
       "      <th>3</th>\n",
       "      <td>54</td>\n",
       "      <td>2.796296</td>\n",
       "    </tr>\n",
       "    <tr>\n",
       "      <th>4</th>\n",
       "      <td>24</td>\n",
       "      <td>4.333333</td>\n",
       "    </tr>\n",
       "    <tr>\n",
       "      <th>5</th>\n",
       "      <td>175</td>\n",
       "      <td>2.874286</td>\n",
       "    </tr>\n",
       "  </tbody>\n",
       "</table>\n",
       "</div>"
      ],
      "text/plain": [
       "    rating          \n",
       "      size      mean\n",
       "uid                 \n",
       "1      272  3.610294\n",
       "2       62  3.709677\n",
       "3       54  2.796296\n",
       "4       24  4.333333\n",
       "5      175  2.874286"
      ]
     },
     "execution_count": 35,
     "metadata": {},
     "output_type": "execute_result"
    }
   ],
   "source": [
    "# 사용자별 평가 횟수, 평균\n",
    "user_state = movie_lens.groupby('uid').agg({'rating': [np.size, np.mean]})\n",
    "user_state.head()"
   ]
  },
  {
   "cell_type": "code",
   "execution_count": 36,
   "metadata": {},
   "outputs": [
    {
     "data": {
      "text/plain": [
       "(943, 2)"
      ]
     },
     "execution_count": 36,
     "metadata": {},
     "output_type": "execute_result"
    }
   ],
   "source": [
    "user_state.shape"
   ]
  },
  {
   "cell_type": "code",
   "execution_count": 37,
   "metadata": {},
   "outputs": [
    {
     "data": {
      "text/html": [
       "<div>\n",
       "<style scoped>\n",
       "    .dataframe tbody tr th:only-of-type {\n",
       "        vertical-align: middle;\n",
       "    }\n",
       "\n",
       "    .dataframe tbody tr th {\n",
       "        vertical-align: top;\n",
       "    }\n",
       "\n",
       "    .dataframe thead tr th {\n",
       "        text-align: left;\n",
       "    }\n",
       "</style>\n",
       "<table border=\"1\" class=\"dataframe\">\n",
       "  <thead>\n",
       "    <tr>\n",
       "      <th></th>\n",
       "      <th colspan=\"2\" halign=\"left\">rating</th>\n",
       "    </tr>\n",
       "    <tr>\n",
       "      <th></th>\n",
       "      <th>size</th>\n",
       "      <th>mean</th>\n",
       "    </tr>\n",
       "  </thead>\n",
       "  <tbody>\n",
       "    <tr>\n",
       "      <th>count</th>\n",
       "      <td>943.000000</td>\n",
       "      <td>943.000000</td>\n",
       "    </tr>\n",
       "    <tr>\n",
       "      <th>mean</th>\n",
       "      <td>106.044539</td>\n",
       "      <td>3.588191</td>\n",
       "    </tr>\n",
       "    <tr>\n",
       "      <th>std</th>\n",
       "      <td>100.931743</td>\n",
       "      <td>0.445233</td>\n",
       "    </tr>\n",
       "    <tr>\n",
       "      <th>min</th>\n",
       "      <td>20.000000</td>\n",
       "      <td>1.491954</td>\n",
       "    </tr>\n",
       "    <tr>\n",
       "      <th>25%</th>\n",
       "      <td>33.000000</td>\n",
       "      <td>3.323054</td>\n",
       "    </tr>\n",
       "    <tr>\n",
       "      <th>50%</th>\n",
       "      <td>65.000000</td>\n",
       "      <td>3.620690</td>\n",
       "    </tr>\n",
       "    <tr>\n",
       "      <th>75%</th>\n",
       "      <td>148.000000</td>\n",
       "      <td>3.869565</td>\n",
       "    </tr>\n",
       "    <tr>\n",
       "      <th>max</th>\n",
       "      <td>737.000000</td>\n",
       "      <td>4.869565</td>\n",
       "    </tr>\n",
       "  </tbody>\n",
       "</table>\n",
       "</div>"
      ],
      "text/plain": [
       "           rating            \n",
       "             size        mean\n",
       "count  943.000000  943.000000\n",
       "mean   106.044539    3.588191\n",
       "std    100.931743    0.445233\n",
       "min     20.000000    1.491954\n",
       "25%     33.000000    3.323054\n",
       "50%     65.000000    3.620690\n",
       "75%    148.000000    3.869565\n",
       "max    737.000000    4.869565"
      ]
     },
     "execution_count": 37,
     "metadata": {},
     "output_type": "execute_result"
    }
   ],
   "source": [
    "user_state.describe()\n",
    "\n",
    "# 최저값 : 1.49, 최대값 : 4.87, 25%~75% : 3점대로 몰려있다.\n",
    "# 평균 : 3.58 -> 어떤 영화든지 일반적으로 3점 이상은 받는다.\n",
    "# 3점 이하는 영화 자체에 문제가 있어 보인다.\n",
    "# 최고, 최저는 편중되어 있다."
   ]
  },
  {
   "cell_type": "markdown",
   "metadata": {},
   "source": [
    "### 5. 예측 모델 구축(머신러닝 기반)\n",
    "\n",
    "- 알고리즘 -> 인수분해머신 기능을 제공하는 FastFM이라는 모듈 사용\n",
    "- FastFM\n",
    "    - C++로 만들어진 libFM이라는 알고리즘을 래핑\n",
    "    - libFM을 python으로 구성한 것이 FastFM\n",
    "    - 기능\n",
    "        - 행렬 인수분해라는 기능을 일반화하여서 제공 -> 차원 축소\n",
    "        - 범주형 변수를 파생변수로 변환하여 범주간의 상호 작용성을 계산\n",
    "        - 특징 간 영향을 주고 받은 상호 작용 개념을 계산"
   ]
  },
  {
   "cell_type": "markdown",
   "metadata": {},
   "source": [
    "- FastFM 제공 알고리즘\n",
    "    - ALS : 교대 최소 제곱법\n",
    "        - 장점 : 예측시간 빠름, SGD에 비해 하이퍼 파라미터가 작다.\n",
    "        - 단점 : 규제처리가 필요\n",
    "    - SGD : 확률적 경사 하강법\n",
    "        - 장점 : 예측시간 빠름, 빅데이터를 빠르게 처리학습 할 수 있다.\n",
    "        - 단점 : 하이퍼 파라미터가 많다, 규체처리가 필요\n",
    "    - MCMC : 마르코프 연쇄 몬테카를로\n",
    "        - 장점 : 하이퍼 파라미터가 작다, 자동규제\n",
    "        - 단점 : 학습시간이 느리다"
   ]
  },
  {
   "cell_type": "code",
   "execution_count": null,
   "metadata": {},
   "outputs": [],
   "source": [
    "# 아마존 EC2 서버에 접속하였다.\n",
    "# febric3을 이용하여 이하 과정을 자동화 할 수 있다.\n",
    "\n",
    "# 리눅스 상에서 루트 권한 획득\n",
    "$ sudo su\n",
    "\n",
    "# 리눅스의 현재 설치된 패키지 등을 최신으로 업그레이드\n",
    "$ apt-get update && apt-get -y upgrade\n",
    "\n",
    "# 패키지 설치(파이썬이 설치되어 있으면 파이썬 부분은 제외)\n",
    "$ apt-get -y install python3-dev python3-pip git nano wget unzip libopenblas-dev\n",
    "\n",
    "# 파이썬이 있으면 이하만 설치\n",
    "$ apt-get -y install python3-pip git nano wget unzip libopenblas-dev\n",
    "\n",
    "# fastFM 소스 다운로드\n",
    "$ git clone --recursive https://github.com/ibayer/fastFM.git\n",
    "$ cd fastFM\n",
    "\n",
    "# 컴파일을 수행하기 전에 python 모듈 설치\n",
    "# 내용 확인\n",
    "$ cat requirements.txt\n",
    "$ pip3 install -r ./requirements.txt\n",
    "\n",
    "# 컴파일 -> 마지막 부분에 error가 보여도 무시\n",
    "$ PYTHON=python3 make\n",
    "\n",
    "# fastFM 설치\n",
    "$ pip3 install .\n",
    "\n",
    "# 확인\n",
    "$ python3\n",
    ">>> from fastFM import als\n",
    ">>> exit()\n",
    "\n",
    "# 개발에 필요한 패키지 설치\n",
    "$ pip3 install pandas matplotlib jupyter\n",
    "\n",
    "# (옵션)삭제\n",
    "$ rm -r -f 폴더명\n",
    "\n",
    "# 주피터 가동\n",
    "$ cd ..\n",
    "$ mkdir dev && cd dev\n",
    "$ jupyter notebook --ip=0.0.0.0 --port=8888 --allow-root --no-browser\n",
    "$ jupyter notebook --ip=0.0.0.0 --allow-root --no-browser\n",
    "\n",
    "# 백그라운드에서 주피터 가동\n",
    "$ nohup jupyter-notebook --ip=0.0.0.0 --port=8888 --allow-root --no-browser 1>/dev/null 2>&1 &\n",
    "\n",
    "# 만약 토큰이 궁금하면\n",
    "$ jupyter-notebook list\n",
    "Currently running servers:\n",
    "http://0.0.0.0:8888/?token=5367a490fd597ea07a79a704c4392edd52de7d13d5e914e0 :: /home/ubuntu/dev\n",
    "\n",
    "# 터미널 닫아도됨\n",
    "\n",
    "# 향후 백그라운드에서 주피터 죽이기\n",
    "$ ps -e\n",
    "---------------------------------------\n",
    " 7127 pts/0    00:00:00 jupyter-noteboo\n",
    "---------------------------------------\n",
    "# 프로세스 목록에서 jupyter-notebook를 찾아서\n",
    "$ kill -9 7127"
   ]
  },
  {
   "cell_type": "markdown",
   "metadata": {},
   "source": [
    "- 여기서부터는 리눅스에서 운용되므로 현 파일은 종료\n",
    "    - 단, 리눅스 서버에서 주피터를 새로 가동했으면 토큰은 신규로 입력해야 한다.\n",
    "http://52.78.182.11:8888"
   ]
  },
  {
   "cell_type": "code",
   "execution_count": 39,
   "metadata": {},
   "outputs": [],
   "source": [
    "from sklearn.feature_extraction import DictVectorizer\n",
    "import numpy as np"
   ]
  },
  {
   "cell_type": "code",
   "execution_count": 40,
   "metadata": {},
   "outputs": [],
   "source": [
    "# DictVectorizer : 문자열만 벡터화 처리\n",
    "v = DictVectorizer()"
   ]
  },
  {
   "cell_type": "code",
   "execution_count": 41,
   "metadata": {},
   "outputs": [],
   "source": [
    "# 더미 데이터\n",
    "# 사용자 ID, 사용자가 평가한 영화 ID, 사용자의 나이\n",
    "train = [\n",
    "    {'uid': '1', 'mid': '5', 'age': 19},\n",
    "    {'uid': '2', 'mid': '55', 'age': 33},\n",
    "    {'uid': '3', 'mid': '20', 'age': 42},\n",
    "    {'uid': '4', 'mid': '10', 'age': 20}\n",
    "]"
   ]
  },
  {
   "cell_type": "code",
   "execution_count": 42,
   "metadata": {},
   "outputs": [
    {
     "data": {
      "text/plain": [
       "array([[19.,  0.,  0.,  1.,  0.,  1.,  0.,  0.,  0.],\n",
       "       [33.,  0.,  0.,  0.,  1.,  0.,  1.,  0.,  0.],\n",
       "       [42.,  0.,  1.,  0.,  0.,  0.,  0.,  1.,  0.],\n",
       "       [20.,  1.,  0.,  0.,  0.,  0.,  0.,  0.,  1.]])"
      ]
     },
     "execution_count": 42,
     "metadata": {},
     "output_type": "execute_result"
    }
   ],
   "source": [
    "X = v.fit_transform(train)\n",
    "\n",
    "# 수치는 그대로 배치, 문자열이 들어간 데이터는 벡터화로 처리\n",
    "# 문자열은 범주형으로 보고 해당 케이스 별로 배치하여 0 혹은 1로 표시\n",
    "X.toarray()"
   ]
  },
  {
   "cell_type": "code",
   "execution_count": 43,
   "metadata": {},
   "outputs": [],
   "source": [
    "# als를 이용해서 처리\n",
    "from fastFM import als\n",
    "from sklearn.model_selection import learning_curve"
   ]
  },
  {
   "cell_type": "code",
   "execution_count": 44,
   "metadata": {},
   "outputs": [],
   "source": [
    "# 더미데이터 중 20살짜리 유저 1번은 영화 5번에 평점 5.0을 부여했다.\n",
    "# 유저별로 부여한 평점\n",
    "y = np.array([5.0, 1.0, 2.0, 4.0])"
   ]
  },
  {
   "cell_type": "code",
   "execution_count": 45,
   "metadata": {},
   "outputs": [
    {
     "data": {
      "text/plain": [
       "FMRegression(init_stdev=0.1, l2_reg=0, l2_reg_V=0.5, l2_reg_w=0.1, n_iter=1000,\n",
       "             random_state=123, rank=2)"
      ]
     },
     "execution_count": 45,
     "metadata": {},
     "output_type": "execute_result"
    }
   ],
   "source": [
    "# als를 이용하여 fastFM의 회귀 모델을 초기화 후 학습을 진행\n",
    "# 하이퍼 파라미터는 임시값 부여\n",
    "fm = als.FMRegression(n_iter=1000, init_stdev=0.1, rank=2, l2_reg_w=0.1, l2_reg_V=0.5)\n",
    "fm.fit(X, y)"
   ]
  },
  {
   "cell_type": "code",
   "execution_count": 46,
   "metadata": {},
   "outputs": [
    {
     "data": {
      "text/plain": [
       "array([3.49483358])"
      ]
     },
     "execution_count": 46,
     "metadata": {},
     "output_type": "execute_result"
    }
   ],
   "source": [
    "# 예측\n",
    "# 새로운 유저가 신규 가입을 하였다. uid가 5번이 되었다.\n",
    "# 나이가 24인 유저 5번이 영화 10번에 대해 내릴 평점을 예측해라.\n",
    "# {'uid': '5', 'mid': '10', 'age': 24}\n",
    "fm.predict(v.transform({'uid': '5', 'mid': '10', 'age': 24}))"
   ]
  },
  {
   "cell_type": "markdown",
   "metadata": {},
   "source": [
    "- 제공되는 데이터 ua.base, ua.test는 훈련용과 테스트용이 구분되어 있다.\n",
    "- 이를 읽어서 자료구조를 만드는 형태로 처리하는 함수 구현"
   ]
  },
  {
   "cell_type": "code",
   "execution_count": 47,
   "metadata": {},
   "outputs": [],
   "source": [
    "def loadData(fileName, path='./table/ml-100k/'):\n",
    "    data = list()    # 학습용 데이터 형태\n",
    "    y = list()       # 답안(평정)\n",
    "    \n",
    "    # 데이터 추출 및 구조 작업\n",
    "    with open(path + fileName) as f:\n",
    "        \n",
    "        # 파일을 한 줄씩 읽음\n",
    "        for line in f:\n",
    "            \n",
    "            # 데이터 한 줄을 구분해서 추출\n",
    "            uid, mid, rating, ts = line.split('\\t')\n",
    "            \n",
    "            # 유저아이디와 영화아이디 추가\n",
    "            data.append({'uid': str(uid), 'mid': str(mid)})\n",
    "            \n",
    "            # 점수 추가\n",
    "            y.append(float(rating))\n",
    "            \n",
    "    return data, np.array(y) \n",
    "\n",
    "# 훈련용 데이터 획득\n",
    "train_data, y_train = loadData('ua.base')"
   ]
  },
  {
   "cell_type": "code",
   "execution_count": 49,
   "metadata": {},
   "outputs": [
    {
     "data": {
      "text/plain": [
       "(90570, 90570)"
      ]
     },
     "execution_count": 49,
     "metadata": {},
     "output_type": "execute_result"
    }
   ],
   "source": [
    "len(train_data), len(y_train)"
   ]
  },
  {
   "cell_type": "code",
   "execution_count": 50,
   "metadata": {},
   "outputs": [
    {
     "data": {
      "text/plain": [
       "(9430, 9430)"
      ]
     },
     "execution_count": 50,
     "metadata": {},
     "output_type": "execute_result"
    }
   ],
   "source": [
    "# 테스트용 데이터 획득\n",
    "test_data, y_test = loadData('ua.test')\n",
    "len(test_data), len(y_test)"
   ]
  },
  {
   "cell_type": "code",
   "execution_count": 51,
   "metadata": {},
   "outputs": [],
   "source": [
    "# 해당 함수 확장 loadDataEx\n",
    "# 평가에 참가한 유저들의 ID만 모은 데이터셋, 영화의 ID만 모은 데이터셋\n",
    "def loadDataEx(fileName, path='./table/ml-100k/'):\n",
    "    data = list()\n",
    "    y = list()\n",
    "    \n",
    "    # 중복 데이터를 제거하는 자료구조 생성\n",
    "    users = set()\n",
    "    movies = set()\n",
    "    \n",
    "    with open(path + fileName) as f:\n",
    "        for line in f:\n",
    "            uid, mid, rating, ts = line.split('\\t')\n",
    "            \n",
    "            data.append({'uid': str(uid), 'mid': str(mid)})\n",
    "            y.append(float(rating))\n",
    "            \n",
    "            users.add(uid)\n",
    "            movies.add(mid)\n",
    "            \n",
    "    return data, np.array(y), users, movies"
   ]
  },
  {
   "cell_type": "code",
   "execution_count": 52,
   "metadata": {},
   "outputs": [],
   "source": [
    "# 훈련용 데이터 획득\n",
    "train_data, y_train, train_users, train_movies = loadDataEx('ua.base')\n",
    "\n",
    "# 테스트용 데이터 획득\n",
    "test_data, y_test, test_users, test_movies = loadDataEx('ua.test')"
   ]
  },
  {
   "cell_type": "code",
   "execution_count": 53,
   "metadata": {},
   "outputs": [
    {
     "data": {
      "text/plain": [
       "(943, 1680, 943, 1129)"
      ]
     },
     "execution_count": 53,
     "metadata": {},
     "output_type": "execute_result"
    }
   ],
   "source": [
    "# 훈련용 및 테스트용에 참가한 유저수는 동수\n",
    "# 영화수는 훈련용이 테스트용보다 많다.\n",
    "len(train_users), len(train_movies), len(test_users), len(test_movies)"
   ]
  },
  {
   "cell_type": "markdown",
   "metadata": {},
   "source": [
    "- 데이터의 벡터화 처리\n",
    "- 사전에 데이터들을 다 문자로 처리했다.\n",
    "- 평점만 빼고 uid, mid 값은 현재 문자열이다."
   ]
  },
  {
   "cell_type": "code",
   "execution_count": 54,
   "metadata": {},
   "outputs": [
    {
     "data": {
      "text/plain": [
       "[{'uid': '1', 'mid': '1'}]"
      ]
     },
     "execution_count": 54,
     "metadata": {},
     "output_type": "execute_result"
    }
   ],
   "source": [
    "# 확인\n",
    "train_data[:1]"
   ]
  },
  {
   "cell_type": "code",
   "execution_count": 55,
   "metadata": {},
   "outputs": [
    {
     "data": {
      "text/plain": [
       "((90570, 2623), scipy.sparse.csr.csr_matrix)"
      ]
     },
     "execution_count": 55,
     "metadata": {},
     "output_type": "execute_result"
    }
   ],
   "source": [
    "# 훈련용 데이터의 벡터화\n",
    "X_train = v.fit_transform(train_data)\n",
    "X_train.shape, type(X_train)"
   ]
  },
  {
   "cell_type": "code",
   "execution_count": 56,
   "metadata": {},
   "outputs": [
    {
     "data": {
      "text/plain": [
       "(9430, 2072)"
      ]
     },
     "execution_count": 56,
     "metadata": {},
     "output_type": "execute_result"
    }
   ],
   "source": [
    "# 테스트용 데이터의 벡터화\n",
    "X_test = v.fit_transform(test_data)\n",
    "X_test.shape"
   ]
  },
  {
   "cell_type": "code",
   "execution_count": 57,
   "metadata": {},
   "outputs": [
    {
     "data": {
      "text/plain": [
       "(1.1260664426539722, 1.120180145761465)"
      ]
     },
     "execution_count": 57,
     "metadata": {},
     "output_type": "execute_result"
    }
   ],
   "source": [
    "# 표준편차 확인 -> 회귀에서 평가지수 -> 평균제곱근오차를 계산할 때 평가 잣대\n",
    "np.std(y_train), np.std(y_test)"
   ]
  },
  {
   "cell_type": "code",
   "execution_count": 58,
   "metadata": {},
   "outputs": [],
   "source": [
    "from sklearn.model_selection import train_test_split"
   ]
  },
  {
   "cell_type": "code",
   "execution_count": 59,
   "metadata": {},
   "outputs": [],
   "source": [
    "# 9:1 비율(임의 설정)\n",
    "# random_state -> 항상 동일하게 데이터가 섞이게 하기 위해서\n",
    "X_train, X_train_test, y_train, y_train_test = train_test_split(X_train, y_train, test_size=0.1, random_state=42)"
   ]
  },
  {
   "cell_type": "code",
   "execution_count": 60,
   "metadata": {},
   "outputs": [
    {
     "data": {
      "text/plain": [
       "((81513, 2623), (9057, 2623))"
      ]
     },
     "execution_count": 60,
     "metadata": {},
     "output_type": "execute_result"
    }
   ],
   "source": [
    "X_train.shape, X_train_test.shape"
   ]
  },
  {
   "cell_type": "markdown",
   "metadata": {},
   "source": [
    "- 데이터는 모두 준비되었다.\n",
    "- 회귀 모델에 학습 및 예측을 수행하기 위해 데이터의 형태를 알고리즘에 맞춰서 구성하였다.\n",
    "\n",
    "- 알고리즘 선택\n",
    "    - mcmc\n",
    "        - 학습 및 예측 수행\n",
    "        - 시각화를 통해서 수렴해가는 과정 확인\n",
    "        - 테스트 데이터를 이용한 성능 측정\n",
    "            - 평균제곱근오차 및 손실함수를 이용하여 평가\n",
    "        - 하이퍼 파라미터 활용(고정)하여 평점의 정규화 처리, 성능 평가\n",
    "        - 기타 정보 추가"
   ]
  },
  {
   "cell_type": "code",
   "execution_count": null,
   "metadata": {},
   "outputs": [],
   "source": []
  },
  {
   "cell_type": "code",
   "execution_count": null,
   "metadata": {},
   "outputs": [],
   "source": []
  },
  {
   "cell_type": "code",
   "execution_count": null,
   "metadata": {},
   "outputs": [],
   "source": []
  },
  {
   "cell_type": "code",
   "execution_count": null,
   "metadata": {},
   "outputs": [],
   "source": [
    "# 6. 시스템 통합(서비스에 반영, OTT, 쇼핑몰 등 대상)"
   ]
  }
 ],
 "metadata": {
  "kernelspec": {
   "display_name": "Python 3",
   "language": "python",
   "name": "python3"
  },
  "language_info": {
   "codemirror_mode": {
    "name": "ipython",
    "version": 3
   },
   "file_extension": ".py",
   "mimetype": "text/x-python",
   "name": "python",
   "nbconvert_exporter": "python",
   "pygments_lexer": "ipython3",
   "version": "3.6.9"
  }
 },
 "nbformat": 4,
 "nbformat_minor": 4
}
